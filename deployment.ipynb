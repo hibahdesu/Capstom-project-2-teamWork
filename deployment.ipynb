{
 "cells": [
  {
   "cell_type": "markdown",
   "id": "cfa1de0d",
   "metadata": {},
   "source": [
    "## Import Modules, Load Data and Data Review"
   ]
  },
  {
   "cell_type": "code",
   "execution_count": 1,
   "id": "204558f8",
   "metadata": {},
   "outputs": [],
   "source": [
    "#First, importing the neccesary libaries, such as numpy, pandas\n",
    "import pandas as pd\n",
    "import numpy as np\n",
    "\n",
    "#Importing the plotting libraries, such as matplotlib and seaborn\n",
    "import matplotlib.pyplot as plt\n",
    "import seaborn as sns\n",
    "\n",
    "#Importing the scaling libraries\n",
    "from sklearn.preprocessing import StandardScaler, MinMaxScaler, RobustScaler\n",
    "\n",
    "#Importing the evaluation libraries, such as mean_squared_error, mean_absolute_error, r2_score\n",
    "from sklearn.metrics import mean_squared_error, mean_absolute_error, r2_score\n",
    "\n",
    "#Importing the train_test_split to split the data\n",
    "from sklearn.model_selection import train_test_split\n",
    "\n",
    "from scipy.stats import skew\n",
    "\n",
    "#Importing the cross validation\n",
    "from sklearn.model_selection import cross_validate\n",
    "\n",
    "#Importing make_column_transformer for tranforming\n",
    "from sklearn.compose import make_column_transformer\n",
    "\n",
    "#Importing OneHotEncoder, OrdinalEncoder to use them on the object data\n",
    "from sklearn.preprocessing import OneHotEncoder, OrdinalEncoder\n",
    "\n",
    "#Importing ResidualsPlot\n",
    "from yellowbrick.regressor import ResidualsPlot\n",
    "\n",
    "#Importing PredictionError\n",
    "from yellowbrick.regressor import PredictionError\n",
    "\n",
    "#Importing RadViz\n",
    "from yellowbrick.features import RadViz\n",
    "\n",
    "#Importing LinearRegression model\n",
    "from sklearn.linear_model import LinearRegression\n",
    "\n",
    "#Importing Ridge model\n",
    "from sklearn.linear_model import Ridge\n",
    "\n",
    "#Importing GridSearchCV to find the best result from the hyperparameters\n",
    "from sklearn.model_selection import GridSearchCV\n",
    "\n",
    "#Importing ValidationCurve\n",
    "from yellowbrick.model_selection import ValidationCurve\n",
    "\n",
    "#Importing Lasso model\n",
    "from sklearn.linear_model import Lasso\n",
    "\n",
    "#Importing ElasticNet\n",
    "from sklearn.linear_model import ElasticNet\n",
    "\n",
    "#Importing RandomForestRegressor\n",
    "from sklearn.ensemble import RandomForestRegressor\n",
    "\n",
    "#Importing pipeline\n",
    "from sklearn.pipeline import Pipeline\n",
    "\n",
    "#Importing ResidualsPlot\n",
    "from yellowbrick.regressor import ResidualsPlot\n",
    "\n",
    "#Importing LazyRegressor\n",
    "from lazypredict.Supervised import LazyRegressor\n",
    "\n",
    "#Importing pickle\n",
    "import pickle\n",
    "\n",
    "import warnings\n",
    "warnings.filterwarnings('ignore')\n",
    "plt.rcParams[\"figure.figsize\"] = (14,6)\n",
    "pd.set_option('display.max_columns', 500)\n",
    "pd.set_option('display.max_rows', 1000)\n",
    "pd.options.display.float_format = '{:.3f}'.format"
   ]
  },
  {
   "cell_type": "code",
   "execution_count": null,
   "id": "28b8bf31",
   "metadata": {},
   "outputs": [],
   "source": [
    "# pip install scikit-learn==1.2.2"
   ]
  },
  {
   "cell_type": "code",
   "execution_count": 2,
   "id": "1b2fe5db",
   "metadata": {},
   "outputs": [
    {
     "name": "stdout",
     "output_type": "stream",
     "text": [
      "Package                       Version\n",
      "----------------------------- ---------------\n",
      "absl-py                       2.0.0\n",
      "aiobotocore                   2.5.0\n",
      "aiofiles                      22.1.0\n",
      "aiohttp                       3.8.5\n",
      "aioitertools                  0.7.1\n",
      "aiosignal                     1.2.0\n",
      "aiosqlite                     0.18.0\n",
      "alabaster                     0.7.12\n",
      "alembic                       1.12.0\n",
      "anaconda-anon-usage           0.4.3\n",
      "anaconda-catalogs             0.2.0\n",
      "anaconda-client               1.11.3\n",
      "anaconda-cloud-auth           0.1.3\n",
      "anaconda-navigator            2.5.0\n",
      "anaconda-project              0.11.1\n",
      "anyio                         3.5.0\n",
      "appdirs                       1.4.4\n",
      "argon2-cffi                   21.3.0\n",
      "argon2-cffi-bindings          21.2.0\n",
      "arrow                         1.2.3\n",
      "astroid                       2.14.2\n",
      "astropy                       5.1\n",
      "asttokens                     2.0.5\n",
      "astunparse                    1.6.3\n",
      "async-timeout                 4.0.2\n",
      "atomicwrites                  1.4.0\n",
      "attrs                         23.1.0\n",
      "Automat                       20.2.0\n",
      "autopep8                      1.6.0\n",
      "Babel                         2.11.0\n",
      "backcall                      0.2.0\n",
      "backports.functools-lru-cache 1.6.4\n",
      "backports.tempfile            1.0\n",
      "backports.weakref             1.0.post1\n",
      "bcrypt                        3.2.0\n",
      "beautifulsoup4                4.12.2\n",
      "binaryornot                   0.4.4\n",
      "black                         0.0\n",
      "bleach                        4.1.0\n",
      "bokeh                         3.2.1\n",
      "boltons                       23.0.0\n",
      "boto3                         1.26.76\n",
      "botocore                      1.29.76\n",
      "Bottleneck                    1.3.5\n",
      "branca                        0.6.0\n",
      "brotlipy                      0.7.0\n",
      "cachetools                    5.3.1\n",
      "certifi                       2023.7.22\n",
      "cffi                          1.15.1\n",
      "chardet                       4.0.0\n",
      "charset-normalizer            2.0.4\n",
      "click                         8.0.4\n",
      "cloudpickle                   2.2.1\n",
      "clyent                        1.2.2\n",
      "colorama                      0.4.6\n",
      "colorcet                      3.0.1\n",
      "colorlog                      6.7.0\n",
      "comm                          0.1.2\n",
      "conda                         23.9.0\n",
      "conda-build                   3.27.0\n",
      "conda-content-trust           0.2.0\n",
      "conda_index                   0.3.0\n",
      "conda-libmamba-solver         23.9.1\n",
      "conda-pack                    0.6.0\n",
      "conda-package-handling        2.2.0\n",
      "conda_package_streaming       0.9.0\n",
      "conda-repo-cli                1.0.75\n",
      "conda-token                   0.4.0\n",
      "conda-verify                  3.4.2\n",
      "constantly                    15.1.0\n",
      "contourpy                     1.0.5\n",
      "cookiecutter                  1.7.3\n",
      "cryptography                  41.0.3\n",
      "cssselect                     1.1.0\n",
      "cycler                        0.11.0\n",
      "cytoolz                       0.12.0\n",
      "daal4py                       2023.1.1\n",
      "dask                          2023.6.0\n",
      "datashader                    0.15.2\n",
      "datashape                     0.5.4\n",
      "deap                          1.4.1\n",
      "debugpy                       1.6.7\n",
      "decorator                     5.1.1\n",
      "defusedxml                    0.7.1\n",
      "diff-match-patch              20200713\n",
      "dill                          0.3.7\n",
      "distributed                   2023.6.0\n",
      "docstring-to-markdown         0.11\n",
      "docutils                      0.18.1\n",
      "entrypoints                   0.4\n",
      "et-xmlfile                    1.1.0\n",
      "executing                     0.8.3\n",
      "fastjsonschema                2.16.2\n",
      "filelock                      3.9.0\n",
      "flake8                        6.0.0\n",
      "Flask                         2.2.2\n",
      "flatbuffers                   23.5.26\n",
      "folium                        0.14.0\n",
      "fonttools                     4.25.0\n",
      "frozenlist                    1.3.3\n",
      "fsspec                        2023.4.0\n",
      "fst-pso                       1.8.1\n",
      "future                        0.18.3\n",
      "FuzzyTM                       2.0.5\n",
      "gast                          0.5.4\n",
      "gensim                        4.3.0\n",
      "google-auth                   2.23.3\n",
      "google-auth-oauthlib          1.0.0\n",
      "google-pasta                  0.2.0\n",
      "greenlet                      2.0.1\n",
      "grpcio                        1.59.0\n",
      "h5py                          3.9.0\n",
      "HeapDict                      1.0.1\n",
      "holoviews                     1.17.1\n",
      "huggingface-hub               0.17.3\n",
      "hvplot                        0.8.4\n",
      "hyperlink                     21.0.0\n",
      "idna                          3.4\n",
      "imagecodecs                   2023.1.23\n",
      "imageio                       2.31.4\n",
      "imagesize                     1.4.1\n",
      "imbalanced-learn              0.11.0\n",
      "imblearn                      0.0\n",
      "importlib-metadata            6.0.0\n",
      "incremental                   21.3.0\n",
      "inflection                    0.5.1\n",
      "iniconfig                     1.1.1\n",
      "intake                        0.6.8\n",
      "intervaltree                  3.1.0\n",
      "ipykernel                     6.25.0\n",
      "ipython                       8.15.0\n",
      "ipython-genutils              0.2.0\n",
      "ipywidgets                    8.0.4\n",
      "isort                         5.9.3\n",
      "itemadapter                   0.3.0\n",
      "itemloaders                   1.0.4\n",
      "itsdangerous                  2.0.1\n",
      "jaraco.classes                3.2.1\n",
      "jedi                          0.18.1\n",
      "jellyfish                     1.0.1\n",
      "Jinja2                        3.1.2\n",
      "jinja2-time                   0.2.0\n",
      "jmespath                      0.10.0\n",
      "joblib                        1.2.0\n",
      "json5                         0.9.6\n",
      "jsonpatch                     1.32\n",
      "jsonpointer                   2.1\n",
      "jsonschema                    4.17.3\n",
      "jupyter                       1.0.0\n",
      "jupyter_client                7.4.9\n",
      "jupyter-console               6.6.3\n",
      "jupyter_core                  5.3.0\n",
      "jupyter-events                0.6.3\n",
      "jupyter-server                1.23.4\n",
      "jupyter_server_fileid         0.9.0\n",
      "jupyter_server_ydoc           0.8.0\n",
      "jupyter-ydoc                  0.2.4\n",
      "jupyterlab                    3.6.3\n",
      "jupyterlab-pygments           0.1.2\n",
      "jupyterlab_server             2.22.0\n",
      "jupyterlab-widgets            3.0.5\n",
      "keras                         2.14.0\n",
      "keyring                       23.13.1\n",
      "kiwisolver                    1.4.4\n",
      "lazy_loader                   0.3\n",
      "lazy-object-proxy             1.6.0\n",
      "lazypredict                   0.2.12\n",
      "libarchive-c                  2.9\n",
      "libclang                      16.0.6\n",
      "libmambapy                    1.5.1\n",
      "lightgbm                      4.1.0\n",
      "linkify-it-py                 2.0.0\n",
      "llvmlite                      0.41.0\n",
      "lmdb                          1.4.1\n",
      "locket                        1.0.0\n",
      "lxml                          4.9.3\n",
      "lz4                           4.3.2\n",
      "Mako                          1.2.4\n",
      "Markdown                      3.4.1\n",
      "markdown-it-py                2.2.0\n",
      "MarkupSafe                    2.1.1\n",
      "matplotlib                    3.7.2\n",
      "matplotlib-inline             0.1.6\n",
      "mccabe                        0.7.0\n",
      "mdit-py-plugins               0.3.0\n",
      "mdurl                         0.1.0\n",
      "menuinst                      1.4.19\n",
      "miniful                       0.0.6\n",
      "missingno                     0.5.2\n",
      "mistune                       0.8.4\n",
      "mkl-fft                       1.3.8\n",
      "mkl-random                    1.2.4\n",
      "mkl-service                   2.4.0\n",
      "ml-dtypes                     0.2.0\n",
      "more-itertools                8.12.0\n",
      "mpmath                        1.3.0\n",
      "msgpack                       1.0.3\n",
      "multidict                     6.0.2\n",
      "multipledispatch              0.6.0\n",
      "munkres                       1.1.4\n",
      "mypy-extensions               1.0.0\n",
      "navigator-updater             0.4.0\n",
      "nbclassic                     0.5.5\n",
      "nbclient                      0.5.13\n",
      "nbconvert                     6.5.4\n",
      "nbformat                      5.9.2\n",
      "nest-asyncio                  1.5.6\n",
      "networkx                      3.1\n",
      "nltk                          3.8.1\n",
      "notebook                      6.5.4\n",
      "notebook_shim                 0.2.2\n",
      "numba                         0.58.0\n",
      "numexpr                       2.8.7\n",
      "numpy                         1.24.3\n",
      "numpydoc                      1.5.0\n",
      "oauthlib                      3.2.2\n",
      "openpyxl                      3.0.10\n",
      "opt-einsum                    3.3.0\n",
      "optuna                        3.4.0\n",
      "packaging                     23.1\n",
      "pandas                        2.0.3\n",
      "pandocfilters                 1.5.0\n",
      "panel                         1.2.3\n",
      "param                         1.13.0\n",
      "paramiko                      2.8.1\n",
      "parsel                        1.6.0\n",
      "parso                         0.8.3\n",
      "partd                         1.4.0\n",
      "pathlib                       1.0.1\n",
      "pathspec                      0.10.3\n",
      "patsy                         0.5.3\n",
      "pep8                          1.7.1\n",
      "pexpect                       4.8.0\n",
      "pickleshare                   0.7.5\n",
      "Pillow                        10.0.1\n",
      "pip                           23.1.2\n",
      "pkce                          1.0.3\n",
      "pkginfo                       1.9.6\n",
      "platformdirs                  3.10.0\n",
      "plotly                        5.9.0\n",
      "pluggy                        1.0.0\n",
      "ply                           3.11\n",
      "poyo                          0.5.0\n",
      "prometheus-client             0.14.1\n",
      "prompt-toolkit                3.0.36\n",
      "Protego                       0.1.16\n",
      "protobuf                      4.24.4\n",
      "psutil                        5.9.0\n",
      "ptyprocess                    0.7.0\n",
      "pure-eval                     0.2.2\n",
      "py-cpuinfo                    8.0.0\n",
      "pyarrow                       11.0.0\n",
      "pyasn1                        0.4.8\n",
      "pyasn1-modules                0.2.8\n",
      "pycodestyle                   2.10.0\n",
      "pycosat                       0.6.6\n",
      "pycparser                     2.21\n",
      "pyct                          0.5.0\n",
      "pycurl                        7.45.2\n",
      "pydantic                      1.10.12\n",
      "PyDispatcher                  2.0.5\n",
      "pydocstyle                    6.3.0\n",
      "pyerfa                        2.0.0\n",
      "pyflakes                      3.0.1\n",
      "pyFUME                        0.2.25\n",
      "Pygments                      2.15.1\n",
      "PyJWT                         2.4.0\n",
      "pylint                        2.16.2\n",
      "pylint-venv                   2.3.0\n",
      "pyls-spyder                   0.4.0\n",
      "PyNaCl                        1.5.0\n",
      "pyodbc                        4.0.39\n",
      "pyOpenSSL                     23.2.0\n",
      "pyparsing                     3.0.9\n",
      "PyQt5                         5.15.7\n",
      "PyQt5-sip                     12.11.0\n",
      "PyQtWebEngine                 5.15.4\n",
      "pyrsistent                    0.18.0\n",
      "PySocks                       1.7.1\n",
      "pytest                        7.4.0\n",
      "python-dateutil               2.8.2\n",
      "python-dotenv                 0.21.0\n",
      "python-json-logger            2.0.7\n",
      "python-lsp-black              1.2.1\n",
      "python-lsp-jsonrpc            1.0.0\n",
      "python-lsp-server             1.7.2\n",
      "python-slugify                5.0.2\n",
      "python-snappy                 0.6.1\n",
      "pytoolconfig                  1.2.5\n",
      "pytz                          2023.3.post1\n",
      "pyviz-comms                   2.3.0\n",
      "PyWavelets                    1.4.1\n",
      "pywin32                       305.1\n",
      "pywin32-ctypes                0.2.0\n",
      "pywinpty                      2.0.10\n",
      "PyYAML                        6.0\n",
      "pyzmq                         23.2.0\n",
      "QDarkStyle                    3.0.2\n",
      "qstylizer                     0.2.2\n",
      "QtAwesome                     1.2.2\n",
      "qtconsole                     5.4.2\n",
      "QtPy                          2.2.0\n",
      "queuelib                      1.6.2\n",
      "regex                         2023.10.3\n",
      "requests                      2.31.0\n",
      "requests-file                 1.5.1\n",
      "requests-oauthlib             1.3.1\n",
      "requests-toolbelt             1.0.0\n",
      "rfc3339-validator             0.1.4\n",
      "rfc3986-validator             0.1.1\n",
      "rope                          1.7.0\n",
      "rsa                           4.9\n",
      "Rtree                         1.0.1\n",
      "ruamel.yaml                   0.17.21\n",
      "ruamel-yaml-conda             0.17.21\n",
      "s3fs                          2023.4.0\n",
      "s3transfer                    0.6.0\n",
      "sacremoses                    0.0.43\n",
      "safetensors                   0.4.0\n",
      "scikeras                      0.12.0\n",
      "scikit-image                  0.20.0\n",
      "scikit-learn                  1.2.2\n",
      "scikit-learn-intelex          20230426.121932\n",
      "scikit-plot                   0.3.7\n",
      "scipy                         1.11.3\n",
      "Scrapy                        2.8.0\n",
      "seaborn                       0.12.2\n",
      "Send2Trash                    1.8.0\n",
      "service-identity              18.1.0\n",
      "setuptools                    67.8.0\n",
      "shap                          0.43.0\n",
      "simpful                       2.11.0\n",
      "sip                           6.6.2\n",
      "six                           1.16.0\n",
      "slicer                        0.0.7\n",
      "smart-open                    5.2.1\n",
      "sniffio                       1.2.0\n",
      "snowballstemmer               2.2.0\n",
      "sortedcontainers              2.4.0\n",
      "soupsieve                     2.5\n",
      "Sphinx                        5.0.2\n",
      "sphinxcontrib-applehelp       1.0.2\n",
      "sphinxcontrib-devhelp         1.0.2\n",
      "sphinxcontrib-htmlhelp        2.0.0\n",
      "sphinxcontrib-jsmath          1.0.1\n",
      "sphinxcontrib-qthelp          1.0.3\n",
      "sphinxcontrib-serializinghtml 1.1.5\n",
      "spyder                        5.4.3\n",
      "spyder-kernels                2.4.4\n",
      "SQLAlchemy                    2.0.21\n",
      "stack-data                    0.2.0\n",
      "statsmodels                   0.14.0\n",
      "stopit                        1.1.2\n",
      "stopwordsiso                  0.6.1\n",
      "sympy                         1.11.1\n",
      "tables                        3.8.0\n",
      "tabulate                      0.8.10\n",
      "TBB                           0.2\n",
      "tblib                         1.7.0\n",
      "tenacity                      8.2.2\n",
      "tensorboard                   2.14.1\n",
      "tensorboard-data-server       0.7.2\n",
      "tensorflow                    2.14.0\n",
      "tensorflow-estimator          2.14.0\n",
      "tensorflow-intel              2.14.0\n",
      "tensorflow-io-gcs-filesystem  0.31.0\n",
      "termcolor                     2.3.0\n",
      "terminado                     0.17.1\n",
      "text-unidecode                1.3\n",
      "textdistance                  4.2.1\n",
      "threadpoolctl                 2.2.0\n",
      "three-merge                   0.1.1\n",
      "tifffile                      2023.4.12\n",
      "tinycss2                      1.2.1\n",
      "tldextract                    3.2.0\n",
      "tokenizers                    0.14.1\n",
      "toml                          0.10.2\n",
      "tomlkit                       0.11.1\n",
      "toolz                         0.12.0\n",
      "torch                         2.1.1\n",
      "tornado                       6.3.3\n",
      "TPOT                          0.12.1\n",
      "tqdm                          4.65.0\n",
      "traitlets                     5.7.1\n",
      "transformers                  4.35.0\n",
      "truststore                    0.8.0\n",
      "Twisted                       22.10.0\n",
      "twisted-iocpsupport           1.0.2\n",
      "typing_extensions             4.7.1\n",
      "tzdata                        2023.3\n",
      "uc-micro-py                   1.0.1\n",
      "ujson                         5.4.0\n",
      "Unidecode                     1.2.0\n",
      "update-checker                0.18.0\n",
      "urllib3                       1.26.16\n",
      "w3lib                         1.21.0\n",
      "watchdog                      2.1.6\n",
      "wcwidth                       0.2.5\n",
      "webencodings                  0.5.1\n",
      "websocket-client              0.58.0\n",
      "Werkzeug                      2.2.3\n",
      "whatthepatch                  1.0.2\n",
      "wheel                         0.38.4\n",
      "widgetsnbextension            4.0.5\n",
      "win-inet-pton                 1.1.0\n",
      "wordcloud                     1.9.2\n",
      "wrapt                         1.14.1\n",
      "xarray                        2023.6.0\n",
      "xgboost                       2.0.2\n",
      "xlwings                       0.29.1\n",
      "xyzservices                   2022.9.0\n",
      "y-py                          0.5.9\n",
      "yapf                          0.31.0\n",
      "yarl                          1.8.1\n",
      "yellowbrick                   1.5\n",
      "ypy-websocket                 0.8.2\n",
      "zict                          3.0.0\n",
      "zipp                          3.11.0\n",
      "zope.interface                5.4.0\n",
      "zstandard                     0.19.0\n",
      "Note: you may need to restart the kernel to use updated packages.\n"
     ]
    }
   ],
   "source": [
    "pip list"
   ]
  },
  {
   "cell_type": "code",
   "execution_count": 3,
   "id": "43b21dc9",
   "metadata": {},
   "outputs": [],
   "source": [
    "#The test size\n",
    "t = 0.2\n",
    "#The random value\n",
    "s = 101"
   ]
  },
  {
   "cell_type": "code",
   "execution_count": 2,
   "id": "e495fd80",
   "metadata": {
    "scrolled": false
   },
   "outputs": [
    {
     "data": {
      "text/html": [
       "<div>\n",
       "<style scoped>\n",
       "    .dataframe tbody tr th:only-of-type {\n",
       "        vertical-align: middle;\n",
       "    }\n",
       "\n",
       "    .dataframe tbody tr th {\n",
       "        vertical-align: top;\n",
       "    }\n",
       "\n",
       "    .dataframe thead th {\n",
       "        text-align: right;\n",
       "    }\n",
       "</style>\n",
       "<table border=\"1\" class=\"dataframe\">\n",
       "  <thead>\n",
       "    <tr style=\"text-align: right;\">\n",
       "      <th></th>\n",
       "      <th>make_model</th>\n",
       "      <th>body_type</th>\n",
       "      <th>price</th>\n",
       "      <th>vat</th>\n",
       "      <th>km</th>\n",
       "      <th>Type</th>\n",
       "      <th>Fuel</th>\n",
       "      <th>Gears</th>\n",
       "      <th>Comfort_Convenience</th>\n",
       "      <th>Entertainment_Media</th>\n",
       "      <th>Extras</th>\n",
       "      <th>Safety_Security</th>\n",
       "      <th>age</th>\n",
       "      <th>Previous_Owners</th>\n",
       "      <th>hp_kW</th>\n",
       "      <th>Inspection_new</th>\n",
       "      <th>Paint_Type</th>\n",
       "      <th>Upholstery_type</th>\n",
       "      <th>Gearing_Type</th>\n",
       "      <th>Displacement_cc</th>\n",
       "      <th>Weight_kg</th>\n",
       "      <th>Drive_chain</th>\n",
       "      <th>cons_comb</th>\n",
       "    </tr>\n",
       "  </thead>\n",
       "  <tbody>\n",
       "    <tr>\n",
       "      <th>0</th>\n",
       "      <td>Audi A1</td>\n",
       "      <td>Sedans</td>\n",
       "      <td>15770</td>\n",
       "      <td>VAT deductible</td>\n",
       "      <td>56013.000</td>\n",
       "      <td>Used</td>\n",
       "      <td>Diesel</td>\n",
       "      <td>7.000</td>\n",
       "      <td>Air conditioning,Armrest,Automatic climate con...</td>\n",
       "      <td>Bluetooth,Hands-free equipment,On-board comput...</td>\n",
       "      <td>Alloy wheels,Catalytic Converter,Voice Control</td>\n",
       "      <td>ABS,Central door lock,Daytime running lights,D...</td>\n",
       "      <td>3.000</td>\n",
       "      <td>2.000</td>\n",
       "      <td>66.000</td>\n",
       "      <td>1</td>\n",
       "      <td>Metallic</td>\n",
       "      <td>Cloth</td>\n",
       "      <td>Automatic</td>\n",
       "      <td>1422.000</td>\n",
       "      <td>1220.000</td>\n",
       "      <td>front</td>\n",
       "      <td>3.800</td>\n",
       "    </tr>\n",
       "    <tr>\n",
       "      <th>1</th>\n",
       "      <td>Audi A1</td>\n",
       "      <td>Sedans</td>\n",
       "      <td>14500</td>\n",
       "      <td>Price negotiable</td>\n",
       "      <td>80000.000</td>\n",
       "      <td>Used</td>\n",
       "      <td>Benzine</td>\n",
       "      <td>7.000</td>\n",
       "      <td>Air conditioning,Automatic climate control,Hil...</td>\n",
       "      <td>Bluetooth,Hands-free equipment,On-board comput...</td>\n",
       "      <td>Alloy wheels,Sport seats,Sport suspension,Voic...</td>\n",
       "      <td>ABS,Central door lock,Central door lock with r...</td>\n",
       "      <td>2.000</td>\n",
       "      <td>1.000</td>\n",
       "      <td>141.000</td>\n",
       "      <td>0</td>\n",
       "      <td>Metallic</td>\n",
       "      <td>Cloth</td>\n",
       "      <td>Automatic</td>\n",
       "      <td>1798.000</td>\n",
       "      <td>1255.000</td>\n",
       "      <td>front</td>\n",
       "      <td>5.600</td>\n",
       "    </tr>\n",
       "    <tr>\n",
       "      <th>2</th>\n",
       "      <td>Audi A1</td>\n",
       "      <td>Sedans</td>\n",
       "      <td>14640</td>\n",
       "      <td>VAT deductible</td>\n",
       "      <td>83450.000</td>\n",
       "      <td>Used</td>\n",
       "      <td>Diesel</td>\n",
       "      <td>7.000</td>\n",
       "      <td>Air conditioning,Cruise control,Electrical sid...</td>\n",
       "      <td>MP3,On-board computer</td>\n",
       "      <td>Alloy wheels,Voice Control</td>\n",
       "      <td>ABS,Central door lock,Daytime running lights,D...</td>\n",
       "      <td>3.000</td>\n",
       "      <td>1.000</td>\n",
       "      <td>85.000</td>\n",
       "      <td>0</td>\n",
       "      <td>Metallic</td>\n",
       "      <td>Cloth</td>\n",
       "      <td>Automatic</td>\n",
       "      <td>1598.000</td>\n",
       "      <td>1135.000</td>\n",
       "      <td>front</td>\n",
       "      <td>3.800</td>\n",
       "    </tr>\n",
       "    <tr>\n",
       "      <th>3</th>\n",
       "      <td>Audi A1</td>\n",
       "      <td>Sedans</td>\n",
       "      <td>14500</td>\n",
       "      <td>VAT deductible</td>\n",
       "      <td>73000.000</td>\n",
       "      <td>Used</td>\n",
       "      <td>Diesel</td>\n",
       "      <td>6.000</td>\n",
       "      <td>Air suspension,Armrest,Auxiliary heating,Elect...</td>\n",
       "      <td>Bluetooth,CD player,Hands-free equipment,MP3,O...</td>\n",
       "      <td>Alloy wheels,Sport seats,Voice Control</td>\n",
       "      <td>ABS,Alarm system,Central door lock with remote...</td>\n",
       "      <td>3.000</td>\n",
       "      <td>1.000</td>\n",
       "      <td>66.000</td>\n",
       "      <td>0</td>\n",
       "      <td>Metallic</td>\n",
       "      <td>Cloth</td>\n",
       "      <td>Automatic</td>\n",
       "      <td>1422.000</td>\n",
       "      <td>1195.000</td>\n",
       "      <td>front</td>\n",
       "      <td>3.800</td>\n",
       "    </tr>\n",
       "    <tr>\n",
       "      <th>4</th>\n",
       "      <td>Audi A1</td>\n",
       "      <td>Sedans</td>\n",
       "      <td>16790</td>\n",
       "      <td>VAT deductible</td>\n",
       "      <td>16200.000</td>\n",
       "      <td>Used</td>\n",
       "      <td>Diesel</td>\n",
       "      <td>7.000</td>\n",
       "      <td>Air conditioning,Armrest,Automatic climate con...</td>\n",
       "      <td>Bluetooth,CD player,Hands-free equipment,MP3,O...</td>\n",
       "      <td>Alloy wheels,Sport package,Sport suspension,Vo...</td>\n",
       "      <td>ABS,Central door lock,Driver-side airbag,Elect...</td>\n",
       "      <td>3.000</td>\n",
       "      <td>1.000</td>\n",
       "      <td>66.000</td>\n",
       "      <td>1</td>\n",
       "      <td>Metallic</td>\n",
       "      <td>Cloth</td>\n",
       "      <td>Automatic</td>\n",
       "      <td>1422.000</td>\n",
       "      <td>1135.000</td>\n",
       "      <td>front</td>\n",
       "      <td>4.100</td>\n",
       "    </tr>\n",
       "  </tbody>\n",
       "</table>\n",
       "</div>"
      ],
      "text/plain": [
       "  make_model body_type  price               vat        km  Type     Fuel  \\\n",
       "0    Audi A1    Sedans  15770    VAT deductible 56013.000  Used   Diesel   \n",
       "1    Audi A1    Sedans  14500  Price negotiable 80000.000  Used  Benzine   \n",
       "2    Audi A1    Sedans  14640    VAT deductible 83450.000  Used   Diesel   \n",
       "3    Audi A1    Sedans  14500    VAT deductible 73000.000  Used   Diesel   \n",
       "4    Audi A1    Sedans  16790    VAT deductible 16200.000  Used   Diesel   \n",
       "\n",
       "   Gears                                Comfort_Convenience  \\\n",
       "0  7.000  Air conditioning,Armrest,Automatic climate con...   \n",
       "1  7.000  Air conditioning,Automatic climate control,Hil...   \n",
       "2  7.000  Air conditioning,Cruise control,Electrical sid...   \n",
       "3  6.000  Air suspension,Armrest,Auxiliary heating,Elect...   \n",
       "4  7.000  Air conditioning,Armrest,Automatic climate con...   \n",
       "\n",
       "                                 Entertainment_Media  \\\n",
       "0  Bluetooth,Hands-free equipment,On-board comput...   \n",
       "1  Bluetooth,Hands-free equipment,On-board comput...   \n",
       "2                              MP3,On-board computer   \n",
       "3  Bluetooth,CD player,Hands-free equipment,MP3,O...   \n",
       "4  Bluetooth,CD player,Hands-free equipment,MP3,O...   \n",
       "\n",
       "                                              Extras  \\\n",
       "0     Alloy wheels,Catalytic Converter,Voice Control   \n",
       "1  Alloy wheels,Sport seats,Sport suspension,Voic...   \n",
       "2                         Alloy wheels,Voice Control   \n",
       "3             Alloy wheels,Sport seats,Voice Control   \n",
       "4  Alloy wheels,Sport package,Sport suspension,Vo...   \n",
       "\n",
       "                                     Safety_Security   age  Previous_Owners  \\\n",
       "0  ABS,Central door lock,Daytime running lights,D... 3.000            2.000   \n",
       "1  ABS,Central door lock,Central door lock with r... 2.000            1.000   \n",
       "2  ABS,Central door lock,Daytime running lights,D... 3.000            1.000   \n",
       "3  ABS,Alarm system,Central door lock with remote... 3.000            1.000   \n",
       "4  ABS,Central door lock,Driver-side airbag,Elect... 3.000            1.000   \n",
       "\n",
       "    hp_kW  Inspection_new Paint_Type Upholstery_type Gearing_Type  \\\n",
       "0  66.000               1   Metallic           Cloth    Automatic   \n",
       "1 141.000               0   Metallic           Cloth    Automatic   \n",
       "2  85.000               0   Metallic           Cloth    Automatic   \n",
       "3  66.000               0   Metallic           Cloth    Automatic   \n",
       "4  66.000               1   Metallic           Cloth    Automatic   \n",
       "\n",
       "   Displacement_cc  Weight_kg Drive_chain  cons_comb  \n",
       "0         1422.000   1220.000       front      3.800  \n",
       "1         1798.000   1255.000       front      5.600  \n",
       "2         1598.000   1135.000       front      3.800  \n",
       "3         1422.000   1195.000       front      3.800  \n",
       "4         1422.000   1135.000       front      4.100  "
      ]
     },
     "execution_count": 2,
     "metadata": {},
     "output_type": "execute_result"
    }
   ],
   "source": [
    "#Reading the dataset from a csv file\n",
    "df = pd.read_csv(\"final_scout_not_dummy.csv\")\n",
    "\n",
    "#Seeing the head of the data set\n",
    "df.head()"
   ]
  },
  {
   "cell_type": "code",
   "execution_count": 3,
   "id": "772539b0",
   "metadata": {},
   "outputs": [
    {
     "data": {
      "text/plain": [
       "(15915, 23)"
      ]
     },
     "execution_count": 3,
     "metadata": {},
     "output_type": "execute_result"
    }
   ],
   "source": [
    "#Seeing the shape of the data set\n",
    "df.shape\n",
    "#As we can see, the shape of the data set is (15915, 23)"
   ]
  },
  {
   "cell_type": "code",
   "execution_count": 4,
   "id": "2014705d",
   "metadata": {},
   "outputs": [
    {
     "name": "stdout",
     "output_type": "stream",
     "text": [
      "<class 'pandas.core.frame.DataFrame'>\n",
      "RangeIndex: 15915 entries, 0 to 15914\n",
      "Data columns (total 23 columns):\n",
      " #   Column               Non-Null Count  Dtype  \n",
      "---  ------               --------------  -----  \n",
      " 0   make_model           15915 non-null  object \n",
      " 1   body_type            15915 non-null  object \n",
      " 2   price                15915 non-null  int64  \n",
      " 3   vat                  15915 non-null  object \n",
      " 4   km                   15915 non-null  float64\n",
      " 5   Type                 15915 non-null  object \n",
      " 6   Fuel                 15915 non-null  object \n",
      " 7   Gears                15915 non-null  float64\n",
      " 8   Comfort_Convenience  15915 non-null  object \n",
      " 9   Entertainment_Media  15915 non-null  object \n",
      " 10  Extras               15915 non-null  object \n",
      " 11  Safety_Security      15915 non-null  object \n",
      " 12  age                  15915 non-null  float64\n",
      " 13  Previous_Owners      15915 non-null  float64\n",
      " 14  hp_kW                15915 non-null  float64\n",
      " 15  Inspection_new       15915 non-null  int64  \n",
      " 16  Paint_Type           15915 non-null  object \n",
      " 17  Upholstery_type      15915 non-null  object \n",
      " 18  Gearing_Type         15915 non-null  object \n",
      " 19  Displacement_cc      15915 non-null  float64\n",
      " 20  Weight_kg            15915 non-null  float64\n",
      " 21  Drive_chain          15915 non-null  object \n",
      " 22  cons_comb            15915 non-null  float64\n",
      "dtypes: float64(8), int64(2), object(13)\n",
      "memory usage: 2.8+ MB\n"
     ]
    }
   ],
   "source": [
    "#Seeing the info of the data set\n",
    "df.info()\n",
    "#We can see that, there are about 15915 entries. 23 columns, float64(8), int64(2), object(13).\n",
    "#There is no null data as well"
   ]
  },
  {
   "cell_type": "code",
   "execution_count": 5,
   "id": "c0244328",
   "metadata": {},
   "outputs": [
    {
     "data": {
      "text/html": [
       "<div>\n",
       "<style scoped>\n",
       "    .dataframe tbody tr th:only-of-type {\n",
       "        vertical-align: middle;\n",
       "    }\n",
       "\n",
       "    .dataframe tbody tr th {\n",
       "        vertical-align: top;\n",
       "    }\n",
       "\n",
       "    .dataframe thead th {\n",
       "        text-align: right;\n",
       "    }\n",
       "</style>\n",
       "<table border=\"1\" class=\"dataframe\">\n",
       "  <thead>\n",
       "    <tr style=\"text-align: right;\">\n",
       "      <th></th>\n",
       "      <th>count</th>\n",
       "      <th>mean</th>\n",
       "      <th>std</th>\n",
       "      <th>min</th>\n",
       "      <th>25%</th>\n",
       "      <th>50%</th>\n",
       "      <th>75%</th>\n",
       "      <th>max</th>\n",
       "    </tr>\n",
       "  </thead>\n",
       "  <tbody>\n",
       "    <tr>\n",
       "      <th>price</th>\n",
       "      <td>15915.000</td>\n",
       "      <td>18024.381</td>\n",
       "      <td>7381.679</td>\n",
       "      <td>4950.000</td>\n",
       "      <td>12850.000</td>\n",
       "      <td>16900.000</td>\n",
       "      <td>21900.000</td>\n",
       "      <td>74600.000</td>\n",
       "    </tr>\n",
       "    <tr>\n",
       "      <th>km</th>\n",
       "      <td>15915.000</td>\n",
       "      <td>32089.996</td>\n",
       "      <td>36977.215</td>\n",
       "      <td>0.000</td>\n",
       "      <td>1920.500</td>\n",
       "      <td>20413.000</td>\n",
       "      <td>46900.000</td>\n",
       "      <td>317000.000</td>\n",
       "    </tr>\n",
       "    <tr>\n",
       "      <th>Gears</th>\n",
       "      <td>15915.000</td>\n",
       "      <td>5.937</td>\n",
       "      <td>0.705</td>\n",
       "      <td>5.000</td>\n",
       "      <td>5.000</td>\n",
       "      <td>6.000</td>\n",
       "      <td>6.000</td>\n",
       "      <td>8.000</td>\n",
       "    </tr>\n",
       "    <tr>\n",
       "      <th>age</th>\n",
       "      <td>15915.000</td>\n",
       "      <td>1.390</td>\n",
       "      <td>1.121</td>\n",
       "      <td>0.000</td>\n",
       "      <td>0.000</td>\n",
       "      <td>1.000</td>\n",
       "      <td>2.000</td>\n",
       "      <td>3.000</td>\n",
       "    </tr>\n",
       "    <tr>\n",
       "      <th>Previous_Owners</th>\n",
       "      <td>15915.000</td>\n",
       "      <td>1.043</td>\n",
       "      <td>0.339</td>\n",
       "      <td>0.000</td>\n",
       "      <td>1.000</td>\n",
       "      <td>1.000</td>\n",
       "      <td>1.000</td>\n",
       "      <td>4.000</td>\n",
       "    </tr>\n",
       "    <tr>\n",
       "      <th>hp_kW</th>\n",
       "      <td>15915.000</td>\n",
       "      <td>88.499</td>\n",
       "      <td>26.674</td>\n",
       "      <td>40.000</td>\n",
       "      <td>66.000</td>\n",
       "      <td>85.000</td>\n",
       "      <td>103.000</td>\n",
       "      <td>294.000</td>\n",
       "    </tr>\n",
       "    <tr>\n",
       "      <th>Inspection_new</th>\n",
       "      <td>15915.000</td>\n",
       "      <td>0.247</td>\n",
       "      <td>0.431</td>\n",
       "      <td>0.000</td>\n",
       "      <td>0.000</td>\n",
       "      <td>0.000</td>\n",
       "      <td>0.000</td>\n",
       "      <td>1.000</td>\n",
       "    </tr>\n",
       "    <tr>\n",
       "      <th>Displacement_cc</th>\n",
       "      <td>15915.000</td>\n",
       "      <td>1428.662</td>\n",
       "      <td>275.804</td>\n",
       "      <td>890.000</td>\n",
       "      <td>1229.000</td>\n",
       "      <td>1461.000</td>\n",
       "      <td>1598.000</td>\n",
       "      <td>2967.000</td>\n",
       "    </tr>\n",
       "    <tr>\n",
       "      <th>Weight_kg</th>\n",
       "      <td>15915.000</td>\n",
       "      <td>1337.701</td>\n",
       "      <td>199.682</td>\n",
       "      <td>840.000</td>\n",
       "      <td>1165.000</td>\n",
       "      <td>1295.000</td>\n",
       "      <td>1472.000</td>\n",
       "      <td>2471.000</td>\n",
       "    </tr>\n",
       "    <tr>\n",
       "      <th>cons_comb</th>\n",
       "      <td>15915.000</td>\n",
       "      <td>4.832</td>\n",
       "      <td>0.868</td>\n",
       "      <td>3.000</td>\n",
       "      <td>4.100</td>\n",
       "      <td>4.800</td>\n",
       "      <td>5.400</td>\n",
       "      <td>9.100</td>\n",
       "    </tr>\n",
       "  </tbody>\n",
       "</table>\n",
       "</div>"
      ],
      "text/plain": [
       "                    count      mean       std      min       25%       50%  \\\n",
       "price           15915.000 18024.381  7381.679 4950.000 12850.000 16900.000   \n",
       "km              15915.000 32089.996 36977.215    0.000  1920.500 20413.000   \n",
       "Gears           15915.000     5.937     0.705    5.000     5.000     6.000   \n",
       "age             15915.000     1.390     1.121    0.000     0.000     1.000   \n",
       "Previous_Owners 15915.000     1.043     0.339    0.000     1.000     1.000   \n",
       "hp_kW           15915.000    88.499    26.674   40.000    66.000    85.000   \n",
       "Inspection_new  15915.000     0.247     0.431    0.000     0.000     0.000   \n",
       "Displacement_cc 15915.000  1428.662   275.804  890.000  1229.000  1461.000   \n",
       "Weight_kg       15915.000  1337.701   199.682  840.000  1165.000  1295.000   \n",
       "cons_comb       15915.000     4.832     0.868    3.000     4.100     4.800   \n",
       "\n",
       "                      75%        max  \n",
       "price           21900.000  74600.000  \n",
       "km              46900.000 317000.000  \n",
       "Gears               6.000      8.000  \n",
       "age                 2.000      3.000  \n",
       "Previous_Owners     1.000      4.000  \n",
       "hp_kW             103.000    294.000  \n",
       "Inspection_new      0.000      1.000  \n",
       "Displacement_cc  1598.000   2967.000  \n",
       "Weight_kg        1472.000   2471.000  \n",
       "cons_comb           5.400      9.100  "
      ]
     },
     "execution_count": 5,
     "metadata": {},
     "output_type": "execute_result"
    }
   ],
   "source": [
    "#Seeing the description of the dataset\n",
    "df.describe().T\n",
    "#We can see that the mean anst std for age, Inspection_new, and Previous_Owners are nearly close to each other"
   ]
  },
  {
   "cell_type": "code",
   "execution_count": 6,
   "id": "0af2eb76",
   "metadata": {},
   "outputs": [
    {
     "data": {
      "text/plain": [
       "1673"
      ]
     },
     "execution_count": 6,
     "metadata": {},
     "output_type": "execute_result"
    }
   ],
   "source": [
    "#Checking the duplicated values\n",
    "df.duplicated().sum()\n",
    "#As we can see, there are about 1673 duplicated values"
   ]
  },
  {
   "cell_type": "code",
   "execution_count": 7,
   "id": "d977a5da",
   "metadata": {},
   "outputs": [],
   "source": [
    "#Dropping the duplicated values\n",
    "df.drop_duplicates(inplace=True)"
   ]
  },
  {
   "cell_type": "code",
   "execution_count": 8,
   "id": "29dc299c",
   "metadata": {},
   "outputs": [
    {
     "data": {
      "text/plain": [
       "0"
      ]
     },
     "execution_count": 8,
     "metadata": {},
     "output_type": "execute_result"
    }
   ],
   "source": [
    "#Checking the duplicated values after dropping\n",
    "df.duplicated().sum()\n",
    "#As we can see, now we have 0 duplicated values"
   ]
  },
  {
   "cell_type": "code",
   "execution_count": 9,
   "id": "4af0d1c1",
   "metadata": {},
   "outputs": [
    {
     "data": {
      "text/plain": [
       "make_model             0\n",
       "body_type              0\n",
       "price                  0\n",
       "vat                    0\n",
       "km                     0\n",
       "Type                   0\n",
       "Fuel                   0\n",
       "Gears                  0\n",
       "Comfort_Convenience    0\n",
       "Entertainment_Media    0\n",
       "Extras                 0\n",
       "Safety_Security        0\n",
       "age                    0\n",
       "Previous_Owners        0\n",
       "hp_kW                  0\n",
       "Inspection_new         0\n",
       "Paint_Type             0\n",
       "Upholstery_type        0\n",
       "Gearing_Type           0\n",
       "Displacement_cc        0\n",
       "Weight_kg              0\n",
       "Drive_chain            0\n",
       "cons_comb              0\n",
       "dtype: int64"
      ]
     },
     "execution_count": 9,
     "metadata": {},
     "output_type": "execute_result"
    }
   ],
   "source": [
    "#Checking the null values in the data set\n",
    "df.isnull().sum()\n",
    "#As we can see, we do not have null values"
   ]
  },
  {
   "cell_type": "code",
   "execution_count": 10,
   "id": "616e8465",
   "metadata": {},
   "outputs": [
    {
     "data": {
      "text/plain": [
       "Index(['make_model', 'body_type', 'price', 'vat', 'km', 'Type', 'Fuel',\n",
       "       'Gears', 'Comfort_Convenience', 'Entertainment_Media', 'Extras',\n",
       "       'Safety_Security', 'age', 'Previous_Owners', 'hp_kW', 'Inspection_new',\n",
       "       'Paint_Type', 'Upholstery_type', 'Gearing_Type', 'Displacement_cc',\n",
       "       'Weight_kg', 'Drive_chain', 'cons_comb'],\n",
       "      dtype='object')"
      ]
     },
     "execution_count": 10,
     "metadata": {},
     "output_type": "execute_result"
    }
   ],
   "source": [
    "#Seeing the columns of the data set\n",
    "df.columns"
   ]
  },
  {
   "cell_type": "code",
   "execution_count": 11,
   "id": "691daf3c",
   "metadata": {
    "scrolled": true
   },
   "outputs": [],
   "source": [
    "#Dropping vat from the dataset\n",
    "df.drop(columns=[\"vat\", \"Displacement_cc\", 'body_type', 'Type', 'Weight_kg', 'Gearing_Type' ,'Fuel', 'Comfort_Convenience', 'Entertainment_Media', 'Extras','Safety_Security', 'Previous_Owners', 'Inspection_new','Paint_Type', 'Upholstery_type','Drive_chain', 'cons_comb'], inplace=True)"
   ]
  },
  {
   "cell_type": "markdown",
   "id": "c3951e49",
   "metadata": {},
   "source": [
    "## EDA"
   ]
  },
  {
   "cell_type": "markdown",
   "id": "de587e49",
   "metadata": {},
   "source": [
    "### make_model"
   ]
  },
  {
   "cell_type": "code",
   "execution_count": 12,
   "id": "47a2754f",
   "metadata": {},
   "outputs": [
    {
     "data": {
      "image/png": "[encoded data removed]",
      "text/plain": [
       "<Figure size 1400x600 with 1 Axes>"
      ]
     },
     "metadata": {},
     "output_type": "display_data"
    }
   ],
   "source": [
    "#Seeing the countplot of make_model\n",
    "sns.countplot(x=df[\"make_model\"])\n",
    "plt.show()\n",
    "#As we can see from the graph, we have 9 classes, for Audi A3 and Renault Duster, they are not high at all, and there values\n",
    "#are so small compared to the others"
   ]
  },
  {
   "cell_type": "code",
   "execution_count": 13,
   "id": "872ce775",
   "metadata": {},
   "outputs": [
    {
     "data": {
      "image/png": "[encoded data removed]",
      "text/plain": [
       "<Figure size 1400x600 with 1 Axes>"
      ]
     },
     "metadata": {},
     "output_type": "display_data"
    }
   ],
   "source": [
    "#Seeing the histplot of make_model\n",
    "sns.histplot(df[\"make_model\"], kde=True)\n",
    "plt.show()\n",
    "#We can see the same here as well, the values of Audi A3 and Renault Duster are so small"
   ]
  },
  {
   "cell_type": "code",
   "execution_count": 14,
   "id": "2184865a",
   "metadata": {
    "scrolled": true
   },
   "outputs": [
    {
     "data": {
      "text/plain": [
       "make_model\n",
       "Audi A3           2758\n",
       "Opel Insignia     2417\n",
       "Audi A1           2377\n",
       "Opel Astra        2305\n",
       "Opel Corsa        1994\n",
       "Renault Clio      1486\n",
       "Renault Espace     884\n",
       "Renault Duster      20\n",
       "Audi A2              1\n",
       "Name: count, dtype: int64"
      ]
     },
     "execution_count": 14,
     "metadata": {},
     "output_type": "execute_result"
    }
   ],
   "source": [
    "#Seeing the value counts of make_model\n",
    "df.make_model.value_counts()\n",
    "#As we can see, there are some of them have low values, so i am going to drop them (Audi A3 and Renault Duster)"
   ]
  },
  {
   "cell_type": "code",
   "execution_count": 15,
   "id": "e1e20c23",
   "metadata": {},
   "outputs": [
    {
     "data": {
      "text/plain": [
       "Index(['Renault Duster', 'Audi A2'], dtype='object', name='make_model')"
      ]
     },
     "execution_count": 15,
     "metadata": {},
     "output_type": "execute_result"
    }
   ],
   "source": [
    "#Making a variable to see the classes that have less than 100, as it may affect the model\n",
    "low = df.make_model.value_counts()[df.make_model.value_counts() <= 100].index\n",
    "low"
   ]
  },
  {
   "cell_type": "code",
   "execution_count": 16,
   "id": "7e7d9e61",
   "metadata": {},
   "outputs": [],
   "source": [
    "#Dropping the low values of make_model\n",
    "for i in low:\n",
    "    drop_index = df[df['make_model'] == i].index\n",
    "    df.drop(index = drop_index, inplace=True)\n",
    "\n",
    "df.reset_index(drop=True, inplace=True)"
   ]
  },
  {
   "cell_type": "code",
   "execution_count": 17,
   "id": "a76c2611",
   "metadata": {},
   "outputs": [
    {
     "data": {
      "text/plain": [
       "make_model\n",
       "Audi A3           2758\n",
       "Opel Insignia     2417\n",
       "Audi A1           2377\n",
       "Opel Astra        2305\n",
       "Opel Corsa        1994\n",
       "Renault Clio      1486\n",
       "Renault Espace     884\n",
       "Name: count, dtype: int64"
      ]
     },
     "execution_count": 17,
     "metadata": {},
     "output_type": "execute_result"
    }
   ],
   "source": [
    "#Seeing the value counts of make_model after dropping\n",
    "df.make_model.value_counts()\n",
    "#As we can see, now we do not have classes with less than 100"
   ]
  },
  {
   "cell_type": "markdown",
   "id": "b98054d4",
   "metadata": {},
   "source": [
    "### price"
   ]
  },
  {
   "cell_type": "code",
   "execution_count": 18,
   "id": "5bbab1f9",
   "metadata": {
    "scrolled": true
   },
   "outputs": [
    {
     "data": {
      "image/png": "[encoded data removed]",
      "text/plain": [
       "<Figure size 1400x600 with 1 Axes>"
      ]
     },
     "metadata": {},
     "output_type": "display_data"
    }
   ],
   "source": [
    "#Seeing teh boxplot of price\n",
    "sns.boxplot(df['price'])\n",
    "plt.show()\n",
    "#As we can see, there are some outliers in price, i am going to drop them in the feature engineering part"
   ]
  },
  {
   "cell_type": "code",
   "execution_count": 19,
   "id": "f5c5ff18",
   "metadata": {
    "scrolled": true
   },
   "outputs": [
    {
     "data": {
      "text/plain": [
       "price\n",
       "14990    124\n",
       "15990    121\n",
       "15900    105\n",
       "17990    100\n",
       "10990     92\n",
       "        ... \n",
       "20860      1\n",
       "21005      1\n",
       "21334      1\n",
       "21360      1\n",
       "39875      1\n",
       "Name: count, Length: 2948, dtype: int64"
      ]
     },
     "execution_count": 19,
     "metadata": {},
     "output_type": "execute_result"
    }
   ],
   "source": [
    "#Seeing the value counts of price\n",
    "df.price.value_counts()"
   ]
  },
  {
   "cell_type": "code",
   "execution_count": 20,
   "id": "58d3b2b8",
   "metadata": {
    "scrolled": true
   },
   "outputs": [
    {
     "data": {
      "image/png": "[encoded data removed]",
      "text/plain": [
       "<Figure size 1400x600 with 1 Axes>"
      ]
     },
     "metadata": {},
     "output_type": "display_data"
    }
   ],
   "source": [
    "#Seeing the countplot of price\n",
    "sns.countplot(x=df[\"price\"])\n",
    "plt.show()\n",
    "#As we can see from the graph, there are a lot of values. So, it is not shown very well in this countplot"
   ]
  },
  {
   "cell_type": "code",
   "execution_count": 21,
   "id": "fe76d680",
   "metadata": {
    "scrolled": true
   },
   "outputs": [
    {
     "data": {
      "image/png": "[encoded data removed]",
      "text/plain": [
       "<Figure size 1400x600 with 1 Axes>"
      ]
     },
     "metadata": {},
     "output_type": "display_data"
    }
   ],
   "source": [
    "#Seeing the histplot of price\n",
    "sns.histplot(df[\"price\"], kde=True)\n",
    "plt.show()\n",
    "#As we can see, there are low values from about 40000 to 70000"
   ]
  },
  {
   "cell_type": "markdown",
   "id": "7a00af9f",
   "metadata": {},
   "source": [
    "### km"
   ]
  },
  {
   "cell_type": "code",
   "execution_count": 22,
   "id": "2ef5807a",
   "metadata": {},
   "outputs": [
    {
     "data": {
      "image/png": "[encoded data removed]",
      "text/plain": [
       "<Figure size 1400x600 with 1 Axes>"
      ]
     },
     "metadata": {},
     "output_type": "display_data"
    }
   ],
   "source": [
    "#SEeing teh boxplot of km\n",
    "sns.boxplot(df['km'])\n",
    "plt.show()\n",
    "#As we can see, there are some outliers in km"
   ]
  },
  {
   "cell_type": "code",
   "execution_count": 23,
   "id": "eb17ad85",
   "metadata": {},
   "outputs": [
    {
     "data": {
      "image/png": "[encoded data removed]",
      "text/plain": [
       "<Figure size 1400x600 with 1 Axes>"
      ]
     },
     "metadata": {},
     "output_type": "display_data"
    }
   ],
   "source": [
    "#Seeing the histplot of km\n",
    "sns.histplot(df[\"km\"], kde=True)\n",
    "plt.show()"
   ]
  },
  {
   "cell_type": "markdown",
   "id": "c656f192",
   "metadata": {},
   "source": [
    "### age "
   ]
  },
  {
   "cell_type": "code",
   "execution_count": 24,
   "id": "8813c908",
   "metadata": {},
   "outputs": [
    {
     "data": {
      "image/png": "[encoded data removed]",
      "text/plain": [
       "<Figure size 1400x600 with 1 Axes>"
      ]
     },
     "metadata": {},
     "output_type": "display_data"
    }
   ],
   "source": [
    "#Seeing teh boxplot of age\n",
    "sns.boxplot(df['age'])\n",
    "plt.show()\n",
    "#As we can see, there is no outliers"
   ]
  },
  {
   "cell_type": "code",
   "execution_count": 25,
   "id": "38a60c35",
   "metadata": {},
   "outputs": [
    {
     "data": {
      "image/png": "[encoded data removed]",
      "text/plain": [
       "<Figure size 1400x600 with 1 Axes>"
      ]
     },
     "metadata": {},
     "output_type": "display_data"
    }
   ],
   "source": [
    "#Seeing the countplot of age\n",
    "sns.countplot(x=df[\"age\"])\n",
    "plt.show()\n",
    "#As we can see from the graph, there are 4 classes and class one is the highest"
   ]
  },
  {
   "cell_type": "code",
   "execution_count": 26,
   "id": "407b0233",
   "metadata": {},
   "outputs": [
    {
     "data": {
      "image/png": "[encoded data removed]",
      "text/plain": [
       "<Figure size 1400x600 with 1 Axes>"
      ]
     },
     "metadata": {},
     "output_type": "display_data"
    }
   ],
   "source": [
    "#Seeing the histplot of age\n",
    "sns.histplot(df[\"age\"], kde=True)\n",
    "plt.show()"
   ]
  },
  {
   "cell_type": "markdown",
   "id": "68a581fb",
   "metadata": {},
   "source": [
    "### hp_kW "
   ]
  },
  {
   "cell_type": "code",
   "execution_count": 27,
   "id": "02a989be",
   "metadata": {},
   "outputs": [
    {
     "data": {
      "image/png": "[encoded data removed]",
      "text/plain": [
       "<Figure size 1400x600 with 1 Axes>"
      ]
     },
     "metadata": {},
     "output_type": "display_data"
    }
   ],
   "source": [
    "#SEeing teh boxplot of hp_kW\n",
    "sns.boxplot(df['hp_kW'])\n",
    "plt.show()\n",
    "#As we can see, there are some outliers in hp_kW"
   ]
  },
  {
   "cell_type": "code",
   "execution_count": 28,
   "id": "89b5df8f",
   "metadata": {},
   "outputs": [
    {
     "data": {
      "image/png": "[encoded data removed]",
      "text/plain": [
       "<Figure size 1400x600 with 1 Axes>"
      ]
     },
     "metadata": {},
     "output_type": "display_data"
    }
   ],
   "source": [
    "#Seeing the countplot of hp_kW\n",
    "sns.countplot(x=df[\"hp_kW\"])\n",
    "plt.show()"
   ]
  },
  {
   "cell_type": "code",
   "execution_count": 29,
   "id": "f8fa4f0e",
   "metadata": {},
   "outputs": [
    {
     "data": {
      "image/png": "[encoded data removed]",
      "text/plain": [
       "<Figure size 1400x600 with 1 Axes>"
      ]
     },
     "metadata": {},
     "output_type": "display_data"
    }
   ],
   "source": [
    "#Seeing the histplot of hp_kW\n",
    "sns.histplot(df[\"hp_kW\"], kde=True)\n",
    "plt.show()"
   ]
  },
  {
   "cell_type": "code",
   "execution_count": 30,
   "id": "367a1945",
   "metadata": {},
   "outputs": [
    {
     "data": {
      "image/png": "[encoded data removed]",
      "text/plain": [
       "<Figure size 1000x600 with 2 Axes>"
      ]
     },
     "metadata": {},
     "output_type": "display_data"
    }
   ],
   "source": [
    "#Seeing the correlation \n",
    "plt.figure(figsize=(10,6))\n",
    "sns.heatmap(df.corr(numeric_only=True), vmin=-1, vmax=1, annot =True, cmap=\"coolwarm\");\n",
    "#As we can see, there is not correlation here"
   ]
  },
  {
   "cell_type": "code",
   "execution_count": 31,
   "id": "955423f5",
   "metadata": {},
   "outputs": [
    {
     "data": {
      "text/plain": [
       "False"
      ]
     },
     "execution_count": 31,
     "metadata": {},
     "output_type": "execute_result"
    }
   ],
   "source": [
    "#Seeing the multicollinearity\n",
    "df.corr(numeric_only=True)[(abs(df.corr(numeric_only=True))>= 0.9) & (abs(df.corr(numeric_only=True)) < 1)].any().any()\n",
    "#As we can see, we do not have multicollinearity"
   ]
  },
  {
   "cell_type": "markdown",
   "id": "1f462f11",
   "metadata": {},
   "source": [
    "## Feature Engineering"
   ]
  },
  {
   "cell_type": "code",
   "execution_count": 33,
   "id": "b4aa9b14",
   "metadata": {},
   "outputs": [
    {
     "data": {
      "text/html": [
       "<div>\n",
       "<style scoped>\n",
       "    .dataframe tbody tr th:only-of-type {\n",
       "        vertical-align: middle;\n",
       "    }\n",
       "\n",
       "    .dataframe tbody tr th {\n",
       "        vertical-align: top;\n",
       "    }\n",
       "\n",
       "    .dataframe thead th {\n",
       "        text-align: right;\n",
       "    }\n",
       "</style>\n",
       "<table border=\"1\" class=\"dataframe\">\n",
       "  <thead>\n",
       "    <tr style=\"text-align: right;\">\n",
       "      <th></th>\n",
       "      <th>make_model</th>\n",
       "      <th>price</th>\n",
       "      <th>km</th>\n",
       "      <th>Gears</th>\n",
       "      <th>age</th>\n",
       "      <th>hp_kW</th>\n",
       "    </tr>\n",
       "  </thead>\n",
       "  <tbody>\n",
       "    <tr>\n",
       "      <th>0</th>\n",
       "      <td>Audi A1</td>\n",
       "      <td>15770</td>\n",
       "      <td>56013.000</td>\n",
       "      <td>7.000</td>\n",
       "      <td>3.000</td>\n",
       "      <td>66.000</td>\n",
       "    </tr>\n",
       "    <tr>\n",
       "      <th>1</th>\n",
       "      <td>Audi A1</td>\n",
       "      <td>14500</td>\n",
       "      <td>80000.000</td>\n",
       "      <td>7.000</td>\n",
       "      <td>2.000</td>\n",
       "      <td>141.000</td>\n",
       "    </tr>\n",
       "    <tr>\n",
       "      <th>2</th>\n",
       "      <td>Audi A1</td>\n",
       "      <td>14640</td>\n",
       "      <td>83450.000</td>\n",
       "      <td>7.000</td>\n",
       "      <td>3.000</td>\n",
       "      <td>85.000</td>\n",
       "    </tr>\n",
       "    <tr>\n",
       "      <th>3</th>\n",
       "      <td>Audi A1</td>\n",
       "      <td>14500</td>\n",
       "      <td>73000.000</td>\n",
       "      <td>6.000</td>\n",
       "      <td>3.000</td>\n",
       "      <td>66.000</td>\n",
       "    </tr>\n",
       "    <tr>\n",
       "      <th>4</th>\n",
       "      <td>Audi A1</td>\n",
       "      <td>16790</td>\n",
       "      <td>16200.000</td>\n",
       "      <td>7.000</td>\n",
       "      <td>3.000</td>\n",
       "      <td>66.000</td>\n",
       "    </tr>\n",
       "  </tbody>\n",
       "</table>\n",
       "</div>"
      ],
      "text/plain": [
       "  make_model  price        km  Gears   age   hp_kW\n",
       "0    Audi A1  15770 56013.000  7.000 3.000  66.000\n",
       "1    Audi A1  14500 80000.000  7.000 2.000 141.000\n",
       "2    Audi A1  14640 83450.000  7.000 3.000  85.000\n",
       "3    Audi A1  14500 73000.000  6.000 3.000  66.000\n",
       "4    Audi A1  16790 16200.000  7.000 3.000  66.000"
      ]
     },
     "execution_count": 33,
     "metadata": {},
     "output_type": "execute_result"
    }
   ],
   "source": [
    "#Seeing the head of the data \n",
    "df.head()\n",
    "#Well, from the EDA, i can not see vat as a important feature, so i am going to drop it. The reason for this is that \n",
    "#this may affect our target which is the price, so in my opinio, dropping it is better"
   ]
  },
  {
   "cell_type": "code",
   "execution_count": 34,
   "id": "2e21e4d5",
   "metadata": {},
   "outputs": [
    {
     "data": {
      "text/html": [
       "<div>\n",
       "<style scoped>\n",
       "    .dataframe tbody tr th:only-of-type {\n",
       "        vertical-align: middle;\n",
       "    }\n",
       "\n",
       "    .dataframe tbody tr th {\n",
       "        vertical-align: top;\n",
       "    }\n",
       "\n",
       "    .dataframe thead th {\n",
       "        text-align: right;\n",
       "    }\n",
       "</style>\n",
       "<table border=\"1\" class=\"dataframe\">\n",
       "  <thead>\n",
       "    <tr style=\"text-align: right;\">\n",
       "      <th></th>\n",
       "      <th>make_model</th>\n",
       "      <th>price</th>\n",
       "      <th>km</th>\n",
       "      <th>Gears</th>\n",
       "      <th>age</th>\n",
       "      <th>hp_kW</th>\n",
       "    </tr>\n",
       "  </thead>\n",
       "  <tbody>\n",
       "    <tr>\n",
       "      <th>0</th>\n",
       "      <td>Audi A1</td>\n",
       "      <td>15770</td>\n",
       "      <td>56013.000</td>\n",
       "      <td>7.000</td>\n",
       "      <td>3.000</td>\n",
       "      <td>66.000</td>\n",
       "    </tr>\n",
       "    <tr>\n",
       "      <th>1</th>\n",
       "      <td>Audi A1</td>\n",
       "      <td>14500</td>\n",
       "      <td>80000.000</td>\n",
       "      <td>7.000</td>\n",
       "      <td>2.000</td>\n",
       "      <td>141.000</td>\n",
       "    </tr>\n",
       "    <tr>\n",
       "      <th>2</th>\n",
       "      <td>Audi A1</td>\n",
       "      <td>14640</td>\n",
       "      <td>83450.000</td>\n",
       "      <td>7.000</td>\n",
       "      <td>3.000</td>\n",
       "      <td>85.000</td>\n",
       "    </tr>\n",
       "    <tr>\n",
       "      <th>3</th>\n",
       "      <td>Audi A1</td>\n",
       "      <td>14500</td>\n",
       "      <td>73000.000</td>\n",
       "      <td>6.000</td>\n",
       "      <td>3.000</td>\n",
       "      <td>66.000</td>\n",
       "    </tr>\n",
       "    <tr>\n",
       "      <th>4</th>\n",
       "      <td>Audi A1</td>\n",
       "      <td>16790</td>\n",
       "      <td>16200.000</td>\n",
       "      <td>7.000</td>\n",
       "      <td>3.000</td>\n",
       "      <td>66.000</td>\n",
       "    </tr>\n",
       "  </tbody>\n",
       "</table>\n",
       "</div>"
      ],
      "text/plain": [
       "  make_model  price        km  Gears   age   hp_kW\n",
       "0    Audi A1  15770 56013.000  7.000 3.000  66.000\n",
       "1    Audi A1  14500 80000.000  7.000 2.000 141.000\n",
       "2    Audi A1  14640 83450.000  7.000 3.000  85.000\n",
       "3    Audi A1  14500 73000.000  6.000 3.000  66.000\n",
       "4    Audi A1  16790 16200.000  7.000 3.000  66.000"
      ]
     },
     "execution_count": 34,
     "metadata": {},
     "output_type": "execute_result"
    }
   ],
   "source": [
    "#Seeing the head of the dataset after dropping vat\n",
    "df.head()\n",
    "#As we can see, we do not have vat column now"
   ]
  },
  {
   "cell_type": "code",
   "execution_count": 35,
   "id": "5ad2cee0",
   "metadata": {
    "scrolled": true
   },
   "outputs": [
    {
     "data": {
      "text/html": [
       "<div>\n",
       "<style scoped>\n",
       "    .dataframe tbody tr th:only-of-type {\n",
       "        vertical-align: middle;\n",
       "    }\n",
       "\n",
       "    .dataframe tbody tr th {\n",
       "        vertical-align: top;\n",
       "    }\n",
       "\n",
       "    .dataframe thead th {\n",
       "        text-align: right;\n",
       "    }\n",
       "</style>\n",
       "<table border=\"1\" class=\"dataframe\">\n",
       "  <thead>\n",
       "    <tr style=\"text-align: right;\">\n",
       "      <th></th>\n",
       "      <th>make_model</th>\n",
       "    </tr>\n",
       "  </thead>\n",
       "  <tbody>\n",
       "    <tr>\n",
       "      <th>0</th>\n",
       "      <td>Audi A1</td>\n",
       "    </tr>\n",
       "    <tr>\n",
       "      <th>1</th>\n",
       "      <td>Audi A1</td>\n",
       "    </tr>\n",
       "    <tr>\n",
       "      <th>2</th>\n",
       "      <td>Audi A1</td>\n",
       "    </tr>\n",
       "    <tr>\n",
       "      <th>3</th>\n",
       "      <td>Audi A1</td>\n",
       "    </tr>\n",
       "    <tr>\n",
       "      <th>4</th>\n",
       "      <td>Audi A1</td>\n",
       "    </tr>\n",
       "  </tbody>\n",
       "</table>\n",
       "</div>"
      ],
      "text/plain": [
       "  make_model\n",
       "0    Audi A1\n",
       "1    Audi A1\n",
       "2    Audi A1\n",
       "3    Audi A1\n",
       "4    Audi A1"
      ]
     },
     "execution_count": 35,
     "metadata": {},
     "output_type": "execute_result"
    }
   ],
   "source": [
    "#Seeing the object columns in the dataset and assignt it to a variable\n",
    "df_ob = df.select_dtypes(include =\"object\").head()\n",
    "df_ob\n",
    "#As we can see, there are a lot of object columns in the dataset"
   ]
  },
  {
   "cell_type": "code",
   "execution_count": 36,
   "id": "731fbb1d",
   "metadata": {
    "scrolled": true
   },
   "outputs": [
    {
     "data": {
      "text/html": [
       "<div>\n",
       "<style scoped>\n",
       "    .dataframe tbody tr th:only-of-type {\n",
       "        vertical-align: middle;\n",
       "    }\n",
       "\n",
       "    .dataframe tbody tr th {\n",
       "        vertical-align: top;\n",
       "    }\n",
       "\n",
       "    .dataframe thead th {\n",
       "        text-align: right;\n",
       "    }\n",
       "</style>\n",
       "<table border=\"1\" class=\"dataframe\">\n",
       "  <thead>\n",
       "    <tr style=\"text-align: right;\">\n",
       "      <th></th>\n",
       "      <th>make_model</th>\n",
       "      <th>price</th>\n",
       "      <th>km</th>\n",
       "      <th>Gears</th>\n",
       "      <th>age</th>\n",
       "      <th>hp_kW</th>\n",
       "    </tr>\n",
       "  </thead>\n",
       "  <tbody>\n",
       "    <tr>\n",
       "      <th>0</th>\n",
       "      <td>Audi A1</td>\n",
       "      <td>15770</td>\n",
       "      <td>56013.000</td>\n",
       "      <td>7.000</td>\n",
       "      <td>3.000</td>\n",
       "      <td>66.000</td>\n",
       "    </tr>\n",
       "    <tr>\n",
       "      <th>1</th>\n",
       "      <td>Audi A1</td>\n",
       "      <td>14500</td>\n",
       "      <td>80000.000</td>\n",
       "      <td>7.000</td>\n",
       "      <td>2.000</td>\n",
       "      <td>141.000</td>\n",
       "    </tr>\n",
       "    <tr>\n",
       "      <th>2</th>\n",
       "      <td>Audi A1</td>\n",
       "      <td>14640</td>\n",
       "      <td>83450.000</td>\n",
       "      <td>7.000</td>\n",
       "      <td>3.000</td>\n",
       "      <td>85.000</td>\n",
       "    </tr>\n",
       "    <tr>\n",
       "      <th>3</th>\n",
       "      <td>Audi A1</td>\n",
       "      <td>14500</td>\n",
       "      <td>73000.000</td>\n",
       "      <td>6.000</td>\n",
       "      <td>3.000</td>\n",
       "      <td>66.000</td>\n",
       "    </tr>\n",
       "    <tr>\n",
       "      <th>4</th>\n",
       "      <td>Audi A1</td>\n",
       "      <td>16790</td>\n",
       "      <td>16200.000</td>\n",
       "      <td>7.000</td>\n",
       "      <td>3.000</td>\n",
       "      <td>66.000</td>\n",
       "    </tr>\n",
       "    <tr>\n",
       "      <th>...</th>\n",
       "      <td>...</td>\n",
       "      <td>...</td>\n",
       "      <td>...</td>\n",
       "      <td>...</td>\n",
       "      <td>...</td>\n",
       "      <td>...</td>\n",
       "    </tr>\n",
       "    <tr>\n",
       "      <th>14216</th>\n",
       "      <td>Renault Espace</td>\n",
       "      <td>39980</td>\n",
       "      <td>100.000</td>\n",
       "      <td>6.000</td>\n",
       "      <td>0.000</td>\n",
       "      <td>118.000</td>\n",
       "    </tr>\n",
       "    <tr>\n",
       "      <th>14217</th>\n",
       "      <td>Renault Espace</td>\n",
       "      <td>39950</td>\n",
       "      <td>1647.363</td>\n",
       "      <td>6.000</td>\n",
       "      <td>0.000</td>\n",
       "      <td>147.000</td>\n",
       "    </tr>\n",
       "    <tr>\n",
       "      <th>14218</th>\n",
       "      <td>Renault Espace</td>\n",
       "      <td>39950</td>\n",
       "      <td>1000.000</td>\n",
       "      <td>6.000</td>\n",
       "      <td>0.000</td>\n",
       "      <td>165.000</td>\n",
       "    </tr>\n",
       "    <tr>\n",
       "      <th>14219</th>\n",
       "      <td>Renault Espace</td>\n",
       "      <td>39885</td>\n",
       "      <td>9900.000</td>\n",
       "      <td>7.000</td>\n",
       "      <td>0.000</td>\n",
       "      <td>165.000</td>\n",
       "    </tr>\n",
       "    <tr>\n",
       "      <th>14220</th>\n",
       "      <td>Renault Espace</td>\n",
       "      <td>39875</td>\n",
       "      <td>15.000</td>\n",
       "      <td>6.000</td>\n",
       "      <td>0.000</td>\n",
       "      <td>146.000</td>\n",
       "    </tr>\n",
       "  </tbody>\n",
       "</table>\n",
       "<p>14070 rows × 6 columns</p>\n",
       "</div>"
      ],
      "text/plain": [
       "           make_model  price        km  Gears   age   hp_kW\n",
       "0             Audi A1  15770 56013.000  7.000 3.000  66.000\n",
       "1             Audi A1  14500 80000.000  7.000 2.000 141.000\n",
       "2             Audi A1  14640 83450.000  7.000 3.000  85.000\n",
       "3             Audi A1  14500 73000.000  6.000 3.000  66.000\n",
       "4             Audi A1  16790 16200.000  7.000 3.000  66.000\n",
       "...               ...    ...       ...    ...   ...     ...\n",
       "14216  Renault Espace  39980   100.000  6.000 0.000 118.000\n",
       "14217  Renault Espace  39950  1647.363  6.000 0.000 147.000\n",
       "14218  Renault Espace  39950  1000.000  6.000 0.000 165.000\n",
       "14219  Renault Espace  39885  9900.000  7.000 0.000 165.000\n",
       "14220  Renault Espace  39875    15.000  6.000 0.000 146.000\n",
       "\n",
       "[14070 rows x 6 columns]"
      ]
     },
     "execution_count": 36,
     "metadata": {},
     "output_type": "execute_result"
    }
   ],
   "source": [
    "#Dropping the prices that more than 40000\n",
    "df = df[df['price'] < 40000]\n",
    "df"
   ]
  },
  {
   "cell_type": "code",
   "execution_count": 37,
   "id": "3c17a953",
   "metadata": {
    "scrolled": true
   },
   "outputs": [
    {
     "data": {
      "text/plain": [
       "0        15770\n",
       "1        14500\n",
       "2        14640\n",
       "3        14500\n",
       "4        16790\n",
       "         ...  \n",
       "14216    39980\n",
       "14217    39950\n",
       "14218    39950\n",
       "14219    39885\n",
       "14220    39875\n",
       "Name: price, Length: 14070, dtype: int64"
      ]
     },
     "execution_count": 37,
     "metadata": {},
     "output_type": "execute_result"
    }
   ],
   "source": [
    "#Seeing the prices after filtering\n",
    "df.price"
   ]
  },
  {
   "cell_type": "code",
   "execution_count": 38,
   "id": "22e3c1e1",
   "metadata": {},
   "outputs": [
    {
     "data": {
      "text/plain": [
       "0"
      ]
     },
     "execution_count": 38,
     "metadata": {},
     "output_type": "execute_result"
    }
   ],
   "source": [
    "#Seeing the sum of prices that are more than 40000\n",
    "(df.price > 40000).sum()"
   ]
  },
  {
   "cell_type": "code",
   "execution_count": 39,
   "id": "bbaaf395",
   "metadata": {},
   "outputs": [
    {
     "data": {
      "text/plain": [
       "14070"
      ]
     },
     "execution_count": 39,
     "metadata": {},
     "output_type": "execute_result"
    }
   ],
   "source": [
    "#Seeing the prices that less than 40000\n",
    "(df.price < 40000).sum()"
   ]
  },
  {
   "cell_type": "code",
   "execution_count": 40,
   "id": "044ad89c",
   "metadata": {},
   "outputs": [
    {
     "data": {
      "image/png": "[encoded data removed]",
      "text/plain": [
       "<Figure size 1400x600 with 1 Axes>"
      ]
     },
     "metadata": {},
     "output_type": "display_data"
    }
   ],
   "source": [
    "#SEeing teh boxplot of price after filterring \n",
    "sns.boxplot(df['price'])\n",
    "plt.show()\n",
    "#As we can see, there are some outliers in price, but it is not like before dropping them, the percentage now is low"
   ]
  },
  {
   "cell_type": "code",
   "execution_count": 42,
   "id": "eb269230",
   "metadata": {},
   "outputs": [
    {
     "data": {
      "text/html": [
       "<div>\n",
       "<style scoped>\n",
       "    .dataframe tbody tr th:only-of-type {\n",
       "        vertical-align: middle;\n",
       "    }\n",
       "\n",
       "    .dataframe tbody tr th {\n",
       "        vertical-align: top;\n",
       "    }\n",
       "\n",
       "    .dataframe thead th {\n",
       "        text-align: right;\n",
       "    }\n",
       "</style>\n",
       "<table border=\"1\" class=\"dataframe\">\n",
       "  <thead>\n",
       "    <tr style=\"text-align: right;\">\n",
       "      <th></th>\n",
       "      <th>make_model</th>\n",
       "      <th>price</th>\n",
       "      <th>km</th>\n",
       "      <th>Gears</th>\n",
       "      <th>age</th>\n",
       "      <th>hp_kW</th>\n",
       "    </tr>\n",
       "  </thead>\n",
       "  <tbody>\n",
       "    <tr>\n",
       "      <th>0</th>\n",
       "      <td>Audi A1</td>\n",
       "      <td>15770</td>\n",
       "      <td>56013.000</td>\n",
       "      <td>7.000</td>\n",
       "      <td>3.000</td>\n",
       "      <td>66.000</td>\n",
       "    </tr>\n",
       "    <tr>\n",
       "      <th>1</th>\n",
       "      <td>Audi A1</td>\n",
       "      <td>14500</td>\n",
       "      <td>80000.000</td>\n",
       "      <td>7.000</td>\n",
       "      <td>2.000</td>\n",
       "      <td>141.000</td>\n",
       "    </tr>\n",
       "    <tr>\n",
       "      <th>2</th>\n",
       "      <td>Audi A1</td>\n",
       "      <td>14640</td>\n",
       "      <td>83450.000</td>\n",
       "      <td>7.000</td>\n",
       "      <td>3.000</td>\n",
       "      <td>85.000</td>\n",
       "    </tr>\n",
       "    <tr>\n",
       "      <th>3</th>\n",
       "      <td>Audi A1</td>\n",
       "      <td>14500</td>\n",
       "      <td>73000.000</td>\n",
       "      <td>6.000</td>\n",
       "      <td>3.000</td>\n",
       "      <td>66.000</td>\n",
       "    </tr>\n",
       "    <tr>\n",
       "      <th>4</th>\n",
       "      <td>Audi A1</td>\n",
       "      <td>16790</td>\n",
       "      <td>16200.000</td>\n",
       "      <td>7.000</td>\n",
       "      <td>3.000</td>\n",
       "      <td>66.000</td>\n",
       "    </tr>\n",
       "  </tbody>\n",
       "</table>\n",
       "</div>"
      ],
      "text/plain": [
       "  make_model  price        km  Gears   age   hp_kW\n",
       "0    Audi A1  15770 56013.000  7.000 3.000  66.000\n",
       "1    Audi A1  14500 80000.000  7.000 2.000 141.000\n",
       "2    Audi A1  14640 83450.000  7.000 3.000  85.000\n",
       "3    Audi A1  14500 73000.000  6.000 3.000  66.000\n",
       "4    Audi A1  16790 16200.000  7.000 3.000  66.000"
      ]
     },
     "execution_count": 42,
     "metadata": {},
     "output_type": "execute_result"
    }
   ],
   "source": [
    "df2 = df.copy()\n",
    "df2.head()"
   ]
  },
  {
   "cell_type": "code",
   "execution_count": 43,
   "id": "dd368c79",
   "metadata": {},
   "outputs": [],
   "source": [
    "df2.to_csv('df2.csv')"
   ]
  },
  {
   "cell_type": "code",
   "execution_count": null,
   "id": "3cf6e0f3",
   "metadata": {},
   "outputs": [],
   "source": []
  },
  {
   "cell_type": "markdown",
   "id": "e0cd6a9b",
   "metadata": {},
   "source": [
    "## Modeling"
   ]
  },
  {
   "cell_type": "markdown",
   "id": "06b07f4d",
   "metadata": {},
   "source": [
    "### Train | Test Split"
   ]
  },
  {
   "cell_type": "code",
   "execution_count": 42,
   "id": "816a7024",
   "metadata": {},
   "outputs": [],
   "source": [
    "#Splitting the data to X and y\n",
    "X = df.drop(columns=\"price\")\n",
    "y = df.price"
   ]
  },
  {
   "cell_type": "code",
   "execution_count": 43,
   "id": "597a41d3",
   "metadata": {
    "scrolled": true
   },
   "outputs": [
    {
     "data": {
      "text/html": [
       "<div>\n",
       "<style scoped>\n",
       "    .dataframe tbody tr th:only-of-type {\n",
       "        vertical-align: middle;\n",
       "    }\n",
       "\n",
       "    .dataframe tbody tr th {\n",
       "        vertical-align: top;\n",
       "    }\n",
       "\n",
       "    .dataframe thead th {\n",
       "        text-align: right;\n",
       "    }\n",
       "</style>\n",
       "<table border=\"1\" class=\"dataframe\">\n",
       "  <thead>\n",
       "    <tr style=\"text-align: right;\">\n",
       "      <th></th>\n",
       "      <th>make_model</th>\n",
       "      <th>km</th>\n",
       "      <th>Gears</th>\n",
       "      <th>age</th>\n",
       "      <th>hp_kW</th>\n",
       "    </tr>\n",
       "  </thead>\n",
       "  <tbody>\n",
       "    <tr>\n",
       "      <th>0</th>\n",
       "      <td>Audi A1</td>\n",
       "      <td>56013.000</td>\n",
       "      <td>7.000</td>\n",
       "      <td>3.000</td>\n",
       "      <td>66.000</td>\n",
       "    </tr>\n",
       "    <tr>\n",
       "      <th>1</th>\n",
       "      <td>Audi A1</td>\n",
       "      <td>80000.000</td>\n",
       "      <td>7.000</td>\n",
       "      <td>2.000</td>\n",
       "      <td>141.000</td>\n",
       "    </tr>\n",
       "    <tr>\n",
       "      <th>2</th>\n",
       "      <td>Audi A1</td>\n",
       "      <td>83450.000</td>\n",
       "      <td>7.000</td>\n",
       "      <td>3.000</td>\n",
       "      <td>85.000</td>\n",
       "    </tr>\n",
       "    <tr>\n",
       "      <th>3</th>\n",
       "      <td>Audi A1</td>\n",
       "      <td>73000.000</td>\n",
       "      <td>6.000</td>\n",
       "      <td>3.000</td>\n",
       "      <td>66.000</td>\n",
       "    </tr>\n",
       "    <tr>\n",
       "      <th>4</th>\n",
       "      <td>Audi A1</td>\n",
       "      <td>16200.000</td>\n",
       "      <td>7.000</td>\n",
       "      <td>3.000</td>\n",
       "      <td>66.000</td>\n",
       "    </tr>\n",
       "  </tbody>\n",
       "</table>\n",
       "</div>"
      ],
      "text/plain": [
       "  make_model        km  Gears   age   hp_kW\n",
       "0    Audi A1 56013.000  7.000 3.000  66.000\n",
       "1    Audi A1 80000.000  7.000 2.000 141.000\n",
       "2    Audi A1 83450.000  7.000 3.000  85.000\n",
       "3    Audi A1 73000.000  6.000 3.000  66.000\n",
       "4    Audi A1 16200.000  7.000 3.000  66.000"
      ]
     },
     "execution_count": 43,
     "metadata": {},
     "output_type": "execute_result"
    }
   ],
   "source": [
    "#Seeing the head of X\n",
    "X.head()"
   ]
  },
  {
   "cell_type": "code",
   "execution_count": 44,
   "id": "88ebd9a7",
   "metadata": {
    "scrolled": true
   },
   "outputs": [
    {
     "data": {
      "text/plain": [
       "0    15770\n",
       "1    14500\n",
       "2    14640\n",
       "3    14500\n",
       "4    16790\n",
       "Name: price, dtype: int64"
      ]
     },
     "execution_count": 44,
     "metadata": {},
     "output_type": "execute_result"
    }
   ],
   "source": [
    "#seeing the head of y\n",
    "y.head()"
   ]
  },
  {
   "cell_type": "code",
   "execution_count": 45,
   "id": "22e8f935",
   "metadata": {},
   "outputs": [
    {
     "name": "stdout",
     "output_type": "stream",
     "text": [
      "X shape is: (14070, 5)\n",
      "y shape is: (14070,)\n"
     ]
    }
   ],
   "source": [
    "#Seeing the shape of X and y\n",
    "print('X shape is:', X.shape)\n",
    "print('y shape is:', y.shape)"
   ]
  },
  {
   "cell_type": "code",
   "execution_count": 46,
   "id": "561b2560",
   "metadata": {},
   "outputs": [],
   "source": [
    "#Splitting the data to train and test\n",
    "X_train, X_test, y_train, y_test = train_test_split(X, y, test_size=t, random_state=s)"
   ]
  },
  {
   "cell_type": "code",
   "execution_count": 47,
   "id": "4d3bdb90",
   "metadata": {},
   "outputs": [
    {
     "name": "stdout",
     "output_type": "stream",
     "text": [
      "X_train, shape is: (11256, 5)\n",
      "X_test shape is: (2814, 5)\n",
      "y_train, shape is: (11256,)\n",
      "y_test shape is: (2814,)\n"
     ]
    }
   ],
   "source": [
    "#Seeing the shape of X_train and X_test\n",
    "print('X_train, shape is:', X_train.shape)\n",
    "print('X_test shape is:', X_test.shape)\n",
    "\n",
    "\n",
    "#Seeing the shape of y_train and y_test\n",
    "print('y_train, shape is:', y_train.shape)\n",
    "print('y_test shape is:', y_test.shape)"
   ]
  },
  {
   "cell_type": "code",
   "execution_count": 48,
   "id": "b411391e",
   "metadata": {},
   "outputs": [
    {
     "data": {
      "text/html": [
       "<div>\n",
       "<style scoped>\n",
       "    .dataframe tbody tr th:only-of-type {\n",
       "        vertical-align: middle;\n",
       "    }\n",
       "\n",
       "    .dataframe tbody tr th {\n",
       "        vertical-align: top;\n",
       "    }\n",
       "\n",
       "    .dataframe thead th {\n",
       "        text-align: right;\n",
       "    }\n",
       "</style>\n",
       "<table border=\"1\" class=\"dataframe\">\n",
       "  <thead>\n",
       "    <tr style=\"text-align: right;\">\n",
       "      <th></th>\n",
       "      <th>make_model</th>\n",
       "      <th>km</th>\n",
       "      <th>Gears</th>\n",
       "      <th>age</th>\n",
       "      <th>hp_kW</th>\n",
       "    </tr>\n",
       "  </thead>\n",
       "  <tbody>\n",
       "    <tr>\n",
       "      <th>8963</th>\n",
       "      <td>Opel Corsa</td>\n",
       "      <td>9.000</td>\n",
       "      <td>6.000</td>\n",
       "      <td>0.000</td>\n",
       "      <td>66.000</td>\n",
       "    </tr>\n",
       "    <tr>\n",
       "      <th>13900</th>\n",
       "      <td>Renault Espace</td>\n",
       "      <td>21709.000</td>\n",
       "      <td>6.000</td>\n",
       "      <td>2.000</td>\n",
       "      <td>118.000</td>\n",
       "    </tr>\n",
       "    <tr>\n",
       "      <th>11322</th>\n",
       "      <td>Opel Insignia</td>\n",
       "      <td>1647.363</td>\n",
       "      <td>6.000</td>\n",
       "      <td>0.000</td>\n",
       "      <td>100.000</td>\n",
       "    </tr>\n",
       "    <tr>\n",
       "      <th>2917</th>\n",
       "      <td>Audi A3</td>\n",
       "      <td>156000.000</td>\n",
       "      <td>6.000</td>\n",
       "      <td>3.000</td>\n",
       "      <td>81.000</td>\n",
       "    </tr>\n",
       "    <tr>\n",
       "      <th>10780</th>\n",
       "      <td>Opel Insignia</td>\n",
       "      <td>29900.000</td>\n",
       "      <td>6.000</td>\n",
       "      <td>1.000</td>\n",
       "      <td>125.000</td>\n",
       "    </tr>\n",
       "  </tbody>\n",
       "</table>\n",
       "</div>"
      ],
      "text/plain": [
       "           make_model         km  Gears   age   hp_kW\n",
       "8963       Opel Corsa      9.000  6.000 0.000  66.000\n",
       "13900  Renault Espace  21709.000  6.000 2.000 118.000\n",
       "11322   Opel Insignia   1647.363  6.000 0.000 100.000\n",
       "2917          Audi A3 156000.000  6.000 3.000  81.000\n",
       "10780   Opel Insignia  29900.000  6.000 1.000 125.000"
      ]
     },
     "execution_count": 48,
     "metadata": {},
     "output_type": "execute_result"
    }
   ],
   "source": [
    "#Seeing the head of X_train\n",
    "X_train.head()"
   ]
  },
  {
   "cell_type": "code",
   "execution_count": 49,
   "id": "ddf3e5fc",
   "metadata": {
    "scrolled": true
   },
   "outputs": [
    {
     "data": {
      "text/html": [
       "<div>\n",
       "<style scoped>\n",
       "    .dataframe tbody tr th:only-of-type {\n",
       "        vertical-align: middle;\n",
       "    }\n",
       "\n",
       "    .dataframe tbody tr th {\n",
       "        vertical-align: top;\n",
       "    }\n",
       "\n",
       "    .dataframe thead th {\n",
       "        text-align: right;\n",
       "    }\n",
       "</style>\n",
       "<table border=\"1\" class=\"dataframe\">\n",
       "  <thead>\n",
       "    <tr style=\"text-align: right;\">\n",
       "      <th></th>\n",
       "      <th>make_model</th>\n",
       "      <th>km</th>\n",
       "      <th>Gears</th>\n",
       "      <th>age</th>\n",
       "      <th>hp_kW</th>\n",
       "    </tr>\n",
       "  </thead>\n",
       "  <tbody>\n",
       "    <tr>\n",
       "      <th>2102</th>\n",
       "      <td>Audi A1</td>\n",
       "      <td>4500.000</td>\n",
       "      <td>5.000</td>\n",
       "      <td>0.000</td>\n",
       "      <td>66.000</td>\n",
       "    </tr>\n",
       "    <tr>\n",
       "      <th>1985</th>\n",
       "      <td>Audi A1</td>\n",
       "      <td>7500.000</td>\n",
       "      <td>7.000</td>\n",
       "      <td>0.000</td>\n",
       "      <td>85.000</td>\n",
       "    </tr>\n",
       "    <tr>\n",
       "      <th>11624</th>\n",
       "      <td>Opel Insignia</td>\n",
       "      <td>1647.363</td>\n",
       "      <td>6.000</td>\n",
       "      <td>0.000</td>\n",
       "      <td>121.000</td>\n",
       "    </tr>\n",
       "    <tr>\n",
       "      <th>666</th>\n",
       "      <td>Audi A1</td>\n",
       "      <td>11707.000</td>\n",
       "      <td>5.000</td>\n",
       "      <td>1.000</td>\n",
       "      <td>60.000</td>\n",
       "    </tr>\n",
       "    <tr>\n",
       "      <th>7689</th>\n",
       "      <td>Opel Corsa</td>\n",
       "      <td>22635.000</td>\n",
       "      <td>6.000</td>\n",
       "      <td>3.000</td>\n",
       "      <td>66.000</td>\n",
       "    </tr>\n",
       "  </tbody>\n",
       "</table>\n",
       "</div>"
      ],
      "text/plain": [
       "          make_model        km  Gears   age   hp_kW\n",
       "2102         Audi A1  4500.000  5.000 0.000  66.000\n",
       "1985         Audi A1  7500.000  7.000 0.000  85.000\n",
       "11624  Opel Insignia  1647.363  6.000 0.000 121.000\n",
       "666          Audi A1 11707.000  5.000 1.000  60.000\n",
       "7689      Opel Corsa 22635.000  6.000 3.000  66.000"
      ]
     },
     "execution_count": 49,
     "metadata": {},
     "output_type": "execute_result"
    }
   ],
   "source": [
    "#Seeing the head of X_test\n",
    "X_test.head()"
   ]
  },
  {
   "cell_type": "code",
   "execution_count": 50,
   "id": "e629d2d6",
   "metadata": {
    "scrolled": true
   },
   "outputs": [
    {
     "data": {
      "text/plain": [
       "8963     16990\n",
       "13900    29990\n",
       "11322    34490\n",
       "2917     11990\n",
       "10780    23970\n",
       "Name: price, dtype: int64"
      ]
     },
     "execution_count": 50,
     "metadata": {},
     "output_type": "execute_result"
    }
   ],
   "source": [
    "#Seeing the head of y_train\n",
    "y_train.head()"
   ]
  },
  {
   "cell_type": "code",
   "execution_count": 51,
   "id": "4245aa92",
   "metadata": {
    "scrolled": true
   },
   "outputs": [
    {
     "data": {
      "text/plain": [
       "2102     20000\n",
       "1985     24999\n",
       "11624    33335\n",
       "666      14220\n",
       "7689     11990\n",
       "Name: price, dtype: int64"
      ]
     },
     "execution_count": 51,
     "metadata": {},
     "output_type": "execute_result"
    }
   ],
   "source": [
    "#Seeing the head of y_test\n",
    "y_test.head()"
   ]
  },
  {
   "cell_type": "code",
   "execution_count": 52,
   "id": "dfd3ef59",
   "metadata": {
    "scrolled": false
   },
   "outputs": [
    {
     "data": {
      "text/html": [
       "<div>\n",
       "<style scoped>\n",
       "    .dataframe tbody tr th:only-of-type {\n",
       "        vertical-align: middle;\n",
       "    }\n",
       "\n",
       "    .dataframe tbody tr th {\n",
       "        vertical-align: top;\n",
       "    }\n",
       "\n",
       "    .dataframe thead th {\n",
       "        text-align: right;\n",
       "    }\n",
       "</style>\n",
       "<table border=\"1\" class=\"dataframe\">\n",
       "  <thead>\n",
       "    <tr style=\"text-align: right;\">\n",
       "      <th></th>\n",
       "      <th>make_model</th>\n",
       "    </tr>\n",
       "  </thead>\n",
       "  <tbody>\n",
       "    <tr>\n",
       "      <th>0</th>\n",
       "      <td>Audi A1</td>\n",
       "    </tr>\n",
       "  </tbody>\n",
       "</table>\n",
       "</div>"
      ],
      "text/plain": [
       "  make_model\n",
       "0    Audi A1"
      ]
     },
     "execution_count": 52,
     "metadata": {},
     "output_type": "execute_result"
    }
   ],
   "source": [
    "#Seeing the object classes in the data set\n",
    "df.select_dtypes(include=\"object\").head(1)"
   ]
  },
  {
   "cell_type": "code",
   "execution_count": 53,
   "id": "48ac25fa",
   "metadata": {},
   "outputs": [
    {
     "data": {
      "text/plain": [
       "Index(['make_model'], dtype='object')"
      ]
     },
     "execution_count": 53,
     "metadata": {},
     "output_type": "execute_result"
    }
   ],
   "source": [
    "cat_ob = X_train.select_dtypes(\"object\").columns\n",
    "cat_ob"
   ]
  },
  {
   "cell_type": "code",
   "execution_count": 54,
   "id": "1fd5742a",
   "metadata": {},
   "outputs": [],
   "source": [
    "ord_enc = OrdinalEncoder()\n",
    "trans = make_column_transformer((ord_enc, cat_ob), remainder='passthrough', verbose_feature_names_out=False).set_output(transform=\"pandas\")\n",
    "# remainder: # Keep other columns rather than cat in original form.\n",
    "# remainder: # if you want to scale rest of cat columns use \"minmax\" istead passthroug\n",
    "    \n",
    "    # Apply ord_enc to categoric variables and remain in original form rest of them.\n",
    "    # ord_enc for DT based algorithms\n",
    "    # For Linear reg, log reg vs. use one hot encoder "
   ]
  },
  {
   "cell_type": "code",
   "execution_count": 55,
   "id": "53081185",
   "metadata": {
    "scrolled": true
   },
   "outputs": [
    {
     "data": {
      "text/html": [
       "<div>\n",
       "<style scoped>\n",
       "    .dataframe tbody tr th:only-of-type {\n",
       "        vertical-align: middle;\n",
       "    }\n",
       "\n",
       "    .dataframe tbody tr th {\n",
       "        vertical-align: top;\n",
       "    }\n",
       "\n",
       "    .dataframe thead th {\n",
       "        text-align: right;\n",
       "    }\n",
       "</style>\n",
       "<table border=\"1\" class=\"dataframe\">\n",
       "  <thead>\n",
       "    <tr style=\"text-align: right;\">\n",
       "      <th></th>\n",
       "      <th>make_model</th>\n",
       "      <th>km</th>\n",
       "      <th>Gears</th>\n",
       "      <th>age</th>\n",
       "      <th>hp_kW</th>\n",
       "    </tr>\n",
       "  </thead>\n",
       "  <tbody>\n",
       "    <tr>\n",
       "      <th>8963</th>\n",
       "      <td>Opel Corsa</td>\n",
       "      <td>9.000</td>\n",
       "      <td>6.000</td>\n",
       "      <td>0.000</td>\n",
       "      <td>66.000</td>\n",
       "    </tr>\n",
       "    <tr>\n",
       "      <th>13900</th>\n",
       "      <td>Renault Espace</td>\n",
       "      <td>21709.000</td>\n",
       "      <td>6.000</td>\n",
       "      <td>2.000</td>\n",
       "      <td>118.000</td>\n",
       "    </tr>\n",
       "    <tr>\n",
       "      <th>11322</th>\n",
       "      <td>Opel Insignia</td>\n",
       "      <td>1647.363</td>\n",
       "      <td>6.000</td>\n",
       "      <td>0.000</td>\n",
       "      <td>100.000</td>\n",
       "    </tr>\n",
       "    <tr>\n",
       "      <th>2917</th>\n",
       "      <td>Audi A3</td>\n",
       "      <td>156000.000</td>\n",
       "      <td>6.000</td>\n",
       "      <td>3.000</td>\n",
       "      <td>81.000</td>\n",
       "    </tr>\n",
       "    <tr>\n",
       "      <th>10780</th>\n",
       "      <td>Opel Insignia</td>\n",
       "      <td>29900.000</td>\n",
       "      <td>6.000</td>\n",
       "      <td>1.000</td>\n",
       "      <td>125.000</td>\n",
       "    </tr>\n",
       "  </tbody>\n",
       "</table>\n",
       "</div>"
      ],
      "text/plain": [
       "           make_model         km  Gears   age   hp_kW\n",
       "8963       Opel Corsa      9.000  6.000 0.000  66.000\n",
       "13900  Renault Espace  21709.000  6.000 2.000 118.000\n",
       "11322   Opel Insignia   1647.363  6.000 0.000 100.000\n",
       "2917          Audi A3 156000.000  6.000 3.000  81.000\n",
       "10780   Opel Insignia  29900.000  6.000 1.000 125.000"
      ]
     },
     "execution_count": 55,
     "metadata": {},
     "output_type": "execute_result"
    }
   ],
   "source": [
    "#Seeing the head of X_train\n",
    "X_train.head()"
   ]
  },
  {
   "cell_type": "code",
   "execution_count": 56,
   "id": "107359de",
   "metadata": {},
   "outputs": [],
   "source": [
    "#Fitting the trans with X_train\n",
    "X_train_trans = trans.fit_transform(X_train)\n",
    "\n",
    "#Fitting the trans with X_test\n",
    "X_test_trans = trans.transform(X_test)"
   ]
  },
  {
   "cell_type": "code",
   "execution_count": 57,
   "id": "dc619869",
   "metadata": {},
   "outputs": [
    {
     "data": {
      "text/html": [
       "<div>\n",
       "<style scoped>\n",
       "    .dataframe tbody tr th:only-of-type {\n",
       "        vertical-align: middle;\n",
       "    }\n",
       "\n",
       "    .dataframe tbody tr th {\n",
       "        vertical-align: top;\n",
       "    }\n",
       "\n",
       "    .dataframe thead th {\n",
       "        text-align: right;\n",
       "    }\n",
       "</style>\n",
       "<table border=\"1\" class=\"dataframe\">\n",
       "  <thead>\n",
       "    <tr style=\"text-align: right;\">\n",
       "      <th></th>\n",
       "      <th>make_model</th>\n",
       "      <th>km</th>\n",
       "      <th>Gears</th>\n",
       "      <th>age</th>\n",
       "      <th>hp_kW</th>\n",
       "    </tr>\n",
       "  </thead>\n",
       "  <tbody>\n",
       "    <tr>\n",
       "      <th>8963</th>\n",
       "      <td>3.000</td>\n",
       "      <td>9.000</td>\n",
       "      <td>6.000</td>\n",
       "      <td>0.000</td>\n",
       "      <td>66.000</td>\n",
       "    </tr>\n",
       "    <tr>\n",
       "      <th>13900</th>\n",
       "      <td>6.000</td>\n",
       "      <td>21709.000</td>\n",
       "      <td>6.000</td>\n",
       "      <td>2.000</td>\n",
       "      <td>118.000</td>\n",
       "    </tr>\n",
       "    <tr>\n",
       "      <th>11322</th>\n",
       "      <td>4.000</td>\n",
       "      <td>1647.363</td>\n",
       "      <td>6.000</td>\n",
       "      <td>0.000</td>\n",
       "      <td>100.000</td>\n",
       "    </tr>\n",
       "    <tr>\n",
       "      <th>2917</th>\n",
       "      <td>1.000</td>\n",
       "      <td>156000.000</td>\n",
       "      <td>6.000</td>\n",
       "      <td>3.000</td>\n",
       "      <td>81.000</td>\n",
       "    </tr>\n",
       "    <tr>\n",
       "      <th>10780</th>\n",
       "      <td>4.000</td>\n",
       "      <td>29900.000</td>\n",
       "      <td>6.000</td>\n",
       "      <td>1.000</td>\n",
       "      <td>125.000</td>\n",
       "    </tr>\n",
       "    <tr>\n",
       "      <th>...</th>\n",
       "      <td>...</td>\n",
       "      <td>...</td>\n",
       "      <td>...</td>\n",
       "      <td>...</td>\n",
       "      <td>...</td>\n",
       "    </tr>\n",
       "    <tr>\n",
       "      <th>5718</th>\n",
       "      <td>2.000</td>\n",
       "      <td>36600.000</td>\n",
       "      <td>5.000</td>\n",
       "      <td>3.000</td>\n",
       "      <td>77.000</td>\n",
       "    </tr>\n",
       "    <tr>\n",
       "      <th>8029</th>\n",
       "      <td>3.000</td>\n",
       "      <td>8930.000</td>\n",
       "      <td>6.000</td>\n",
       "      <td>1.000</td>\n",
       "      <td>66.000</td>\n",
       "    </tr>\n",
       "    <tr>\n",
       "      <th>1361</th>\n",
       "      <td>0.000</td>\n",
       "      <td>7987.000</td>\n",
       "      <td>7.000</td>\n",
       "      <td>1.000</td>\n",
       "      <td>141.000</td>\n",
       "    </tr>\n",
       "    <tr>\n",
       "      <th>1547</th>\n",
       "      <td>0.000</td>\n",
       "      <td>6600.000</td>\n",
       "      <td>7.000</td>\n",
       "      <td>1.000</td>\n",
       "      <td>85.000</td>\n",
       "    </tr>\n",
       "    <tr>\n",
       "      <th>13200</th>\n",
       "      <td>5.000</td>\n",
       "      <td>1647.363</td>\n",
       "      <td>5.000</td>\n",
       "      <td>0.000</td>\n",
       "      <td>66.000</td>\n",
       "    </tr>\n",
       "  </tbody>\n",
       "</table>\n",
       "<p>11256 rows × 5 columns</p>\n",
       "</div>"
      ],
      "text/plain": [
       "       make_model         km  Gears   age   hp_kW\n",
       "8963        3.000      9.000  6.000 0.000  66.000\n",
       "13900       6.000  21709.000  6.000 2.000 118.000\n",
       "11322       4.000   1647.363  6.000 0.000 100.000\n",
       "2917        1.000 156000.000  6.000 3.000  81.000\n",
       "10780       4.000  29900.000  6.000 1.000 125.000\n",
       "...           ...        ...    ...   ...     ...\n",
       "5718        2.000  36600.000  5.000 3.000  77.000\n",
       "8029        3.000   8930.000  6.000 1.000  66.000\n",
       "1361        0.000   7987.000  7.000 1.000 141.000\n",
       "1547        0.000   6600.000  7.000 1.000  85.000\n",
       "13200       5.000   1647.363  5.000 0.000  66.000\n",
       "\n",
       "[11256 rows x 5 columns]"
      ]
     },
     "execution_count": 57,
     "metadata": {},
     "output_type": "execute_result"
    }
   ],
   "source": [
    "#Seeing X_train_trans after converting\n",
    "X_train_trans"
   ]
  },
  {
   "cell_type": "code",
   "execution_count": 58,
   "id": "c98e812a",
   "metadata": {},
   "outputs": [
    {
     "data": {
      "text/html": [
       "<div>\n",
       "<style scoped>\n",
       "    .dataframe tbody tr th:only-of-type {\n",
       "        vertical-align: middle;\n",
       "    }\n",
       "\n",
       "    .dataframe tbody tr th {\n",
       "        vertical-align: top;\n",
       "    }\n",
       "\n",
       "    .dataframe thead th {\n",
       "        text-align: right;\n",
       "    }\n",
       "</style>\n",
       "<table border=\"1\" class=\"dataframe\">\n",
       "  <thead>\n",
       "    <tr style=\"text-align: right;\">\n",
       "      <th></th>\n",
       "      <th>make_model</th>\n",
       "      <th>km</th>\n",
       "      <th>Gears</th>\n",
       "      <th>age</th>\n",
       "      <th>hp_kW</th>\n",
       "    </tr>\n",
       "  </thead>\n",
       "  <tbody>\n",
       "    <tr>\n",
       "      <th>8963</th>\n",
       "      <td>Opel Corsa</td>\n",
       "      <td>9.000</td>\n",
       "      <td>6.000</td>\n",
       "      <td>0.000</td>\n",
       "      <td>66.000</td>\n",
       "    </tr>\n",
       "    <tr>\n",
       "      <th>13900</th>\n",
       "      <td>Renault Espace</td>\n",
       "      <td>21709.000</td>\n",
       "      <td>6.000</td>\n",
       "      <td>2.000</td>\n",
       "      <td>118.000</td>\n",
       "    </tr>\n",
       "    <tr>\n",
       "      <th>11322</th>\n",
       "      <td>Opel Insignia</td>\n",
       "      <td>1647.363</td>\n",
       "      <td>6.000</td>\n",
       "      <td>0.000</td>\n",
       "      <td>100.000</td>\n",
       "    </tr>\n",
       "    <tr>\n",
       "      <th>2917</th>\n",
       "      <td>Audi A3</td>\n",
       "      <td>156000.000</td>\n",
       "      <td>6.000</td>\n",
       "      <td>3.000</td>\n",
       "      <td>81.000</td>\n",
       "    </tr>\n",
       "    <tr>\n",
       "      <th>10780</th>\n",
       "      <td>Opel Insignia</td>\n",
       "      <td>29900.000</td>\n",
       "      <td>6.000</td>\n",
       "      <td>1.000</td>\n",
       "      <td>125.000</td>\n",
       "    </tr>\n",
       "    <tr>\n",
       "      <th>...</th>\n",
       "      <td>...</td>\n",
       "      <td>...</td>\n",
       "      <td>...</td>\n",
       "      <td>...</td>\n",
       "      <td>...</td>\n",
       "    </tr>\n",
       "    <tr>\n",
       "      <th>5718</th>\n",
       "      <td>Opel Astra</td>\n",
       "      <td>36600.000</td>\n",
       "      <td>5.000</td>\n",
       "      <td>3.000</td>\n",
       "      <td>77.000</td>\n",
       "    </tr>\n",
       "    <tr>\n",
       "      <th>8029</th>\n",
       "      <td>Opel Corsa</td>\n",
       "      <td>8930.000</td>\n",
       "      <td>6.000</td>\n",
       "      <td>1.000</td>\n",
       "      <td>66.000</td>\n",
       "    </tr>\n",
       "    <tr>\n",
       "      <th>1361</th>\n",
       "      <td>Audi A1</td>\n",
       "      <td>7987.000</td>\n",
       "      <td>7.000</td>\n",
       "      <td>1.000</td>\n",
       "      <td>141.000</td>\n",
       "    </tr>\n",
       "    <tr>\n",
       "      <th>1547</th>\n",
       "      <td>Audi A1</td>\n",
       "      <td>6600.000</td>\n",
       "      <td>7.000</td>\n",
       "      <td>1.000</td>\n",
       "      <td>85.000</td>\n",
       "    </tr>\n",
       "    <tr>\n",
       "      <th>13200</th>\n",
       "      <td>Renault Clio</td>\n",
       "      <td>1647.363</td>\n",
       "      <td>5.000</td>\n",
       "      <td>0.000</td>\n",
       "      <td>66.000</td>\n",
       "    </tr>\n",
       "  </tbody>\n",
       "</table>\n",
       "<p>11256 rows × 5 columns</p>\n",
       "</div>"
      ],
      "text/plain": [
       "           make_model         km  Gears   age   hp_kW\n",
       "8963       Opel Corsa      9.000  6.000 0.000  66.000\n",
       "13900  Renault Espace  21709.000  6.000 2.000 118.000\n",
       "11322   Opel Insignia   1647.363  6.000 0.000 100.000\n",
       "2917          Audi A3 156000.000  6.000 3.000  81.000\n",
       "10780   Opel Insignia  29900.000  6.000 1.000 125.000\n",
       "...               ...        ...    ...   ...     ...\n",
       "5718       Opel Astra  36600.000  5.000 3.000  77.000\n",
       "8029       Opel Corsa   8930.000  6.000 1.000  66.000\n",
       "1361          Audi A1   7987.000  7.000 1.000 141.000\n",
       "1547          Audi A1   6600.000  7.000 1.000  85.000\n",
       "13200    Renault Clio   1647.363  5.000 0.000  66.000\n",
       "\n",
       "[11256 rows x 5 columns]"
      ]
     },
     "execution_count": 58,
     "metadata": {},
     "output_type": "execute_result"
    }
   ],
   "source": [
    "#Seeing X_train without transforming or using encoder on it\n",
    "X_train"
   ]
  },
  {
   "cell_type": "code",
   "execution_count": 59,
   "id": "7415662c",
   "metadata": {},
   "outputs": [
    {
     "data": {
      "text/plain": [
       "((11256, 5), (2814, 5))"
      ]
     },
     "execution_count": 59,
     "metadata": {},
     "output_type": "execute_result"
    }
   ],
   "source": [
    "#Seeing the shape of X_train_trans and X_test_trans\n",
    "X_train_trans.shape, X_test_trans.shape "
   ]
  },
  {
   "cell_type": "code",
   "execution_count": 60,
   "id": "4aecb7b6",
   "metadata": {
    "scrolled": true
   },
   "outputs": [
    {
     "data": {
      "text/html": [
       "<div>\n",
       "<style scoped>\n",
       "    .dataframe tbody tr th:only-of-type {\n",
       "        vertical-align: middle;\n",
       "    }\n",
       "\n",
       "    .dataframe tbody tr th {\n",
       "        vertical-align: top;\n",
       "    }\n",
       "\n",
       "    .dataframe thead th {\n",
       "        text-align: right;\n",
       "    }\n",
       "</style>\n",
       "<table border=\"1\" class=\"dataframe\">\n",
       "  <thead>\n",
       "    <tr style=\"text-align: right;\">\n",
       "      <th></th>\n",
       "      <th>make_model</th>\n",
       "      <th>km</th>\n",
       "      <th>Gears</th>\n",
       "      <th>age</th>\n",
       "      <th>hp_kW</th>\n",
       "    </tr>\n",
       "  </thead>\n",
       "  <tbody>\n",
       "    <tr>\n",
       "      <th>8963</th>\n",
       "      <td>3.000</td>\n",
       "      <td>9.000</td>\n",
       "      <td>6.000</td>\n",
       "      <td>0.000</td>\n",
       "      <td>66.000</td>\n",
       "    </tr>\n",
       "    <tr>\n",
       "      <th>13900</th>\n",
       "      <td>6.000</td>\n",
       "      <td>21709.000</td>\n",
       "      <td>6.000</td>\n",
       "      <td>2.000</td>\n",
       "      <td>118.000</td>\n",
       "    </tr>\n",
       "    <tr>\n",
       "      <th>11322</th>\n",
       "      <td>4.000</td>\n",
       "      <td>1647.363</td>\n",
       "      <td>6.000</td>\n",
       "      <td>0.000</td>\n",
       "      <td>100.000</td>\n",
       "    </tr>\n",
       "    <tr>\n",
       "      <th>2917</th>\n",
       "      <td>1.000</td>\n",
       "      <td>156000.000</td>\n",
       "      <td>6.000</td>\n",
       "      <td>3.000</td>\n",
       "      <td>81.000</td>\n",
       "    </tr>\n",
       "    <tr>\n",
       "      <th>10780</th>\n",
       "      <td>4.000</td>\n",
       "      <td>29900.000</td>\n",
       "      <td>6.000</td>\n",
       "      <td>1.000</td>\n",
       "      <td>125.000</td>\n",
       "    </tr>\n",
       "  </tbody>\n",
       "</table>\n",
       "</div>"
      ],
      "text/plain": [
       "       make_model         km  Gears   age   hp_kW\n",
       "8963        3.000      9.000  6.000 0.000  66.000\n",
       "13900       6.000  21709.000  6.000 2.000 118.000\n",
       "11322       4.000   1647.363  6.000 0.000 100.000\n",
       "2917        1.000 156000.000  6.000 3.000  81.000\n",
       "10780       4.000  29900.000  6.000 1.000 125.000"
      ]
     },
     "execution_count": 60,
     "metadata": {},
     "output_type": "execute_result"
    }
   ],
   "source": [
    "#Seeing the head of X_train_trans\n",
    "X_train_trans.head()"
   ]
  },
  {
   "cell_type": "code",
   "execution_count": 61,
   "id": "d526399e",
   "metadata": {
    "scrolled": true
   },
   "outputs": [
    {
     "data": {
      "text/html": [
       "<div>\n",
       "<style scoped>\n",
       "    .dataframe tbody tr th:only-of-type {\n",
       "        vertical-align: middle;\n",
       "    }\n",
       "\n",
       "    .dataframe tbody tr th {\n",
       "        vertical-align: top;\n",
       "    }\n",
       "\n",
       "    .dataframe thead th {\n",
       "        text-align: right;\n",
       "    }\n",
       "</style>\n",
       "<table border=\"1\" class=\"dataframe\">\n",
       "  <thead>\n",
       "    <tr style=\"text-align: right;\">\n",
       "      <th></th>\n",
       "      <th>make_model</th>\n",
       "      <th>km</th>\n",
       "      <th>Gears</th>\n",
       "      <th>age</th>\n",
       "      <th>hp_kW</th>\n",
       "    </tr>\n",
       "  </thead>\n",
       "  <tbody>\n",
       "    <tr>\n",
       "      <th>2102</th>\n",
       "      <td>0.000</td>\n",
       "      <td>4500.000</td>\n",
       "      <td>5.000</td>\n",
       "      <td>0.000</td>\n",
       "      <td>66.000</td>\n",
       "    </tr>\n",
       "    <tr>\n",
       "      <th>1985</th>\n",
       "      <td>0.000</td>\n",
       "      <td>7500.000</td>\n",
       "      <td>7.000</td>\n",
       "      <td>0.000</td>\n",
       "      <td>85.000</td>\n",
       "    </tr>\n",
       "    <tr>\n",
       "      <th>11624</th>\n",
       "      <td>4.000</td>\n",
       "      <td>1647.363</td>\n",
       "      <td>6.000</td>\n",
       "      <td>0.000</td>\n",
       "      <td>121.000</td>\n",
       "    </tr>\n",
       "    <tr>\n",
       "      <th>666</th>\n",
       "      <td>0.000</td>\n",
       "      <td>11707.000</td>\n",
       "      <td>5.000</td>\n",
       "      <td>1.000</td>\n",
       "      <td>60.000</td>\n",
       "    </tr>\n",
       "    <tr>\n",
       "      <th>7689</th>\n",
       "      <td>3.000</td>\n",
       "      <td>22635.000</td>\n",
       "      <td>6.000</td>\n",
       "      <td>3.000</td>\n",
       "      <td>66.000</td>\n",
       "    </tr>\n",
       "  </tbody>\n",
       "</table>\n",
       "</div>"
      ],
      "text/plain": [
       "       make_model        km  Gears   age   hp_kW\n",
       "2102        0.000  4500.000  5.000 0.000  66.000\n",
       "1985        0.000  7500.000  7.000 0.000  85.000\n",
       "11624       4.000  1647.363  6.000 0.000 121.000\n",
       "666         0.000 11707.000  5.000 1.000  60.000\n",
       "7689        3.000 22635.000  6.000 3.000  66.000"
      ]
     },
     "execution_count": 61,
     "metadata": {},
     "output_type": "execute_result"
    }
   ],
   "source": [
    "#Seeing the head of X_test_trans\n",
    "X_test_trans.head()"
   ]
  },
  {
   "cell_type": "markdown",
   "id": "520c6865",
   "metadata": {},
   "source": [
    "#### Eval Function"
   ]
  },
  {
   "cell_type": "code",
   "execution_count": 62,
   "id": "b33bf1ab",
   "metadata": {},
   "outputs": [],
   "source": [
    "#Creating the eval function to see the metrics\n",
    "# Pre-defined functions\n",
    "\n",
    "def eval(model, X_train, y_train, X_test, y_test):\n",
    "    \"\"\"This function will help you get regression metrics on both train\n",
    "    and test set provided.\n",
    "\n",
    "    Args:\n",
    "        model : model that is used for prediction\n",
    "        X_train : Train features\n",
    "        y_train : Train target\n",
    "        X_test  : Test features\n",
    "        y_test  : Test target\n",
    "\n",
    "    Returns:\n",
    "        Dataframe : Returns scores dataframe\n",
    "    \"\"\"\n",
    "\n",
    "    y_pred = model.predict(X_test)\n",
    "    y_train_pred = model.predict(X_train)\n",
    "\n",
    "    scores = {\"train\": {\"R2\" : r2_score(y_train, y_train_pred),\n",
    "    \"mae\" : mean_absolute_error(y_train, y_train_pred),\n",
    "    \"mse\" : mean_squared_error(y_train, y_train_pred),\n",
    "    \"rmse\" : np.sqrt(mean_squared_error(y_train, y_train_pred))},\n",
    "\n",
    "    \"test\": {\"R2\" : r2_score(y_test, y_pred),\n",
    "    \"mae\" : mean_absolute_error(y_test, y_pred),\n",
    "    \"mse\" : mean_squared_error(y_test, y_pred),\n",
    "    \"rmse\" : np.sqrt(mean_squared_error(y_test, y_pred))}}\n",
    "\n",
    "    return pd.DataFrame(scores)\n",
    "\n",
    "\n",
    "# Adjusted R2 Score\n",
    "def adj_r2(y_test, y_pred, X):\n",
    "    \"\"\"This function gives adjusted R^2\n",
    "\n",
    "    Args:\n",
    "        y_test : Actual target\n",
    "        y_pred : Predcition\n",
    "        X : Features\n",
    "\n",
    "    Returns:\n",
    "        adj_r2: Adjusted R^2\n",
    "    \"\"\"\n",
    "    r2 = r2_score(y_test, y_pred)\n",
    "    n = X.shape[0]   # number of observations\n",
    "    p = X.shape[1]   # number of independent variables\n",
    "    adj_r2 = 1 - (1-r2)*(n-1)/(n-p-1)\n",
    "    return adj_r2\n"
   ]
  },
  {
   "cell_type": "markdown",
   "id": "7cab073f",
   "metadata": {
    "scrolled": true
   },
   "source": [
    "### RF Model"
   ]
  },
  {
   "cell_type": "code",
   "execution_count": 63,
   "id": "8b4b8c10",
   "metadata": {},
   "outputs": [
    {
     "data": {
      "text/html": [
       "<style>#sk-container-id-1 {color: black;background-color: white;}#sk-container-id-1 pre{padding: 0;}#sk-container-id-1 div.sk-toggleable {background-color: white;}#sk-container-id-1 label.sk-toggleable__label {cursor: pointer;display: block;width: 100%;margin-bottom: 0;padding: 0.3em;box-sizing: border-box;text-align: center;}#sk-container-id-1 label.sk-toggleable__label-arrow:before {content: \"▸\";float: left;margin-right: 0.25em;color: #696969;}#sk-container-id-1 label.sk-toggleable__label-arrow:hover:before {color: black;}#sk-container-id-1 div.sk-estimator:hover label.sk-toggleable__label-arrow:before {color: black;}#sk-container-id-1 div.sk-toggleable__content {max-height: 0;max-width: 0;overflow: hidden;text-align: left;background-color: #f0f8ff;}#sk-container-id-1 div.sk-toggleable__content pre {margin: 0.2em;color: black;border-radius: 0.25em;background-color: #f0f8ff;}#sk-container-id-1 input.sk-toggleable__control:checked~div.sk-toggleable__content {max-height: 200px;max-width: 100%;overflow: auto;}#sk-container-id-1 input.sk-toggleable__control:checked~label.sk-toggleable__label-arrow:before {content: \"▾\";}#sk-container-id-1 div.sk-estimator input.sk-toggleable__control:checked~label.sk-toggleable__label {background-color: #d4ebff;}#sk-container-id-1 div.sk-label input.sk-toggleable__control:checked~label.sk-toggleable__label {background-color: #d4ebff;}#sk-container-id-1 input.sk-hidden--visually {border: 0;clip: rect(1px 1px 1px 1px);clip: rect(1px, 1px, 1px, 1px);height: 1px;margin: -1px;overflow: hidden;padding: 0;position: absolute;width: 1px;}#sk-container-id-1 div.sk-estimator {font-family: monospace;background-color: #f0f8ff;border: 1px dotted black;border-radius: 0.25em;box-sizing: border-box;margin-bottom: 0.5em;}#sk-container-id-1 div.sk-estimator:hover {background-color: #d4ebff;}#sk-container-id-1 div.sk-parallel-item::after {content: \"\";width: 100%;border-bottom: 1px solid gray;flex-grow: 1;}#sk-container-id-1 div.sk-label:hover label.sk-toggleable__label {background-color: #d4ebff;}#sk-container-id-1 div.sk-serial::before {content: \"\";position: absolute;border-left: 1px solid gray;box-sizing: border-box;top: 0;bottom: 0;left: 50%;z-index: 0;}#sk-container-id-1 div.sk-serial {display: flex;flex-direction: column;align-items: center;background-color: white;padding-right: 0.2em;padding-left: 0.2em;position: relative;}#sk-container-id-1 div.sk-item {position: relative;z-index: 1;}#sk-container-id-1 div.sk-parallel {display: flex;align-items: stretch;justify-content: center;background-color: white;position: relative;}#sk-container-id-1 div.sk-item::before, #sk-container-id-1 div.sk-parallel-item::before {content: \"\";position: absolute;border-left: 1px solid gray;box-sizing: border-box;top: 0;bottom: 0;left: 50%;z-index: -1;}#sk-container-id-1 div.sk-parallel-item {display: flex;flex-direction: column;z-index: 1;position: relative;background-color: white;}#sk-container-id-1 div.sk-parallel-item:first-child::after {align-self: flex-end;width: 50%;}#sk-container-id-1 div.sk-parallel-item:last-child::after {align-self: flex-start;width: 50%;}#sk-container-id-1 div.sk-parallel-item:only-child::after {width: 0;}#sk-container-id-1 div.sk-dashed-wrapped {border: 1px dashed gray;margin: 0 0.4em 0.5em 0.4em;box-sizing: border-box;padding-bottom: 0.4em;background-color: white;}#sk-container-id-1 div.sk-label label {font-family: monospace;font-weight: bold;display: inline-block;line-height: 1.2em;}#sk-container-id-1 div.sk-label-container {text-align: center;}#sk-container-id-1 div.sk-container {/* jupyter's `normalize.less` sets `[hidden] { display: none; }` but bootstrap.min.css set `[hidden] { display: none !important; }` so we also need the `!important` here to be able to override the default hidden behavior on the sphinx rendered scikit-learn.org. See: https://github.com/scikit-learn/scikit-learn/issues/21755 */display: inline-block !important;position: relative;}#sk-container-id-1 div.sk-text-repr-fallback {display: none;}</style><div id=\"sk-container-id-1\" class=\"sk-top-container\"><div class=\"sk-text-repr-fallback\"><pre>Pipeline(steps=[(&#x27;encoder&#x27;,\n",
       "                 ColumnTransformer(remainder=&#x27;passthrough&#x27;,\n",
       "                                   transformers=[(&#x27;ordinalencoder&#x27;,\n",
       "                                                  OrdinalEncoder(),\n",
       "                                                  Index([&#x27;make_model&#x27;], dtype=&#x27;object&#x27;))],\n",
       "                                   verbose_feature_names_out=False)),\n",
       "                (&#x27;RF_model&#x27;,\n",
       "                 RandomForestRegressor(max_depth=10, max_features=2,\n",
       "                                       n_estimators=200, random_state=101))])</pre><b>In a Jupyter environment, please rerun this cell to show the HTML representation or trust the notebook. <br />On GitHub, the HTML representation is unable to render, please try loading this page with nbviewer.org.</b></div><div class=\"sk-container\" hidden><div class=\"sk-item sk-dashed-wrapped\"><div class=\"sk-label-container\"><div class=\"sk-label sk-toggleable\"><input class=\"sk-toggleable__control sk-hidden--visually\" id=\"sk-estimator-id-1\" type=\"checkbox\" ><label for=\"sk-estimator-id-1\" class=\"sk-toggleable__label sk-toggleable__label-arrow\">Pipeline</label><div class=\"sk-toggleable__content\"><pre>Pipeline(steps=[(&#x27;encoder&#x27;,\n",
       "                 ColumnTransformer(remainder=&#x27;passthrough&#x27;,\n",
       "                                   transformers=[(&#x27;ordinalencoder&#x27;,\n",
       "                                                  OrdinalEncoder(),\n",
       "                                                  Index([&#x27;make_model&#x27;], dtype=&#x27;object&#x27;))],\n",
       "                                   verbose_feature_names_out=False)),\n",
       "                (&#x27;RF_model&#x27;,\n",
       "                 RandomForestRegressor(max_depth=10, max_features=2,\n",
       "                                       n_estimators=200, random_state=101))])</pre></div></div></div><div class=\"sk-serial\"><div class=\"sk-item sk-dashed-wrapped\"><div class=\"sk-label-container\"><div class=\"sk-label sk-toggleable\"><input class=\"sk-toggleable__control sk-hidden--visually\" id=\"sk-estimator-id-2\" type=\"checkbox\" ><label for=\"sk-estimator-id-2\" class=\"sk-toggleable__label sk-toggleable__label-arrow\">encoder: ColumnTransformer</label><div class=\"sk-toggleable__content\"><pre>ColumnTransformer(remainder=&#x27;passthrough&#x27;,\n",
       "                  transformers=[(&#x27;ordinalencoder&#x27;, OrdinalEncoder(),\n",
       "                                 Index([&#x27;make_model&#x27;], dtype=&#x27;object&#x27;))],\n",
       "                  verbose_feature_names_out=False)</pre></div></div></div><div class=\"sk-parallel\"><div class=\"sk-parallel-item\"><div class=\"sk-item\"><div class=\"sk-label-container\"><div class=\"sk-label sk-toggleable\"><input class=\"sk-toggleable__control sk-hidden--visually\" id=\"sk-estimator-id-3\" type=\"checkbox\" ><label for=\"sk-estimator-id-3\" class=\"sk-toggleable__label sk-toggleable__label-arrow\">ordinalencoder</label><div class=\"sk-toggleable__content\"><pre>Index([&#x27;make_model&#x27;], dtype=&#x27;object&#x27;)</pre></div></div></div><div class=\"sk-serial\"><div class=\"sk-item\"><div class=\"sk-estimator sk-toggleable\"><input class=\"sk-toggleable__control sk-hidden--visually\" id=\"sk-estimator-id-4\" type=\"checkbox\" ><label for=\"sk-estimator-id-4\" class=\"sk-toggleable__label sk-toggleable__label-arrow\">OrdinalEncoder</label><div class=\"sk-toggleable__content\"><pre>OrdinalEncoder()</pre></div></div></div></div></div></div><div class=\"sk-parallel-item\"><div class=\"sk-item\"><div class=\"sk-label-container\"><div class=\"sk-label sk-toggleable\"><input class=\"sk-toggleable__control sk-hidden--visually\" id=\"sk-estimator-id-5\" type=\"checkbox\" ><label for=\"sk-estimator-id-5\" class=\"sk-toggleable__label sk-toggleable__label-arrow\">remainder</label><div class=\"sk-toggleable__content\"><pre>[&#x27;km&#x27;, &#x27;Gears&#x27;, &#x27;age&#x27;, &#x27;hp_kW&#x27;]</pre></div></div></div><div class=\"sk-serial\"><div class=\"sk-item\"><div class=\"sk-estimator sk-toggleable\"><input class=\"sk-toggleable__control sk-hidden--visually\" id=\"sk-estimator-id-6\" type=\"checkbox\" ><label for=\"sk-estimator-id-6\" class=\"sk-toggleable__label sk-toggleable__label-arrow\">passthrough</label><div class=\"sk-toggleable__content\"><pre>passthrough</pre></div></div></div></div></div></div></div></div><div class=\"sk-item\"><div class=\"sk-estimator sk-toggleable\"><input class=\"sk-toggleable__control sk-hidden--visually\" id=\"sk-estimator-id-7\" type=\"checkbox\" ><label for=\"sk-estimator-id-7\" class=\"sk-toggleable__label sk-toggleable__label-arrow\">RandomForestRegressor</label><div class=\"sk-toggleable__content\"><pre>RandomForestRegressor(max_depth=10, max_features=2, n_estimators=200,\n",
       "                      random_state=101)</pre></div></div></div></div></div></div></div>"
      ],
      "text/plain": [
       "Pipeline(steps=[('encoder',\n",
       "                 ColumnTransformer(remainder='passthrough',\n",
       "                                   transformers=[('ordinalencoder',\n",
       "                                                  OrdinalEncoder(),\n",
       "                                                  Index(['make_model'], dtype='object'))],\n",
       "                                   verbose_feature_names_out=False)),\n",
       "                ('RF_model',\n",
       "                 RandomForestRegressor(max_depth=10, max_features=2,\n",
       "                                       n_estimators=200, random_state=101))])"
      ]
     },
     "execution_count": 63,
     "metadata": {},
     "output_type": "execute_result"
    }
   ],
   "source": [
    "#Creating the model of rf with the best params\n",
    "rf_model = RandomForestRegressor(max_depth= 10, max_features = 2, n_estimators= 200,  random_state=s)\n",
    "\n",
    "#the operations of the pipeline\n",
    "operations = [(\"encoder\", trans), (\"RF_model\", rf_model)]\n",
    "#Creating the pipeline\n",
    "pipe_rf_m = Pipeline(steps=operations)\n",
    "#Fitting the model with the training data\n",
    "pipe_rf_m.fit(X_train, y_train)"
   ]
  },
  {
   "cell_type": "code",
   "execution_count": 64,
   "id": "62cd8603",
   "metadata": {},
   "outputs": [
    {
     "data": {
      "text/html": [
       "<div>\n",
       "<style scoped>\n",
       "    .dataframe tbody tr th:only-of-type {\n",
       "        vertical-align: middle;\n",
       "    }\n",
       "\n",
       "    .dataframe tbody tr th {\n",
       "        vertical-align: top;\n",
       "    }\n",
       "\n",
       "    .dataframe thead th {\n",
       "        text-align: right;\n",
       "    }\n",
       "</style>\n",
       "<table border=\"1\" class=\"dataframe\">\n",
       "  <thead>\n",
       "    <tr style=\"text-align: right;\">\n",
       "      <th></th>\n",
       "      <th>train</th>\n",
       "      <th>test</th>\n",
       "    </tr>\n",
       "  </thead>\n",
       "  <tbody>\n",
       "    <tr>\n",
       "      <th>R2</th>\n",
       "      <td>0.937</td>\n",
       "      <td>0.921</td>\n",
       "    </tr>\n",
       "    <tr>\n",
       "      <th>mae</th>\n",
       "      <td>1140.623</td>\n",
       "      <td>1283.880</td>\n",
       "    </tr>\n",
       "    <tr>\n",
       "      <th>mse</th>\n",
       "      <td>2875784.112</td>\n",
       "      <td>3620166.998</td>\n",
       "    </tr>\n",
       "    <tr>\n",
       "      <th>rmse</th>\n",
       "      <td>1695.814</td>\n",
       "      <td>1902.674</td>\n",
       "    </tr>\n",
       "  </tbody>\n",
       "</table>\n",
       "</div>"
      ],
      "text/plain": [
       "           train        test\n",
       "R2         0.937       0.921\n",
       "mae     1140.623    1283.880\n",
       "mse  2875784.112 3620166.998\n",
       "rmse    1695.814    1902.674"
      ]
     },
     "execution_count": 64,
     "metadata": {},
     "output_type": "execute_result"
    }
   ],
   "source": [
    "#seeing the result of the grid search model\n",
    "eval(pipe_rf_m, X_train, y_train, X_test, y_test)\n",
    "#From here, we can see that the result is better now, but for mse, it is still huge."
   ]
  },
  {
   "cell_type": "code",
   "execution_count": 65,
   "id": "e86bdde0",
   "metadata": {
    "scrolled": false
   },
   "outputs": [
    {
     "data": {
      "image/png": "[encoded data removed]",
      "text/plain": [
       "<Figure size 500x1000 with 1 Axes>"
      ]
     },
     "metadata": {},
     "output_type": "display_data"
    }
   ],
   "source": [
    "#Visualizing the result\n",
    "visualizer = RadViz(size=(500, 1000))\n",
    "\n",
    "visualizer = PredictionError(pipe_rf_m)\n",
    "visualizer.fit(X_train, y_train) # Fit the training data to the visualizer\n",
    "visualizer.score(X_test, y_test) # Evaluate the model on the test data\n",
    "visualizer.show();\n",
    "#As we can see, there are some difference between the acual and the predicted line, it nearly started to be different from around 30000"
   ]
  },
  {
   "cell_type": "code",
   "execution_count": 66,
   "id": "d3cafef3",
   "metadata": {
    "scrolled": true
   },
   "outputs": [
    {
     "data": {
      "image/png": "[encoded data removed]",
      "text/plain": [
       "<Figure size 1000x500 with 2 Axes>"
      ]
     },
     "metadata": {},
     "output_type": "display_data"
    }
   ],
   "source": [
    "#Seeing the result with train and test for r2\n",
    "visualizer = RadViz(size=(1000, 500))\n",
    "visualizer = ResidualsPlot(pipe_rf_m)\n",
    "\n",
    "visualizer.fit(X_train, y_train) # Fit the training data to the visualizer\n",
    "visualizer.score(X_test, y_test) # Evaluate the model on the test data\n",
    "visualizer.show();\n",
    "#As we can see, there are some mistakes, and it started from about 30000"
   ]
  },
  {
   "cell_type": "code",
   "execution_count": 67,
   "id": "bb4cab53",
   "metadata": {},
   "outputs": [],
   "source": [
    "#Prediction X_test\n",
    "y_pred = pipe_rf_m.predict(X_test)"
   ]
  },
  {
   "cell_type": "code",
   "execution_count": 68,
   "id": "d63bbd06",
   "metadata": {},
   "outputs": [],
   "source": [
    "#Saving the result to use them later\n",
    "rf_R2 = r2_score(y_test, y_pred)\n",
    "rf_mae = mean_absolute_error(y_test, y_pred)\n",
    "rf_rmse = mean_squared_error(y_test, y_pred, squared=False)"
   ]
  },
  {
   "cell_type": "code",
   "execution_count": 69,
   "id": "e72d994b",
   "metadata": {
    "scrolled": true
   },
   "outputs": [
    {
     "name": "stdout",
     "output_type": "stream",
     "text": [
      "linear_R2 0.92109155489447\n",
      "linear_mae 1283.8798218585746\n",
      "linear_rmse 1902.6736447053595\n"
     ]
    }
   ],
   "source": [
    "#Printing the result\n",
    "print('linear_R2', rf_R2)\n",
    "print('linear_mae', rf_mae)\n",
    "print('linear_rmse', rf_rmse)"
   ]
  },
  {
   "cell_type": "markdown",
   "id": "e0d81d85",
   "metadata": {},
   "source": [
    "## Final Modle"
   ]
  },
  {
   "cell_type": "code",
   "execution_count": 70,
   "id": "e529d7c8",
   "metadata": {},
   "outputs": [
    {
     "data": {
      "text/html": [
       "<style>#sk-container-id-2 {color: black;background-color: white;}#sk-container-id-2 pre{padding: 0;}#sk-container-id-2 div.sk-toggleable {background-color: white;}#sk-container-id-2 label.sk-toggleable__label {cursor: pointer;display: block;width: 100%;margin-bottom: 0;padding: 0.3em;box-sizing: border-box;text-align: center;}#sk-container-id-2 label.sk-toggleable__label-arrow:before {content: \"▸\";float: left;margin-right: 0.25em;color: #696969;}#sk-container-id-2 label.sk-toggleable__label-arrow:hover:before {color: black;}#sk-container-id-2 div.sk-estimator:hover label.sk-toggleable__label-arrow:before {color: black;}#sk-container-id-2 div.sk-toggleable__content {max-height: 0;max-width: 0;overflow: hidden;text-align: left;background-color: #f0f8ff;}#sk-container-id-2 div.sk-toggleable__content pre {margin: 0.2em;color: black;border-radius: 0.25em;background-color: #f0f8ff;}#sk-container-id-2 input.sk-toggleable__control:checked~div.sk-toggleable__content {max-height: 200px;max-width: 100%;overflow: auto;}#sk-container-id-2 input.sk-toggleable__control:checked~label.sk-toggleable__label-arrow:before {content: \"▾\";}#sk-container-id-2 div.sk-estimator input.sk-toggleable__control:checked~label.sk-toggleable__label {background-color: #d4ebff;}#sk-container-id-2 div.sk-label input.sk-toggleable__control:checked~label.sk-toggleable__label {background-color: #d4ebff;}#sk-container-id-2 input.sk-hidden--visually {border: 0;clip: rect(1px 1px 1px 1px);clip: rect(1px, 1px, 1px, 1px);height: 1px;margin: -1px;overflow: hidden;padding: 0;position: absolute;width: 1px;}#sk-container-id-2 div.sk-estimator {font-family: monospace;background-color: #f0f8ff;border: 1px dotted black;border-radius: 0.25em;box-sizing: border-box;margin-bottom: 0.5em;}#sk-container-id-2 div.sk-estimator:hover {background-color: #d4ebff;}#sk-container-id-2 div.sk-parallel-item::after {content: \"\";width: 100%;border-bottom: 1px solid gray;flex-grow: 1;}#sk-container-id-2 div.sk-label:hover label.sk-toggleable__label {background-color: #d4ebff;}#sk-container-id-2 div.sk-serial::before {content: \"\";position: absolute;border-left: 1px solid gray;box-sizing: border-box;top: 0;bottom: 0;left: 50%;z-index: 0;}#sk-container-id-2 div.sk-serial {display: flex;flex-direction: column;align-items: center;background-color: white;padding-right: 0.2em;padding-left: 0.2em;position: relative;}#sk-container-id-2 div.sk-item {position: relative;z-index: 1;}#sk-container-id-2 div.sk-parallel {display: flex;align-items: stretch;justify-content: center;background-color: white;position: relative;}#sk-container-id-2 div.sk-item::before, #sk-container-id-2 div.sk-parallel-item::before {content: \"\";position: absolute;border-left: 1px solid gray;box-sizing: border-box;top: 0;bottom: 0;left: 50%;z-index: -1;}#sk-container-id-2 div.sk-parallel-item {display: flex;flex-direction: column;z-index: 1;position: relative;background-color: white;}#sk-container-id-2 div.sk-parallel-item:first-child::after {align-self: flex-end;width: 50%;}#sk-container-id-2 div.sk-parallel-item:last-child::after {align-self: flex-start;width: 50%;}#sk-container-id-2 div.sk-parallel-item:only-child::after {width: 0;}#sk-container-id-2 div.sk-dashed-wrapped {border: 1px dashed gray;margin: 0 0.4em 0.5em 0.4em;box-sizing: border-box;padding-bottom: 0.4em;background-color: white;}#sk-container-id-2 div.sk-label label {font-family: monospace;font-weight: bold;display: inline-block;line-height: 1.2em;}#sk-container-id-2 div.sk-label-container {text-align: center;}#sk-container-id-2 div.sk-container {/* jupyter's `normalize.less` sets `[hidden] { display: none; }` but bootstrap.min.css set `[hidden] { display: none !important; }` so we also need the `!important` here to be able to override the default hidden behavior on the sphinx rendered scikit-learn.org. See: https://github.com/scikit-learn/scikit-learn/issues/21755 */display: inline-block !important;position: relative;}#sk-container-id-2 div.sk-text-repr-fallback {display: none;}</style><div id=\"sk-container-id-2\" class=\"sk-top-container\"><div class=\"sk-text-repr-fallback\"><pre>Pipeline(steps=[(&#x27;encoder&#x27;,\n",
       "                 ColumnTransformer(remainder=&#x27;passthrough&#x27;,\n",
       "                                   transformers=[(&#x27;ordinalencoder&#x27;,\n",
       "                                                  OrdinalEncoder(),\n",
       "                                                  Index([&#x27;make_model&#x27;], dtype=&#x27;object&#x27;))],\n",
       "                                   verbose_feature_names_out=False)),\n",
       "                (&#x27;RF_model&#x27;,\n",
       "                 RandomForestRegressor(max_depth=10, max_features=2,\n",
       "                                       n_estimators=200, random_state=101))])</pre><b>In a Jupyter environment, please rerun this cell to show the HTML representation or trust the notebook. <br />On GitHub, the HTML representation is unable to render, please try loading this page with nbviewer.org.</b></div><div class=\"sk-container\" hidden><div class=\"sk-item sk-dashed-wrapped\"><div class=\"sk-label-container\"><div class=\"sk-label sk-toggleable\"><input class=\"sk-toggleable__control sk-hidden--visually\" id=\"sk-estimator-id-8\" type=\"checkbox\" ><label for=\"sk-estimator-id-8\" class=\"sk-toggleable__label sk-toggleable__label-arrow\">Pipeline</label><div class=\"sk-toggleable__content\"><pre>Pipeline(steps=[(&#x27;encoder&#x27;,\n",
       "                 ColumnTransformer(remainder=&#x27;passthrough&#x27;,\n",
       "                                   transformers=[(&#x27;ordinalencoder&#x27;,\n",
       "                                                  OrdinalEncoder(),\n",
       "                                                  Index([&#x27;make_model&#x27;], dtype=&#x27;object&#x27;))],\n",
       "                                   verbose_feature_names_out=False)),\n",
       "                (&#x27;RF_model&#x27;,\n",
       "                 RandomForestRegressor(max_depth=10, max_features=2,\n",
       "                                       n_estimators=200, random_state=101))])</pre></div></div></div><div class=\"sk-serial\"><div class=\"sk-item sk-dashed-wrapped\"><div class=\"sk-label-container\"><div class=\"sk-label sk-toggleable\"><input class=\"sk-toggleable__control sk-hidden--visually\" id=\"sk-estimator-id-9\" type=\"checkbox\" ><label for=\"sk-estimator-id-9\" class=\"sk-toggleable__label sk-toggleable__label-arrow\">encoder: ColumnTransformer</label><div class=\"sk-toggleable__content\"><pre>ColumnTransformer(remainder=&#x27;passthrough&#x27;,\n",
       "                  transformers=[(&#x27;ordinalencoder&#x27;, OrdinalEncoder(),\n",
       "                                 Index([&#x27;make_model&#x27;], dtype=&#x27;object&#x27;))],\n",
       "                  verbose_feature_names_out=False)</pre></div></div></div><div class=\"sk-parallel\"><div class=\"sk-parallel-item\"><div class=\"sk-item\"><div class=\"sk-label-container\"><div class=\"sk-label sk-toggleable\"><input class=\"sk-toggleable__control sk-hidden--visually\" id=\"sk-estimator-id-10\" type=\"checkbox\" ><label for=\"sk-estimator-id-10\" class=\"sk-toggleable__label sk-toggleable__label-arrow\">ordinalencoder</label><div class=\"sk-toggleable__content\"><pre>Index([&#x27;make_model&#x27;], dtype=&#x27;object&#x27;)</pre></div></div></div><div class=\"sk-serial\"><div class=\"sk-item\"><div class=\"sk-estimator sk-toggleable\"><input class=\"sk-toggleable__control sk-hidden--visually\" id=\"sk-estimator-id-11\" type=\"checkbox\" ><label for=\"sk-estimator-id-11\" class=\"sk-toggleable__label sk-toggleable__label-arrow\">OrdinalEncoder</label><div class=\"sk-toggleable__content\"><pre>OrdinalEncoder()</pre></div></div></div></div></div></div><div class=\"sk-parallel-item\"><div class=\"sk-item\"><div class=\"sk-label-container\"><div class=\"sk-label sk-toggleable\"><input class=\"sk-toggleable__control sk-hidden--visually\" id=\"sk-estimator-id-12\" type=\"checkbox\" ><label for=\"sk-estimator-id-12\" class=\"sk-toggleable__label sk-toggleable__label-arrow\">remainder</label><div class=\"sk-toggleable__content\"><pre>[&#x27;km&#x27;, &#x27;Gears&#x27;, &#x27;age&#x27;, &#x27;hp_kW&#x27;]</pre></div></div></div><div class=\"sk-serial\"><div class=\"sk-item\"><div class=\"sk-estimator sk-toggleable\"><input class=\"sk-toggleable__control sk-hidden--visually\" id=\"sk-estimator-id-13\" type=\"checkbox\" ><label for=\"sk-estimator-id-13\" class=\"sk-toggleable__label sk-toggleable__label-arrow\">passthrough</label><div class=\"sk-toggleable__content\"><pre>passthrough</pre></div></div></div></div></div></div></div></div><div class=\"sk-item\"><div class=\"sk-estimator sk-toggleable\"><input class=\"sk-toggleable__control sk-hidden--visually\" id=\"sk-estimator-id-14\" type=\"checkbox\" ><label for=\"sk-estimator-id-14\" class=\"sk-toggleable__label sk-toggleable__label-arrow\">RandomForestRegressor</label><div class=\"sk-toggleable__content\"><pre>RandomForestRegressor(max_depth=10, max_features=2, n_estimators=200,\n",
       "                      random_state=101)</pre></div></div></div></div></div></div></div>"
      ],
      "text/plain": [
       "Pipeline(steps=[('encoder',\n",
       "                 ColumnTransformer(remainder='passthrough',\n",
       "                                   transformers=[('ordinalencoder',\n",
       "                                                  OrdinalEncoder(),\n",
       "                                                  Index(['make_model'], dtype='object'))],\n",
       "                                   verbose_feature_names_out=False)),\n",
       "                ('RF_model',\n",
       "                 RandomForestRegressor(max_depth=10, max_features=2,\n",
       "                                       n_estimators=200, random_state=101))])"
      ]
     },
     "execution_count": 70,
     "metadata": {},
     "output_type": "execute_result"
    }
   ],
   "source": [
    "#Creating the model of rf with the best params\n",
    "rf = RandomForestRegressor(max_depth= 10, max_features = 2, n_estimators= 200,  random_state=s)\n",
    "\n",
    "#the operations of the pipeline\n",
    "operations = [(\"encoder\", trans), (\"RF_model\", rf)]\n",
    "#Creating the pipeline\n",
    "final_rf = Pipeline(steps=operations)\n",
    "#Fitting the model with the whole data\n",
    "final_rf.fit(X, y)"
   ]
  },
  {
   "cell_type": "code",
   "execution_count": 71,
   "id": "fa43c524",
   "metadata": {},
   "outputs": [
    {
     "data": {
      "text/plain": [
       "Index(['make_model', 'price', 'km', 'Gears', 'age', 'hp_kW'], dtype='object')"
      ]
     },
     "execution_count": 71,
     "metadata": {},
     "output_type": "execute_result"
    }
   ],
   "source": [
    "df.columns"
   ]
  },
  {
   "cell_type": "code",
   "execution_count": 72,
   "id": "7ecd0363",
   "metadata": {},
   "outputs": [],
   "source": [
    "my_dict = {\n",
    "    'make_model': 'Renault Espace',\n",
    "    'km': 80000.000,\n",
    "    'Gears': 7.000, \n",
    "    'age': 2.000,\n",
    "    'hp_kW': 66.000\n",
    "}"
   ]
  },
  {
   "cell_type": "code",
   "execution_count": 73,
   "id": "47bf6559",
   "metadata": {},
   "outputs": [
    {
     "data": {
      "text/html": [
       "<div>\n",
       "<style scoped>\n",
       "    .dataframe tbody tr th:only-of-type {\n",
       "        vertical-align: middle;\n",
       "    }\n",
       "\n",
       "    .dataframe tbody tr th {\n",
       "        vertical-align: top;\n",
       "    }\n",
       "\n",
       "    .dataframe thead th {\n",
       "        text-align: right;\n",
       "    }\n",
       "</style>\n",
       "<table border=\"1\" class=\"dataframe\">\n",
       "  <thead>\n",
       "    <tr style=\"text-align: right;\">\n",
       "      <th></th>\n",
       "      <th>make_model</th>\n",
       "      <th>km</th>\n",
       "      <th>Gears</th>\n",
       "      <th>age</th>\n",
       "      <th>hp_kW</th>\n",
       "    </tr>\n",
       "  </thead>\n",
       "  <tbody>\n",
       "    <tr>\n",
       "      <th>0</th>\n",
       "      <td>Renault Espace</td>\n",
       "      <td>80000.000</td>\n",
       "      <td>7.000</td>\n",
       "      <td>2.000</td>\n",
       "      <td>66.000</td>\n",
       "    </tr>\n",
       "  </tbody>\n",
       "</table>\n",
       "</div>"
      ],
      "text/plain": [
       "       make_model        km  Gears   age  hp_kW\n",
       "0  Renault Espace 80000.000  7.000 2.000 66.000"
      ]
     },
     "execution_count": 73,
     "metadata": {},
     "output_type": "execute_result"
    }
   ],
   "source": [
    "data = pd.DataFrame.from_dict([my_dict])\n",
    "data"
   ]
  },
  {
   "cell_type": "code",
   "execution_count": 74,
   "id": "ab6596c4",
   "metadata": {},
   "outputs": [
    {
     "name": "stdout",
     "output_type": "stream",
     "text": [
      "[16004.66494716]\n"
     ]
    }
   ],
   "source": [
    "prediction = final_rf.predict(data)\n",
    "print(prediction)"
   ]
  },
  {
   "cell_type": "code",
   "execution_count": 75,
   "id": "86129709",
   "metadata": {},
   "outputs": [
    {
     "name": "stdout",
     "output_type": "stream",
     "text": [
      "The estimated price is 16004. \n"
     ]
    }
   ],
   "source": [
    "print(\"The estimated price is {}. \".format(int(prediction[0])))"
   ]
  },
  {
   "cell_type": "markdown",
   "id": "6d017b43",
   "metadata": {},
   "source": [
    "## Saving the model"
   ]
  },
  {
   "cell_type": "code",
   "execution_count": 76,
   "id": "19ac98f6",
   "metadata": {},
   "outputs": [],
   "source": [
    "pickle.dump(final_rf, open('final_rf', 'wb'))"
   ]
  },
  {
   "cell_type": "markdown",
   "id": "c96e7662",
   "metadata": {},
   "source": [
    "## deployment"
   ]
  },
  {
   "cell_type": "code",
   "execution_count": 77,
   "id": "28fccd2d",
   "metadata": {},
   "outputs": [],
   "source": [
    "new_model = pickle.load(open('final_rf', 'rb'))"
   ]
  },
  {
   "cell_type": "markdown",
   "id": "2e0cd2c7",
   "metadata": {},
   "source": [
    "### Predicgion"
   ]
  },
  {
   "cell_type": "code",
   "execution_count": 78,
   "id": "e7cf0dc8",
   "metadata": {},
   "outputs": [
    {
     "data": {
      "text/plain": [
       "0               Audi A1\n",
       "1               Audi A1\n",
       "2               Audi A1\n",
       "3               Audi A1\n",
       "4               Audi A1\n",
       "              ...      \n",
       "14216    Renault Espace\n",
       "14217    Renault Espace\n",
       "14218    Renault Espace\n",
       "14219    Renault Espace\n",
       "14220    Renault Espace\n",
       "Name: make_model, Length: 14070, dtype: object"
      ]
     },
     "execution_count": 78,
     "metadata": {},
     "output_type": "execute_result"
    }
   ],
   "source": [
    "df.make_model"
   ]
  },
  {
   "cell_type": "code",
   "execution_count": 79,
   "id": "159e5c7e",
   "metadata": {},
   "outputs": [],
   "source": [
    "my_dict2 = {\n",
    "    'make_model': 'Audi A1',\n",
    "    'km': 50000.000,\n",
    "    'Gears': 3.000, \n",
    "    'age': 4.000,\n",
    "    'hp_kW': 66.000\n",
    "}"
   ]
  },
  {
   "cell_type": "code",
   "execution_count": 80,
   "id": "0b20e1a0",
   "metadata": {},
   "outputs": [
    {
     "data": {
      "text/html": [
       "<div>\n",
       "<style scoped>\n",
       "    .dataframe tbody tr th:only-of-type {\n",
       "        vertical-align: middle;\n",
       "    }\n",
       "\n",
       "    .dataframe tbody tr th {\n",
       "        vertical-align: top;\n",
       "    }\n",
       "\n",
       "    .dataframe thead th {\n",
       "        text-align: right;\n",
       "    }\n",
       "</style>\n",
       "<table border=\"1\" class=\"dataframe\">\n",
       "  <thead>\n",
       "    <tr style=\"text-align: right;\">\n",
       "      <th></th>\n",
       "      <th>make_model</th>\n",
       "      <th>km</th>\n",
       "      <th>Gears</th>\n",
       "      <th>age</th>\n",
       "      <th>hp_kW</th>\n",
       "    </tr>\n",
       "  </thead>\n",
       "  <tbody>\n",
       "    <tr>\n",
       "      <th>0</th>\n",
       "      <td>Audi A1</td>\n",
       "      <td>50000.000</td>\n",
       "      <td>3.000</td>\n",
       "      <td>4.000</td>\n",
       "      <td>66.000</td>\n",
       "    </tr>\n",
       "  </tbody>\n",
       "</table>\n",
       "</div>"
      ],
      "text/plain": [
       "  make_model        km  Gears   age  hp_kW\n",
       "0    Audi A1 50000.000  3.000 4.000 66.000"
      ]
     },
     "execution_count": 80,
     "metadata": {},
     "output_type": "execute_result"
    }
   ],
   "source": [
    "data2 = pd.DataFrame.from_dict([my_dict2])\n",
    "data2"
   ]
  },
  {
   "cell_type": "code",
   "execution_count": 81,
   "id": "7c41ab36",
   "metadata": {},
   "outputs": [
    {
     "name": "stdout",
     "output_type": "stream",
     "text": [
      "[13413.36458918]\n"
     ]
    }
   ],
   "source": [
    "prediction2 = new_model.predict(data2)\n",
    "print(prediction2)"
   ]
  },
  {
   "cell_type": "code",
   "execution_count": 82,
   "id": "0612a4bb",
   "metadata": {},
   "outputs": [
    {
     "name": "stdout",
     "output_type": "stream",
     "text": [
      "The estimated price is 13413. \n"
     ]
    }
   ],
   "source": [
    "print(\"The estimated price is {}. \".format(int(prediction2[0])))"
   ]
  },
  {
   "cell_type": "code",
   "execution_count": 83,
   "id": "50f761b3",
   "metadata": {},
   "outputs": [
    {
     "name": "stdout",
     "output_type": "stream",
     "text": [
      "[16004.66494716]\n"
     ]
    }
   ],
   "source": [
    "prediction3 = new_model.predict(data)\n",
    "print(prediction3)"
   ]
  },
  {
   "cell_type": "code",
   "execution_count": 84,
   "id": "ccf73b78",
   "metadata": {},
   "outputs": [
    {
     "name": "stdout",
     "output_type": "stream",
     "text": [
      "The estimated price is 16004. \n"
     ]
    }
   ],
   "source": [
    "print(\"The estimated price is {}. \".format(int(prediction3[0])))"
   ]
  },
  {
   "cell_type": "code",
   "execution_count": 85,
   "id": "646c42f3",
   "metadata": {},
   "outputs": [
    {
     "name": "stdout",
     "output_type": "stream",
     "text": [
      "# conda environments:\n",
      "#\n",
      "base                  *  C:\\Users\\habob\\anaconda3\n",
      "env_name                 C:\\Users\\habob\\anaconda3\\envs\\env_name\n",
      "\n",
      "\n",
      "Note: you may need to restart the kernel to use updated packages.\n"
     ]
    }
   ],
   "source": [
    "conda env list"
   ]
  },
  {
   "cell_type": "code",
   "execution_count": 86,
   "id": "787f7f6b",
   "metadata": {},
   "outputs": [
    {
     "name": "stdout",
     "output_type": "stream",
     "text": [
      "Package                       Version\n",
      "----------------------------- ---------------\n",
      "absl-py                       2.0.0\n",
      "aiobotocore                   2.5.0\n",
      "aiofiles                      22.1.0\n",
      "aiohttp                       3.8.5\n",
      "aioitertools                  0.7.1\n",
      "aiosignal                     1.2.0\n",
      "aiosqlite                     0.18.0\n",
      "alabaster                     0.7.12\n",
      "alembic                       1.12.0\n",
      "anaconda-anon-usage           0.4.3\n",
      "anaconda-catalogs             0.2.0\n",
      "anaconda-client               1.11.3\n",
      "anaconda-cloud-auth           0.1.3\n",
      "anaconda-navigator            2.5.0\n",
      "anaconda-project              0.11.1\n",
      "anyio                         3.5.0\n",
      "appdirs                       1.4.4\n",
      "argon2-cffi                   21.3.0\n",
      "argon2-cffi-bindings          21.2.0\n",
      "arrow                         1.2.3\n",
      "astroid                       2.14.2\n",
      "astropy                       5.1\n",
      "asttokens                     2.0.5\n",
      "astunparse                    1.6.3\n",
      "async-timeout                 4.0.2\n",
      "atomicwrites                  1.4.0\n",
      "attrs                         23.1.0\n",
      "Automat                       20.2.0\n",
      "autopep8                      1.6.0\n",
      "Babel                         2.11.0\n",
      "backcall                      0.2.0\n",
      "backports.functools-lru-cache 1.6.4\n",
      "backports.tempfile            1.0\n",
      "backports.weakref             1.0.post1\n",
      "bcrypt                        3.2.0\n",
      "beautifulsoup4                4.12.2\n",
      "binaryornot                   0.4.4\n",
      "black                         0.0\n",
      "bleach                        4.1.0\n",
      "bokeh                         3.2.1\n",
      "boltons                       23.0.0\n",
      "boto3                         1.26.76\n",
      "botocore                      1.29.76\n",
      "Bottleneck                    1.3.5\n",
      "branca                        0.6.0\n",
      "brotlipy                      0.7.0\n",
      "cachetools                    5.3.1\n",
      "certifi                       2023.7.22\n",
      "cffi                          1.15.1\n",
      "chardet                       4.0.0\n",
      "charset-normalizer            2.0.4\n",
      "click                         8.0.4\n",
      "cloudpickle                   2.2.1\n",
      "clyent                        1.2.2\n",
      "colorama                      0.4.6\n",
      "colorcet                      3.0.1\n",
      "colorlog                      6.7.0\n",
      "comm                          0.1.2\n",
      "conda                         23.9.0\n",
      "conda-build                   3.27.0\n",
      "conda-content-trust           0.2.0\n",
      "conda_index                   0.3.0\n",
      "conda-libmamba-solver         23.9.1\n",
      "conda-pack                    0.6.0\n",
      "conda-package-handling        2.2.0\n",
      "conda_package_streaming       0.9.0\n",
      "conda-repo-cli                1.0.75\n",
      "conda-token                   0.4.0\n",
      "conda-verify                  3.4.2\n",
      "constantly                    15.1.0\n",
      "contourpy                     1.0.5\n",
      "cookiecutter                  1.7.3\n",
      "cryptography                  41.0.3\n",
      "cssselect                     1.1.0\n",
      "cycler                        0.11.0\n",
      "cytoolz                       0.12.0\n",
      "daal4py                       2023.1.1\n",
      "dask                          2023.6.0\n",
      "datashader                    0.15.2\n",
      "datashape                     0.5.4\n",
      "deap                          1.4.1\n",
      "debugpy                       1.6.7\n",
      "decorator                     5.1.1\n",
      "defusedxml                    0.7.1\n",
      "diff-match-patch              20200713\n",
      "dill                          0.3.7\n",
      "distributed                   2023.6.0\n",
      "docstring-to-markdown         0.11\n",
      "docutils                      0.18.1\n",
      "entrypoints                   0.4\n",
      "et-xmlfile                    1.1.0\n",
      "executing                     0.8.3\n",
      "fastjsonschema                2.16.2\n",
      "filelock                      3.9.0\n",
      "flake8                        6.0.0\n",
      "Flask                         2.2.2\n",
      "flatbuffers                   23.5.26\n",
      "folium                        0.14.0\n",
      "fonttools                     4.25.0\n",
      "frozenlist                    1.3.3\n",
      "fsspec                        2023.4.0\n",
      "fst-pso                       1.8.1\n",
      "future                        0.18.3\n",
      "FuzzyTM                       2.0.5\n",
      "gast                          0.5.4\n",
      "gensim                        4.3.0\n",
      "google-auth                   2.23.3\n",
      "google-auth-oauthlib          1.0.0\n",
      "google-pasta                  0.2.0\n",
      "greenlet                      2.0.1\n",
      "grpcio                        1.59.0\n",
      "h5py                          3.9.0\n",
      "HeapDict                      1.0.1\n",
      "holoviews                     1.17.1\n",
      "huggingface-hub               0.17.3\n",
      "hvplot                        0.8.4\n",
      "hyperlink                     21.0.0\n",
      "idna                          3.4\n",
      "imagecodecs                   2023.1.23\n",
      "imageio                       2.31.4\n",
      "imagesize                     1.4.1\n",
      "imbalanced-learn              0.11.0\n",
      "imblearn                      0.0\n",
      "importlib-metadata            6.0.0\n",
      "incremental                   21.3.0\n",
      "inflection                    0.5.1\n",
      "iniconfig                     1.1.1\n",
      "intake                        0.6.8\n",
      "intervaltree                  3.1.0\n",
      "ipykernel                     6.25.0\n",
      "ipython                       8.15.0\n",
      "ipython-genutils              0.2.0\n",
      "ipywidgets                    8.0.4\n",
      "isort                         5.9.3\n",
      "itemadapter                   0.3.0\n",
      "itemloaders                   1.0.4\n",
      "itsdangerous                  2.0.1\n",
      "jaraco.classes                3.2.1\n",
      "jedi                          0.18.1\n",
      "jellyfish                     1.0.1\n",
      "Jinja2                        3.1.2\n",
      "jinja2-time                   0.2.0\n",
      "jmespath                      0.10.0\n",
      "joblib                        1.2.0\n",
      "json5                         0.9.6\n",
      "jsonpatch                     1.32\n",
      "jsonpointer                   2.1\n",
      "jsonschema                    4.17.3\n",
      "jupyter                       1.0.0\n",
      "jupyter_client                7.4.9\n",
      "jupyter-console               6.6.3\n",
      "jupyter_core                  5.3.0\n",
      "jupyter-events                0.6.3\n",
      "jupyter-server                1.23.4\n",
      "jupyter_server_fileid         0.9.0\n",
      "jupyter_server_ydoc           0.8.0\n",
      "jupyter-ydoc                  0.2.4\n",
      "jupyterlab                    3.6.3\n",
      "jupyterlab-pygments           0.1.2\n",
      "jupyterlab_server             2.22.0\n",
      "jupyterlab-widgets            3.0.5\n",
      "keras                         2.14.0\n",
      "keyring                       23.13.1\n",
      "kiwisolver                    1.4.4\n",
      "lazy_loader                   0.3\n",
      "lazy-object-proxy             1.6.0\n",
      "lazypredict                   0.2.12\n",
      "libarchive-c                  2.9\n",
      "libclang                      16.0.6\n",
      "libmambapy                    1.5.1\n",
      "lightgbm                      4.1.0\n",
      "linkify-it-py                 2.0.0\n",
      "llvmlite                      0.41.0\n",
      "lmdb                          1.4.1\n",
      "locket                        1.0.0\n",
      "lxml                          4.9.3\n",
      "lz4                           4.3.2\n",
      "Mako                          1.2.4\n",
      "Markdown                      3.4.1\n",
      "markdown-it-py                2.2.0\n",
      "MarkupSafe                    2.1.1\n",
      "matplotlib                    3.7.2\n",
      "matplotlib-inline             0.1.6\n",
      "mccabe                        0.7.0\n",
      "mdit-py-plugins               0.3.0\n",
      "mdurl                         0.1.0\n",
      "menuinst                      1.4.19\n",
      "miniful                       0.0.6\n",
      "missingno                     0.5.2\n",
      "mistune                       0.8.4\n",
      "mkl-fft                       1.3.8\n",
      "mkl-random                    1.2.4\n",
      "mkl-service                   2.4.0\n",
      "ml-dtypes                     0.2.0\n",
      "more-itertools                8.12.0\n",
      "mpmath                        1.3.0\n",
      "msgpack                       1.0.3\n",
      "multidict                     6.0.2\n",
      "multipledispatch              0.6.0\n",
      "munkres                       1.1.4\n",
      "mypy-extensions               1.0.0\n",
      "navigator-updater             0.4.0\n",
      "nbclassic                     0.5.5\n",
      "nbclient                      0.5.13\n",
      "nbconvert                     6.5.4\n",
      "nbformat                      5.9.2\n",
      "nest-asyncio                  1.5.6\n",
      "networkx                      3.1\n",
      "nltk                          3.8.1\n",
      "notebook                      6.5.4\n",
      "notebook_shim                 0.2.2\n",
      "numba                         0.58.0\n",
      "numexpr                       2.8.7\n",
      "numpy                         1.24.3\n",
      "numpydoc                      1.5.0\n",
      "oauthlib                      3.2.2\n",
      "openpyxl                      3.0.10\n",
      "opt-einsum                    3.3.0\n",
      "optuna                        3.4.0\n",
      "packaging                     23.1\n",
      "pandas                        2.0.3\n",
      "pandocfilters                 1.5.0\n",
      "panel                         1.2.3\n",
      "param                         1.13.0\n",
      "paramiko                      2.8.1\n",
      "parsel                        1.6.0\n",
      "parso                         0.8.3\n",
      "partd                         1.4.0\n",
      "pathlib                       1.0.1\n",
      "pathspec                      0.10.3\n",
      "patsy                         0.5.3\n",
      "pep8                          1.7.1\n",
      "pexpect                       4.8.0\n",
      "pickleshare                   0.7.5\n",
      "Pillow                        10.0.1\n",
      "pip                           23.1.2\n",
      "pkce                          1.0.3\n",
      "pkginfo                       1.9.6\n",
      "platformdirs                  3.10.0\n",
      "plotly                        5.9.0\n",
      "pluggy                        1.0.0\n",
      "ply                           3.11\n",
      "poyo                          0.5.0\n",
      "prometheus-client             0.14.1\n",
      "prompt-toolkit                3.0.36\n",
      "Protego                       0.1.16\n",
      "protobuf                      4.24.4\n",
      "psutil                        5.9.0\n",
      "ptyprocess                    0.7.0\n",
      "pure-eval                     0.2.2\n",
      "py-cpuinfo                    8.0.0\n",
      "pyarrow                       11.0.0\n",
      "pyasn1                        0.4.8\n",
      "pyasn1-modules                0.2.8\n",
      "pycodestyle                   2.10.0\n",
      "pycosat                       0.6.6\n",
      "pycparser                     2.21\n",
      "pyct                          0.5.0\n",
      "pycurl                        7.45.2\n",
      "pydantic                      1.10.12\n",
      "PyDispatcher                  2.0.5\n",
      "pydocstyle                    6.3.0\n",
      "pyerfa                        2.0.0\n",
      "pyflakes                      3.0.1\n",
      "pyFUME                        0.2.25\n",
      "Pygments                      2.15.1\n",
      "PyJWT                         2.4.0\n",
      "pylint                        2.16.2\n",
      "pylint-venv                   2.3.0\n",
      "pyls-spyder                   0.4.0\n",
      "PyNaCl                        1.5.0\n",
      "pyodbc                        4.0.39\n",
      "pyOpenSSL                     23.2.0\n",
      "pyparsing                     3.0.9\n",
      "PyQt5                         5.15.7\n",
      "PyQt5-sip                     12.11.0\n",
      "PyQtWebEngine                 5.15.4\n",
      "pyrsistent                    0.18.0\n",
      "PySocks                       1.7.1\n",
      "pytest                        7.4.0\n",
      "python-dateutil               2.8.2\n",
      "python-dotenv                 0.21.0\n",
      "python-json-logger            2.0.7\n",
      "python-lsp-black              1.2.1\n",
      "python-lsp-jsonrpc            1.0.0\n",
      "python-lsp-server             1.7.2\n",
      "python-slugify                5.0.2\n",
      "python-snappy                 0.6.1\n",
      "pytoolconfig                  1.2.5\n",
      "pytz                          2023.3.post1\n",
      "pyviz-comms                   2.3.0\n",
      "PyWavelets                    1.4.1\n",
      "pywin32                       305.1\n",
      "pywin32-ctypes                0.2.0\n",
      "pywinpty                      2.0.10\n",
      "PyYAML                        6.0\n",
      "pyzmq                         23.2.0\n",
      "QDarkStyle                    3.0.2\n",
      "qstylizer                     0.2.2\n",
      "QtAwesome                     1.2.2\n",
      "qtconsole                     5.4.2\n",
      "QtPy                          2.2.0\n",
      "queuelib                      1.6.2\n",
      "regex                         2023.10.3\n",
      "requests                      2.31.0\n",
      "requests-file                 1.5.1\n",
      "requests-oauthlib             1.3.1\n",
      "requests-toolbelt             1.0.0\n",
      "rfc3339-validator             0.1.4\n",
      "rfc3986-validator             0.1.1\n",
      "rope                          1.7.0\n",
      "rsa                           4.9\n",
      "Rtree                         1.0.1\n",
      "ruamel.yaml                   0.17.21\n",
      "ruamel-yaml-conda             0.17.21\n",
      "s3fs                          2023.4.0\n",
      "s3transfer                    0.6.0\n",
      "sacremoses                    0.0.43\n",
      "safetensors                   0.4.0\n",
      "scikeras                      0.12.0\n",
      "scikit-image                  0.20.0\n",
      "scikit-learn                  1.2.2\n",
      "scikit-learn-intelex          20230426.121932\n",
      "scikit-plot                   0.3.7\n",
      "scipy                         1.11.3\n",
      "Scrapy                        2.8.0\n",
      "seaborn                       0.12.2\n",
      "Send2Trash                    1.8.0\n",
      "service-identity              18.1.0\n",
      "setuptools                    67.8.0\n",
      "shap                          0.43.0\n",
      "simpful                       2.11.0\n",
      "sip                           6.6.2\n",
      "six                           1.16.0\n",
      "slicer                        0.0.7\n",
      "smart-open                    5.2.1\n",
      "sniffio                       1.2.0\n",
      "snowballstemmer               2.2.0\n",
      "sortedcontainers              2.4.0\n",
      "soupsieve                     2.5\n",
      "Sphinx                        5.0.2\n",
      "sphinxcontrib-applehelp       1.0.2\n",
      "sphinxcontrib-devhelp         1.0.2\n",
      "sphinxcontrib-htmlhelp        2.0.0\n",
      "sphinxcontrib-jsmath          1.0.1\n",
      "sphinxcontrib-qthelp          1.0.3\n",
      "sphinxcontrib-serializinghtml 1.1.5\n",
      "spyder                        5.4.3\n",
      "spyder-kernels                2.4.4\n",
      "SQLAlchemy                    2.0.21\n",
      "stack-data                    0.2.0\n",
      "statsmodels                   0.14.0\n",
      "stopit                        1.1.2\n",
      "stopwordsiso                  0.6.1\n",
      "sympy                         1.11.1\n",
      "tables                        3.8.0\n",
      "tabulate                      0.8.10\n",
      "TBB                           0.2\n",
      "tblib                         1.7.0\n",
      "tenacity                      8.2.2\n",
      "tensorboard                   2.14.1\n",
      "tensorboard-data-server       0.7.2\n",
      "tensorflow                    2.14.0\n",
      "tensorflow-estimator          2.14.0\n",
      "tensorflow-intel              2.14.0\n",
      "tensorflow-io-gcs-filesystem  0.31.0\n",
      "termcolor                     2.3.0\n",
      "terminado                     0.17.1\n",
      "text-unidecode                1.3\n",
      "textdistance                  4.2.1\n",
      "threadpoolctl                 2.2.0\n",
      "three-merge                   0.1.1\n",
      "tifffile                      2023.4.12\n",
      "tinycss2                      1.2.1\n",
      "tldextract                    3.2.0\n",
      "tokenizers                    0.14.1\n",
      "toml                          0.10.2\n",
      "tomlkit                       0.11.1\n",
      "toolz                         0.12.0\n",
      "torch                         2.1.1\n",
      "tornado                       6.3.3\n",
      "TPOT                          0.12.1\n",
      "tqdm                          4.65.0\n",
      "traitlets                     5.7.1\n",
      "transformers                  4.35.0\n",
      "truststore                    0.8.0\n",
      "Twisted                       22.10.0\n",
      "twisted-iocpsupport           1.0.2\n",
      "typing_extensions             4.7.1\n",
      "tzdata                        2023.3\n",
      "uc-micro-py                   1.0.1\n",
      "ujson                         5.4.0\n",
      "Unidecode                     1.2.0\n",
      "update-checker                0.18.0\n",
      "urllib3                       1.26.16\n",
      "w3lib                         1.21.0\n",
      "watchdog                      2.1.6\n",
      "wcwidth                       0.2.5\n",
      "webencodings                  0.5.1\n",
      "websocket-client              0.58.0\n",
      "Werkzeug                      2.2.3\n",
      "whatthepatch                  1.0.2\n",
      "wheel                         0.38.4\n",
      "widgetsnbextension            4.0.5\n",
      "win-inet-pton                 1.1.0\n",
      "wordcloud                     1.9.2\n",
      "wrapt                         1.14.1\n",
      "xarray                        2023.6.0\n",
      "xgboost                       2.0.2\n",
      "xlwings                       0.29.1\n",
      "xyzservices                   2022.9.0\n",
      "y-py                          0.5.9\n",
      "yapf                          0.31.0\n",
      "yarl                          1.8.1\n",
      "yellowbrick                   1.5\n",
      "ypy-websocket                 0.8.2\n",
      "zict                          3.0.0\n",
      "zipp                          3.11.0\n",
      "zope.interface                5.4.0\n",
      "zstandard                     0.19.0\n",
      "Note: you may need to restart the kernel to use updated packages.\n"
     ]
    }
   ],
   "source": [
    "pip list"
   ]
  },
  {
   "cell_type": "code",
   "execution_count": 87,
   "id": "e34ba37b",
   "metadata": {},
   "outputs": [
    {
     "name": "stdout",
     "output_type": "stream",
     "text": [
      "Requirement already satisfied: scikit-learn==1.2.2 in c:\\users\\habob\\anaconda3\\lib\\site-packages (from -r requirements.txt (line 1)) (1.2.2)\n",
      "Collecting streamlit==1.22.0 (from -r requirements.txt (line 2))\n",
      "  Using cached streamlit-1.22.0-py2.py3-none-any.whl (8.9 MB)\n",
      "Requirement already satisfied: numpy>=1.17.3 in c:\\users\\habob\\anaconda3\\lib\\site-packages (from scikit-learn==1.2.2->-r requirements.txt (line 1)) (1.24.3)\n",
      "Requirement already satisfied: scipy>=1.3.2 in c:\\users\\habob\\anaconda3\\lib\\site-packages (from scikit-learn==1.2.2->-r requirements.txt (line 1)) (1.11.3)\n",
      "Requirement already satisfied: joblib>=1.1.1 in c:\\users\\habob\\anaconda3\\lib\\site-packages (from scikit-learn==1.2.2->-r requirements.txt (line 1)) (1.2.0)\n",
      "Requirement already satisfied: threadpoolctl>=2.0.0 in c:\\users\\habob\\anaconda3\\lib\\site-packages (from scikit-learn==1.2.2->-r requirements.txt (line 1)) (2.2.0)\n",
      "Collecting altair<5,>=3.2.0 (from streamlit==1.22.0->-r requirements.txt (line 2))\n",
      "  Using cached altair-4.2.2-py3-none-any.whl (813 kB)\n",
      "Collecting blinker>=1.0.0 (from streamlit==1.22.0->-r requirements.txt (line 2))\n",
      "  Using cached blinker-1.7.0-py3-none-any.whl (13 kB)\n",
      "Requirement already satisfied: cachetools>=4.0 in c:\\users\\habob\\anaconda3\\lib\\site-packages (from streamlit==1.22.0->-r requirements.txt (line 2)) (5.3.1)\n",
      "Requirement already satisfied: click>=7.0 in c:\\users\\habob\\anaconda3\\lib\\site-packages (from streamlit==1.22.0->-r requirements.txt (line 2)) (8.0.4)\n",
      "Requirement already satisfied: importlib-metadata>=1.4 in c:\\users\\habob\\anaconda3\\lib\\site-packages (from streamlit==1.22.0->-r requirements.txt (line 2)) (6.0.0)\n",
      "Requirement already satisfied: packaging>=14.1 in c:\\users\\habob\\anaconda3\\lib\\site-packages (from streamlit==1.22.0->-r requirements.txt (line 2)) (23.1)\n",
      "Requirement already satisfied: pandas<3,>=0.25 in c:\\users\\habob\\anaconda3\\lib\\site-packages (from streamlit==1.22.0->-r requirements.txt (line 2)) (2.0.3)\n",
      "Requirement already satisfied: pillow>=6.2.0 in c:\\users\\habob\\anaconda3\\lib\\site-packages (from streamlit==1.22.0->-r requirements.txt (line 2)) (10.0.1)\n",
      "Collecting protobuf<4,>=3.12 (from streamlit==1.22.0->-r requirements.txt (line 2))\n",
      "  Using cached protobuf-3.20.3-py2.py3-none-any.whl (162 kB)\n",
      "Requirement already satisfied: pyarrow>=4.0 in c:\\users\\habob\\anaconda3\\lib\\site-packages (from streamlit==1.22.0->-r requirements.txt (line 2)) (11.0.0)\n",
      "Collecting pympler>=0.9 (from streamlit==1.22.0->-r requirements.txt (line 2))\n",
      "  Using cached Pympler-1.0.1-py3-none-any.whl (164 kB)\n",
      "Requirement already satisfied: python-dateutil in c:\\users\\habob\\anaconda3\\lib\\site-packages (from streamlit==1.22.0->-r requirements.txt (line 2)) (2.8.2)\n",
      "Requirement already satisfied: requests>=2.4 in c:\\users\\habob\\anaconda3\\lib\\site-packages (from streamlit==1.22.0->-r requirements.txt (line 2)) (2.31.0)\n",
      "Collecting rich>=10.11.0 (from streamlit==1.22.0->-r requirements.txt (line 2))\n",
      "  Using cached rich-13.7.0-py3-none-any.whl (240 kB)\n",
      "Requirement already satisfied: tenacity<9,>=8.0.0 in c:\\users\\habob\\anaconda3\\lib\\site-packages (from streamlit==1.22.0->-r requirements.txt (line 2)) (8.2.2)\n",
      "Requirement already satisfied: toml in c:\\users\\habob\\anaconda3\\lib\\site-packages (from streamlit==1.22.0->-r requirements.txt (line 2)) (0.10.2)\n",
      "Requirement already satisfied: typing-extensions>=3.10.0.0 in c:\\users\\habob\\anaconda3\\lib\\site-packages (from streamlit==1.22.0->-r requirements.txt (line 2)) (4.7.1)\n",
      "Collecting tzlocal>=1.1 (from streamlit==1.22.0->-r requirements.txt (line 2))\n",
      "  Using cached tzlocal-5.2-py3-none-any.whl (17 kB)\n",
      "Collecting validators>=0.2 (from streamlit==1.22.0->-r requirements.txt (line 2))\n",
      "  Using cached validators-0.22.0-py3-none-any.whl (26 kB)\n",
      "Collecting gitpython!=3.1.19 (from streamlit==1.22.0->-r requirements.txt (line 2))\n",
      "  Using cached GitPython-3.1.40-py3-none-any.whl (190 kB)\n",
      "Collecting pydeck>=0.1.dev5 (from streamlit==1.22.0->-r requirements.txt (line 2))\n",
      "  Using cached pydeck-0.8.1b0-py2.py3-none-any.whl (4.8 MB)\n",
      "Requirement already satisfied: tornado>=6.0.3 in c:\\users\\habob\\anaconda3\\lib\\site-packages (from streamlit==1.22.0->-r requirements.txt (line 2)) (6.3.3)\n",
      "Requirement already satisfied: watchdog in c:\\users\\habob\\anaconda3\\lib\\site-packages (from streamlit==1.22.0->-r requirements.txt (line 2)) (2.1.6)\n",
      "Requirement already satisfied: entrypoints in c:\\users\\habob\\anaconda3\\lib\\site-packages (from altair<5,>=3.2.0->streamlit==1.22.0->-r requirements.txt (line 2)) (0.4)\n",
      "Requirement already satisfied: jinja2 in c:\\users\\habob\\anaconda3\\lib\\site-packages (from altair<5,>=3.2.0->streamlit==1.22.0->-r requirements.txt (line 2)) (3.1.2)\n",
      "Requirement already satisfied: jsonschema>=3.0 in c:\\users\\habob\\anaconda3\\lib\\site-packages (from altair<5,>=3.2.0->streamlit==1.22.0->-r requirements.txt (line 2)) (4.17.3)\n",
      "Requirement already satisfied: toolz in c:\\users\\habob\\anaconda3\\lib\\site-packages (from altair<5,>=3.2.0->streamlit==1.22.0->-r requirements.txt (line 2)) (0.12.0)\n",
      "Requirement already satisfied: colorama in c:\\users\\habob\\anaconda3\\lib\\site-packages (from click>=7.0->streamlit==1.22.0->-r requirements.txt (line 2)) (0.4.6)\n",
      "Collecting gitdb<5,>=4.0.1 (from gitpython!=3.1.19->streamlit==1.22.0->-r requirements.txt (line 2))\n",
      "  Using cached gitdb-4.0.11-py3-none-any.whl (62 kB)\n",
      "Requirement already satisfied: zipp>=0.5 in c:\\users\\habob\\anaconda3\\lib\\site-packages (from importlib-metadata>=1.4->streamlit==1.22.0->-r requirements.txt (line 2)) (3.11.0)\n",
      "Requirement already satisfied: pytz>=2020.1 in c:\\users\\habob\\anaconda3\\lib\\site-packages (from pandas<3,>=0.25->streamlit==1.22.0->-r requirements.txt (line 2)) (2023.3.post1)\n",
      "Requirement already satisfied: tzdata>=2022.1 in c:\\users\\habob\\anaconda3\\lib\\site-packages (from pandas<3,>=0.25->streamlit==1.22.0->-r requirements.txt (line 2)) (2023.3)\n",
      "Requirement already satisfied: six>=1.5 in c:\\users\\habob\\anaconda3\\lib\\site-packages (from python-dateutil->streamlit==1.22.0->-r requirements.txt (line 2)) (1.16.0)\n",
      "Requirement already satisfied: charset-normalizer<4,>=2 in c:\\users\\habob\\anaconda3\\lib\\site-packages (from requests>=2.4->streamlit==1.22.0->-r requirements.txt (line 2)) (2.0.4)\n",
      "Requirement already satisfied: idna<4,>=2.5 in c:\\users\\habob\\anaconda3\\lib\\site-packages (from requests>=2.4->streamlit==1.22.0->-r requirements.txt (line 2)) (3.4)\n",
      "Requirement already satisfied: urllib3<3,>=1.21.1 in c:\\users\\habob\\anaconda3\\lib\\site-packages (from requests>=2.4->streamlit==1.22.0->-r requirements.txt (line 2)) (1.26.16)\n",
      "Requirement already satisfied: certifi>=2017.4.17 in c:\\users\\habob\\anaconda3\\lib\\site-packages (from requests>=2.4->streamlit==1.22.0->-r requirements.txt (line 2)) (2023.7.22)\n",
      "Requirement already satisfied: markdown-it-py>=2.2.0 in c:\\users\\habob\\anaconda3\\lib\\site-packages (from rich>=10.11.0->streamlit==1.22.0->-r requirements.txt (line 2)) (2.2.0)\n",
      "Requirement already satisfied: pygments<3.0.0,>=2.13.0 in c:\\users\\habob\\anaconda3\\lib\\site-packages (from rich>=10.11.0->streamlit==1.22.0->-r requirements.txt (line 2)) (2.15.1)\n",
      "Collecting smmap<6,>=3.0.1 (from gitdb<5,>=4.0.1->gitpython!=3.1.19->streamlit==1.22.0->-r requirements.txt (line 2))\n",
      "  Using cached smmap-5.0.1-py3-none-any.whl (24 kB)\n",
      "Requirement already satisfied: MarkupSafe>=2.0 in c:\\users\\habob\\anaconda3\\lib\\site-packages (from jinja2->altair<5,>=3.2.0->streamlit==1.22.0->-r requirements.txt (line 2)) (2.1.1)\n",
      "Requirement already satisfied: attrs>=17.4.0 in c:\\users\\habob\\anaconda3\\lib\\site-packages (from jsonschema>=3.0->altair<5,>=3.2.0->streamlit==1.22.0->-r requirements.txt (line 2)) (23.1.0)\n",
      "Requirement already satisfied: pyrsistent!=0.17.0,!=0.17.1,!=0.17.2,>=0.14.0 in c:\\users\\habob\\anaconda3\\lib\\site-packages (from jsonschema>=3.0->altair<5,>=3.2.0->streamlit==1.22.0->-r requirements.txt (line 2)) (0.18.0)\n",
      "Requirement already satisfied: mdurl~=0.1 in c:\\users\\habob\\anaconda3\\lib\\site-packages (from markdown-it-py>=2.2.0->rich>=10.11.0->streamlit==1.22.0->-r requirements.txt (line 2)) (0.1.0)\n",
      "Installing collected packages: validators, tzlocal, smmap, pympler, protobuf, blinker, rich, pydeck, gitdb, gitpython, altair, streamlit\n",
      "  Attempting uninstall: protobuf\n",
      "    Found existing installation: protobuf 4.24.4\n",
      "    Uninstalling protobuf-4.24.4:\n",
      "      Successfully uninstalled protobuf-4.24.4\n",
      "Successfully installed altair-4.2.2 blinker-1.7.0 gitdb-4.0.11 gitpython-3.1.40 protobuf-3.20.3 pydeck-0.8.1b0 pympler-1.0.1 rich-13.7.0 smmap-5.0.1 streamlit-1.22.0 tzlocal-5.2 validators-0.22.0\n",
      "Note: you may need to restart the kernel to use updated packages.\n"
     ]
    }
   ],
   "source": [
    "pip install -r requirements.txt"
   ]
  },
  {
   "cell_type": "code",
   "execution_count": 88,
   "id": "364dcaa7",
   "metadata": {},
   "outputs": [
    {
     "name": "stdout",
     "output_type": "stream",
     "text": [
      "Package                       Version\n",
      "----------------------------- ---------------\n",
      "absl-py                       2.0.0\n",
      "aiobotocore                   2.5.0\n",
      "aiofiles                      22.1.0\n",
      "aiohttp                       3.8.5\n",
      "aioitertools                  0.7.1\n",
      "aiosignal                     1.2.0\n",
      "aiosqlite                     0.18.0\n",
      "alabaster                     0.7.12\n",
      "alembic                       1.12.0\n",
      "altair                        4.2.2\n",
      "anaconda-anon-usage           0.4.3\n",
      "anaconda-catalogs             0.2.0\n",
      "anaconda-client               1.11.3\n",
      "anaconda-cloud-auth           0.1.3\n",
      "anaconda-navigator            2.5.0\n",
      "anaconda-project              0.11.1\n",
      "anyio                         3.5.0\n",
      "appdirs                       1.4.4\n",
      "argon2-cffi                   21.3.0\n",
      "argon2-cffi-bindings          21.2.0\n",
      "arrow                         1.2.3\n",
      "astroid                       2.14.2\n",
      "astropy                       5.1\n",
      "asttokens                     2.0.5\n",
      "astunparse                    1.6.3\n",
      "async-timeout                 4.0.2\n",
      "atomicwrites                  1.4.0\n",
      "attrs                         23.1.0\n",
      "Automat                       20.2.0\n",
      "autopep8                      1.6.0\n",
      "Babel                         2.11.0\n",
      "backcall                      0.2.0\n",
      "backports.functools-lru-cache 1.6.4\n",
      "backports.tempfile            1.0\n",
      "backports.weakref             1.0.post1\n",
      "bcrypt                        3.2.0\n",
      "beautifulsoup4                4.12.2\n",
      "binaryornot                   0.4.4\n",
      "black                         0.0\n",
      "bleach                        4.1.0\n",
      "blinker                       1.7.0\n",
      "bokeh                         3.2.1\n",
      "boltons                       23.0.0\n",
      "boto3                         1.26.76\n",
      "botocore                      1.29.76\n",
      "Bottleneck                    1.3.5\n",
      "branca                        0.6.0\n",
      "brotlipy                      0.7.0\n",
      "cachetools                    5.3.1\n",
      "certifi                       2023.7.22\n",
      "cffi                          1.15.1\n",
      "chardet                       4.0.0\n",
      "charset-normalizer            2.0.4\n",
      "click                         8.0.4\n",
      "cloudpickle                   2.2.1\n",
      "clyent                        1.2.2\n",
      "colorama                      0.4.6\n",
      "colorcet                      3.0.1\n",
      "colorlog                      6.7.0\n",
      "comm                          0.1.2\n",
      "conda                         23.9.0\n",
      "conda-build                   3.27.0\n",
      "conda-content-trust           0.2.0\n",
      "conda_index                   0.3.0\n",
      "conda-libmamba-solver         23.9.1\n",
      "conda-pack                    0.6.0\n",
      "conda-package-handling        2.2.0\n",
      "conda_package_streaming       0.9.0\n",
      "conda-repo-cli                1.0.75\n",
      "conda-token                   0.4.0\n",
      "conda-verify                  3.4.2\n",
      "constantly                    15.1.0\n",
      "contourpy                     1.0.5\n",
      "cookiecutter                  1.7.3\n",
      "cryptography                  41.0.3\n",
      "cssselect                     1.1.0\n",
      "cycler                        0.11.0\n",
      "cytoolz                       0.12.0\n",
      "daal4py                       2023.1.1\n",
      "dask                          2023.6.0\n",
      "datashader                    0.15.2\n",
      "datashape                     0.5.4\n",
      "deap                          1.4.1\n",
      "debugpy                       1.6.7\n",
      "decorator                     5.1.1\n",
      "defusedxml                    0.7.1\n",
      "diff-match-patch              20200713\n",
      "dill                          0.3.7\n",
      "distributed                   2023.6.0\n",
      "docstring-to-markdown         0.11\n",
      "docutils                      0.18.1\n",
      "entrypoints                   0.4\n",
      "et-xmlfile                    1.1.0\n",
      "executing                     0.8.3\n",
      "fastjsonschema                2.16.2\n",
      "filelock                      3.9.0\n",
      "flake8                        6.0.0\n",
      "Flask                         2.2.2\n",
      "flatbuffers                   23.5.26\n",
      "folium                        0.14.0\n",
      "fonttools                     4.25.0\n",
      "frozenlist                    1.3.3\n",
      "fsspec                        2023.4.0\n",
      "fst-pso                       1.8.1\n",
      "future                        0.18.3\n",
      "FuzzyTM                       2.0.5\n",
      "gast                          0.5.4\n",
      "gensim                        4.3.0\n",
      "gitdb                         4.0.11\n",
      "GitPython                     3.1.40\n",
      "google-auth                   2.23.3\n",
      "google-auth-oauthlib          1.0.0\n",
      "google-pasta                  0.2.0\n",
      "greenlet                      2.0.1\n",
      "grpcio                        1.59.0\n",
      "h5py                          3.9.0\n",
      "HeapDict                      1.0.1\n",
      "holoviews                     1.17.1\n",
      "huggingface-hub               0.17.3\n",
      "hvplot                        0.8.4\n",
      "hyperlink                     21.0.0\n",
      "idna                          3.4\n",
      "imagecodecs                   2023.1.23\n",
      "imageio                       2.31.4\n",
      "imagesize                     1.4.1\n",
      "imbalanced-learn              0.11.0\n",
      "imblearn                      0.0\n",
      "importlib-metadata            6.0.0\n",
      "incremental                   21.3.0\n",
      "inflection                    0.5.1\n",
      "iniconfig                     1.1.1\n",
      "intake                        0.6.8\n",
      "intervaltree                  3.1.0\n",
      "ipykernel                     6.25.0\n",
      "ipython                       8.15.0\n",
      "ipython-genutils              0.2.0\n",
      "ipywidgets                    8.0.4\n",
      "isort                         5.9.3\n",
      "itemadapter                   0.3.0\n",
      "itemloaders                   1.0.4\n",
      "itsdangerous                  2.0.1\n",
      "jaraco.classes                3.2.1\n",
      "jedi                          0.18.1\n",
      "jellyfish                     1.0.1\n",
      "Jinja2                        3.1.2\n",
      "jinja2-time                   0.2.0\n",
      "jmespath                      0.10.0\n",
      "joblib                        1.2.0\n",
      "json5                         0.9.6\n",
      "jsonpatch                     1.32\n",
      "jsonpointer                   2.1\n",
      "jsonschema                    4.17.3\n",
      "jupyter                       1.0.0\n",
      "jupyter_client                7.4.9\n",
      "jupyter-console               6.6.3\n",
      "jupyter_core                  5.3.0\n",
      "jupyter-events                0.6.3\n",
      "jupyter-server                1.23.4\n",
      "jupyter_server_fileid         0.9.0\n",
      "jupyter_server_ydoc           0.8.0\n",
      "jupyter-ydoc                  0.2.4\n",
      "jupyterlab                    3.6.3\n",
      "jupyterlab-pygments           0.1.2\n",
      "jupyterlab_server             2.22.0\n",
      "jupyterlab-widgets            3.0.5\n",
      "keras                         2.14.0\n",
      "keyring                       23.13.1\n",
      "kiwisolver                    1.4.4\n",
      "lazy_loader                   0.3\n",
      "lazy-object-proxy             1.6.0\n",
      "lazypredict                   0.2.12\n",
      "libarchive-c                  2.9\n",
      "libclang                      16.0.6\n",
      "libmambapy                    1.5.1\n",
      "lightgbm                      4.1.0\n",
      "linkify-it-py                 2.0.0\n",
      "llvmlite                      0.41.0\n",
      "lmdb                          1.4.1\n",
      "locket                        1.0.0\n",
      "lxml                          4.9.3\n",
      "lz4                           4.3.2\n",
      "Mako                          1.2.4\n",
      "Markdown                      3.4.1\n",
      "markdown-it-py                2.2.0\n",
      "MarkupSafe                    2.1.1\n",
      "matplotlib                    3.7.2\n",
      "matplotlib-inline             0.1.6\n",
      "mccabe                        0.7.0\n",
      "mdit-py-plugins               0.3.0\n",
      "mdurl                         0.1.0\n",
      "menuinst                      1.4.19\n",
      "miniful                       0.0.6\n",
      "missingno                     0.5.2\n",
      "mistune                       0.8.4\n",
      "mkl-fft                       1.3.8\n",
      "mkl-random                    1.2.4\n",
      "mkl-service                   2.4.0\n",
      "ml-dtypes                     0.2.0\n",
      "more-itertools                8.12.0\n",
      "mpmath                        1.3.0\n",
      "msgpack                       1.0.3\n",
      "multidict                     6.0.2\n",
      "multipledispatch              0.6.0\n",
      "munkres                       1.1.4\n",
      "mypy-extensions               1.0.0\n",
      "navigator-updater             0.4.0\n",
      "nbclassic                     0.5.5\n",
      "nbclient                      0.5.13\n",
      "nbconvert                     6.5.4\n",
      "nbformat                      5.9.2\n",
      "nest-asyncio                  1.5.6\n",
      "networkx                      3.1\n",
      "nltk                          3.8.1\n",
      "notebook                      6.5.4\n",
      "notebook_shim                 0.2.2\n",
      "numba                         0.58.0\n",
      "numexpr                       2.8.7\n",
      "numpy                         1.24.3\n",
      "numpydoc                      1.5.0\n",
      "oauthlib                      3.2.2\n",
      "openpyxl                      3.0.10\n",
      "opt-einsum                    3.3.0\n",
      "optuna                        3.4.0\n",
      "packaging                     23.1\n",
      "pandas                        2.0.3\n",
      "pandocfilters                 1.5.0\n",
      "panel                         1.2.3\n",
      "param                         1.13.0\n",
      "paramiko                      2.8.1\n",
      "parsel                        1.6.0\n",
      "parso                         0.8.3\n",
      "partd                         1.4.0\n",
      "pathlib                       1.0.1\n",
      "pathspec                      0.10.3\n",
      "patsy                         0.5.3\n",
      "pep8                          1.7.1\n",
      "pexpect                       4.8.0\n",
      "pickleshare                   0.7.5\n",
      "Pillow                        10.0.1\n",
      "pip                           23.1.2\n",
      "pkce                          1.0.3\n",
      "pkginfo                       1.9.6\n",
      "platformdirs                  3.10.0\n",
      "plotly                        5.9.0\n",
      "pluggy                        1.0.0\n",
      "ply                           3.11\n",
      "poyo                          0.5.0\n",
      "prometheus-client             0.14.1\n",
      "prompt-toolkit                3.0.36\n",
      "Protego                       0.1.16\n",
      "protobuf                      3.20.3\n",
      "psutil                        5.9.0\n",
      "ptyprocess                    0.7.0\n",
      "pure-eval                     0.2.2\n",
      "py-cpuinfo                    8.0.0\n",
      "pyarrow                       11.0.0\n",
      "pyasn1                        0.4.8\n",
      "pyasn1-modules                0.2.8\n",
      "pycodestyle                   2.10.0\n",
      "pycosat                       0.6.6\n",
      "pycparser                     2.21\n",
      "pyct                          0.5.0\n",
      "pycurl                        7.45.2\n",
      "pydantic                      1.10.12\n",
      "pydeck                        0.8.1b0\n",
      "PyDispatcher                  2.0.5\n",
      "pydocstyle                    6.3.0\n",
      "pyerfa                        2.0.0\n",
      "pyflakes                      3.0.1\n",
      "pyFUME                        0.2.25\n",
      "Pygments                      2.15.1\n",
      "PyJWT                         2.4.0\n",
      "pylint                        2.16.2\n",
      "pylint-venv                   2.3.0\n",
      "pyls-spyder                   0.4.0\n",
      "Pympler                       1.0.1\n",
      "PyNaCl                        1.5.0\n",
      "pyodbc                        4.0.39\n",
      "pyOpenSSL                     23.2.0\n",
      "pyparsing                     3.0.9\n",
      "PyQt5                         5.15.7\n",
      "PyQt5-sip                     12.11.0\n",
      "PyQtWebEngine                 5.15.4\n",
      "pyrsistent                    0.18.0\n",
      "PySocks                       1.7.1\n",
      "pytest                        7.4.0\n",
      "python-dateutil               2.8.2\n",
      "python-dotenv                 0.21.0\n",
      "python-json-logger            2.0.7\n",
      "python-lsp-black              1.2.1\n",
      "python-lsp-jsonrpc            1.0.0\n",
      "python-lsp-server             1.7.2\n",
      "python-slugify                5.0.2\n",
      "python-snappy                 0.6.1\n",
      "pytoolconfig                  1.2.5\n",
      "pytz                          2023.3.post1\n",
      "pyviz-comms                   2.3.0\n",
      "PyWavelets                    1.4.1\n",
      "pywin32                       305.1\n",
      "pywin32-ctypes                0.2.0\n",
      "pywinpty                      2.0.10\n",
      "PyYAML                        6.0\n",
      "pyzmq                         23.2.0\n",
      "QDarkStyle                    3.0.2\n",
      "qstylizer                     0.2.2\n",
      "QtAwesome                     1.2.2\n",
      "qtconsole                     5.4.2\n",
      "QtPy                          2.2.0\n",
      "queuelib                      1.6.2\n",
      "regex                         2023.10.3\n",
      "requests                      2.31.0\n",
      "requests-file                 1.5.1\n",
      "requests-oauthlib             1.3.1\n",
      "requests-toolbelt             1.0.0\n",
      "rfc3339-validator             0.1.4\n",
      "rfc3986-validator             0.1.1\n",
      "rich                          13.7.0\n",
      "rope                          1.7.0\n",
      "rsa                           4.9\n",
      "Rtree                         1.0.1\n",
      "ruamel.yaml                   0.17.21\n",
      "ruamel-yaml-conda             0.17.21\n",
      "s3fs                          2023.4.0\n",
      "s3transfer                    0.6.0\n",
      "sacremoses                    0.0.43\n",
      "safetensors                   0.4.0\n",
      "scikeras                      0.12.0\n",
      "scikit-image                  0.20.0\n",
      "scikit-learn                  1.2.2\n",
      "scikit-learn-intelex          20230426.121932\n",
      "scikit-plot                   0.3.7\n",
      "scipy                         1.11.3\n",
      "Scrapy                        2.8.0\n",
      "seaborn                       0.12.2\n",
      "Send2Trash                    1.8.0\n",
      "service-identity              18.1.0\n",
      "setuptools                    67.8.0\n",
      "shap                          0.43.0\n",
      "simpful                       2.11.0\n",
      "sip                           6.6.2\n",
      "six                           1.16.0\n",
      "slicer                        0.0.7\n",
      "smart-open                    5.2.1\n",
      "smmap                         5.0.1\n",
      "sniffio                       1.2.0\n",
      "snowballstemmer               2.2.0\n",
      "sortedcontainers              2.4.0\n",
      "soupsieve                     2.5\n",
      "Sphinx                        5.0.2\n",
      "sphinxcontrib-applehelp       1.0.2\n",
      "sphinxcontrib-devhelp         1.0.2\n",
      "sphinxcontrib-htmlhelp        2.0.0\n",
      "sphinxcontrib-jsmath          1.0.1\n",
      "sphinxcontrib-qthelp          1.0.3\n",
      "sphinxcontrib-serializinghtml 1.1.5\n",
      "spyder                        5.4.3\n",
      "spyder-kernels                2.4.4\n",
      "SQLAlchemy                    2.0.21\n",
      "stack-data                    0.2.0\n",
      "statsmodels                   0.14.0\n",
      "stopit                        1.1.2\n",
      "stopwordsiso                  0.6.1\n",
      "streamlit                     1.22.0\n",
      "sympy                         1.11.1\n",
      "tables                        3.8.0\n",
      "tabulate                      0.8.10\n",
      "TBB                           0.2\n",
      "tblib                         1.7.0\n",
      "tenacity                      8.2.2\n",
      "tensorboard                   2.14.1\n",
      "tensorboard-data-server       0.7.2\n",
      "tensorflow                    2.14.0\n",
      "tensorflow-estimator          2.14.0\n",
      "tensorflow-intel              2.14.0\n",
      "tensorflow-io-gcs-filesystem  0.31.0\n",
      "termcolor                     2.3.0\n",
      "terminado                     0.17.1\n",
      "text-unidecode                1.3\n",
      "textdistance                  4.2.1\n",
      "threadpoolctl                 2.2.0\n",
      "three-merge                   0.1.1\n",
      "tifffile                      2023.4.12\n",
      "tinycss2                      1.2.1\n",
      "tldextract                    3.2.0\n",
      "tokenizers                    0.14.1\n",
      "toml                          0.10.2\n",
      "tomlkit                       0.11.1\n",
      "toolz                         0.12.0\n",
      "torch                         2.1.1\n",
      "tornado                       6.3.3\n",
      "TPOT                          0.12.1\n",
      "tqdm                          4.65.0\n",
      "traitlets                     5.7.1\n",
      "transformers                  4.35.0\n",
      "truststore                    0.8.0\n",
      "Twisted                       22.10.0\n",
      "twisted-iocpsupport           1.0.2\n",
      "typing_extensions             4.7.1\n",
      "tzdata                        2023.3\n",
      "tzlocal                       5.2\n",
      "uc-micro-py                   1.0.1\n",
      "ujson                         5.4.0\n",
      "Unidecode                     1.2.0\n",
      "update-checker                0.18.0\n",
      "urllib3                       1.26.16\n",
      "validators                    0.22.0\n",
      "w3lib                         1.21.0\n",
      "watchdog                      2.1.6\n",
      "wcwidth                       0.2.5\n",
      "webencodings                  0.5.1\n",
      "websocket-client              0.58.0\n",
      "Werkzeug                      2.2.3\n",
      "whatthepatch                  1.0.2\n",
      "wheel                         0.38.4\n",
      "widgetsnbextension            4.0.5\n",
      "win-inet-pton                 1.1.0\n",
      "wordcloud                     1.9.2\n",
      "wrapt                         1.14.1\n",
      "xarray                        2023.6.0\n",
      "xgboost                       2.0.2\n",
      "xlwings                       0.29.1\n",
      "xyzservices                   2022.9.0\n",
      "y-py                          0.5.9\n",
      "yapf                          0.31.0\n",
      "yarl                          1.8.1\n",
      "yellowbrick                   1.5\n",
      "ypy-websocket                 0.8.2\n",
      "zict                          3.0.0\n",
      "zipp                          3.11.0\n",
      "zope.interface                5.4.0\n",
      "zstandard                     0.19.0\n",
      "Note: you may need to restart the kernel to use updated packages.\n"
     ]
    }
   ],
   "source": [
    "pip list"
   ]
  },
  {
   "cell_type": "code",
   "execution_count": 89,
   "id": "3cffac19",
   "metadata": {},
   "outputs": [
    {
     "name": "stdout",
     "output_type": "stream",
     "text": [
      "^C\n"
     ]
    }
   ],
   "source": [
    "!streamlit run my_app.py"
   ]
  },
  {
   "cell_type": "code",
   "execution_count": 90,
   "id": "55c72bc0",
   "metadata": {},
   "outputs": [
    {
     "data": {
      "text/plain": [
       "Index(['make_model', 'price', 'km', 'Gears', 'age', 'hp_kW'], dtype='object')"
      ]
     },
     "execution_count": 90,
     "metadata": {},
     "output_type": "execute_result"
    }
   ],
   "source": [
    "df.columns"
   ]
  },
  {
   "cell_type": "code",
   "execution_count": 91,
   "id": "11f45bca",
   "metadata": {},
   "outputs": [
    {
     "data": {
      "text/plain": [
       "make_model\n",
       "Audi A3           2735\n",
       "Opel Insignia     2391\n",
       "Audi A1           2377\n",
       "Opel Astra        2305\n",
       "Opel Corsa        1994\n",
       "Renault Clio      1486\n",
       "Renault Espace     782\n",
       "Name: count, dtype: int64"
      ]
     },
     "execution_count": 91,
     "metadata": {},
     "output_type": "execute_result"
    }
   ],
   "source": [
    "df.make_model.value_counts()"
   ]
  },
  {
   "cell_type": "code",
   "execution_count": 92,
   "id": "0631720b",
   "metadata": {},
   "outputs": [
    {
     "data": {
      "text/plain": [
       "('Audi A3',\n",
       " 'Opel Insignia',\n",
       " 'Audi A1',\n",
       " 'Opel Astra',\n",
       " 'Opel Corsa',\n",
       " 'Renault Clio',\n",
       " 'Renault Espace')"
      ]
     },
     "execution_count": 92,
     "metadata": {},
     "output_type": "execute_result"
    }
   ],
   "source": [
    "'Audi A3', 'Opel Insignia', 'Audi A1', 'Opel Astra', 'Opel Corsa', 'Renault Clio', 'Renault Espace'"
   ]
  },
  {
   "cell_type": "code",
   "execution_count": 93,
   "id": "30a1af9f",
   "metadata": {},
   "outputs": [
    {
     "data": {
      "text/plain": [
       "hp_kW\n",
       "85.000     2237\n",
       "66.000     1935\n",
       "81.000     1261\n",
       "100.000    1242\n",
       "110.000    1008\n",
       "70.000      832\n",
       "125.000     674\n",
       "51.000      609\n",
       "55.000      490\n",
       "118.000     488\n",
       "92.000      388\n",
       "121.000     377\n",
       "77.000      303\n",
       "147.000     263\n",
       "54.000      246\n",
       "103.000     218\n",
       "56.000      209\n",
       "87.000      189\n",
       "88.000      164\n",
       "60.000      160\n",
       "165.000     130\n",
       "162.000      81\n",
       "96.000       70\n",
       "71.000       57\n",
       "74.000       55\n",
       "67.000       36\n",
       "154.000      34\n",
       "101.000      33\n",
       "119.000      30\n",
       "122.000      29\n",
       "135.000      23\n",
       "82.000       21\n",
       "52.000       21\n",
       "78.000       20\n",
       "141.000      16\n",
       "146.000      14\n",
       "120.000       8\n",
       "191.000       7\n",
       "104.000       7\n",
       "112.000       7\n",
       "155.000       6\n",
       "117.000       6\n",
       "184.000       5\n",
       "76.000        4\n",
       "90.000        4\n",
       "65.000        4\n",
       "93.000        3\n",
       "149.000       3\n",
       "168.000       3\n",
       "57.000        3\n",
       "98.000        3\n",
       "80.000        3\n",
       "53.000        2\n",
       "167.000       2\n",
       "127.000       2\n",
       "89.000        2\n",
       "143.000       2\n",
       "86.000        2\n",
       "140.000       2\n",
       "40.000        2\n",
       "63.000        2\n",
       "133.000       1\n",
       "115.000       1\n",
       "132.000       1\n",
       "150.000       1\n",
       "137.000       1\n",
       "164.000       1\n",
       "163.000       1\n",
       "195.000       1\n",
       "84.000        1\n",
       "75.000        1\n",
       "239.000       1\n",
       "123.000       1\n",
       "44.000        1\n",
       "Name: count, dtype: int64"
      ]
     },
     "execution_count": 93,
     "metadata": {},
     "output_type": "execute_result"
    }
   ],
   "source": [
    "df.hp_kW.value_counts()"
   ]
  },
  {
   "cell_type": "code",
   "execution_count": 94,
   "id": "19c81c80",
   "metadata": {},
   "outputs": [
    {
     "data": {
      "text/plain": [
       "239.0"
      ]
     },
     "execution_count": 94,
     "metadata": {},
     "output_type": "execute_result"
    }
   ],
   "source": [
    "df.hp_kW.max()"
   ]
  },
  {
   "cell_type": "code",
   "execution_count": 95,
   "id": "e72eea27",
   "metadata": {},
   "outputs": [
    {
     "data": {
      "text/plain": [
       "40.0"
      ]
     },
     "execution_count": 95,
     "metadata": {},
     "output_type": "execute_result"
    }
   ],
   "source": [
    "df.hp_kW.min()"
   ]
  },
  {
   "cell_type": "code",
   "execution_count": null,
   "id": "4d7930aa",
   "metadata": {},
   "outputs": [],
   "source": []
  }
 ],
 "metadata": {
  "kernelspec": {
   "display_name": "Python 3 (ipykernel)",
   "language": "python",
   "name": "python3"
  },
  "language_info": {
   "codemirror_mode": {
    "name": "ipython",
    "version": 3
   },
   "file_extension": ".py",
   "mimetype": "text/x-python",
   "name": "python",
   "nbconvert_exporter": "python",
   "pygments_lexer": "ipython3",
   "version": "3.11.5"
  }
 },
 "nbformat": 4,
 "nbformat_minor": 5
}
